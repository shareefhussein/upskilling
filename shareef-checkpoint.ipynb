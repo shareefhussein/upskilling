{
 "cells": [
  {
   "cell_type": "code",
   "execution_count": 4,
   "metadata": {},
   "outputs": [
    {
     "name": "stdout",
     "output_type": "stream",
     "text": [
      "5.0\n",
      "<class 'float'>\n"
     ]
    }
   ],
   "source": [
    "#1. Write a Python program to parse a string to Float or Integer. and print the type of them\n",
    "\n",
    "print(float('5'))\n",
    "print(type(float('5')))"
   ]
  },
  {
   "cell_type": "code",
   "execution_count": 5,
   "metadata": {},
   "outputs": [
    {
     "name": "stdout",
     "output_type": "stream",
     "text": [
      "5 7\n"
     ]
    }
   ],
   "source": [
    "#2. Write a Python program to print two values without newline or space.\n",
    "x = 5\n",
    "y = 7\n",
    "print(5,7)"
   ]
  },
  {
   "cell_type": "code",
   "execution_count": 64,
   "metadata": {},
   "outputs": [
    {
     "name": "stdout",
     "output_type": "stream",
     "text": [
      "input a number9\n",
      "divisible by 3\n"
     ]
    }
   ],
   "source": [
    "#3. Write a program that takes an input from the user and checks if it’s divisible by 3 or not.\n",
    "x = input(\"input a number\")\n",
    "if int(x) % 3 == 0 :\n",
    "    print(\"divisible by 3\")\n",
    "else:\n",
    "    print(\"not divisible by 3\")\n",
    "        \n",
    " \n",
    "\n",
    "    \n"
   ]
  },
  {
   "cell_type": "code",
   "execution_count": 37,
   "metadata": {},
   "outputs": [
    {
     "ename": "SyntaxError",
     "evalue": "invalid syntax (<ipython-input-37-f231c13faf3d>, line 6)",
     "output_type": "error",
     "traceback": [
      "\u001b[1;36m  File \u001b[1;32m\"<ipython-input-37-f231c13faf3d>\"\u001b[1;36m, line \u001b[1;32m6\u001b[0m\n\u001b[1;33m    x1 = ((-b+(c**4)/2a))- (3*(a+(b**2))/c)\u001b[0m\n\u001b[1;37m                      ^\u001b[0m\n\u001b[1;31mSyntaxError\u001b[0m\u001b[1;31m:\u001b[0m invalid syntax\n"
     ]
    }
   ],
   "source": [
    "#4. Write a program that reads three integers (a, b, and c), computes the following formulas and\n",
    "#stores the results in the variables x1, x2 and prints the results of the program.\n",
    "a = int(input(\"input the value of a\"))\n",
    "b = int(input(\"input the value of b\"))\n",
    "c = int(input(\"input the value of c\"))\n",
    "x1 = ((-b+(c**4)/2a))- (3*(a+(b**2))/c)\n",
    "x2 = ((a+(b**3))**2/(c-a**2))       \n",
    "print(x1)\n",
    "print(x2)\n"
   ]
  },
  {
   "cell_type": "code",
   "execution_count": 65,
   "metadata": {},
   "outputs": [
    {
     "name": "stdout",
     "output_type": "stream",
     "text": [
      "input 1st num5\n",
      "input 2nd num8\n",
      "8\n"
     ]
    }
   ],
   "source": [
    "#5. Write a program that reads two numbers a and b. Print the maximum value of the two numbers.\n",
    "a = input(\"input 1st num\")\n",
    "b = input(\"input 2nd num\")\n",
    "print(max(a,b))\n"
   ]
  },
  {
   "cell_type": "code",
   "execution_count": 66,
   "metadata": {},
   "outputs": [
    {
     "name": "stdout",
     "output_type": "stream",
     "text": [
      "input 1st num3\n",
      "input 2nd num4\n",
      "input 3rd num5\n",
      "5\n"
     ]
    }
   ],
   "source": [
    "#6.Write a program that reads three input values. Output the maximum value of the three.\n",
    "a = input(\"input 1st num\")\n",
    "b = input(\"input 2nd num\")\n",
    "c = input(\"input 3rd num\")\n",
    "print(max(a,b,c))\n"
   ]
  },
  {
   "cell_type": "code",
   "execution_count": 70,
   "metadata": {},
   "outputs": [
    {
     "name": "stdout",
     "output_type": "stream",
     "text": [
      "1.0\n"
     ]
    }
   ],
   "source": [
    "#7. Write a program that reads two values a and b. If b is 0, output ”b is 0”. Otherwise output the result of the division of a by b (a/b).\n",
    "a = 5\n",
    "b = 5\n",
    "if b==0: \n",
    " print('b is 0')\n",
    "else:\n",
    "    print(a/b)"
   ]
  },
  {
   "cell_type": "code",
   "execution_count": 68,
   "metadata": {},
   "outputs": [],
   "source": [
    "#8. Write a program to convert days into years, weeks and days.\n",
    "days_in_week = 7\n",
    "days_in_year = 365\n"
   ]
  },
  {
   "cell_type": "code",
   "execution_count": 72,
   "metadata": {},
   "outputs": [
    {
     "name": "stdout",
     "output_type": "stream",
     "text": [
      "input c temp5\n",
      "41\n"
     ]
    }
   ],
   "source": [
    "#9. Write a program to read temperature in Celsius and convert it into Fahrenheit.\n",
    "c = int(input(\"input c temp\"))\n",
    "f = int( (9*c+(32*5))/5)\n",
    "print(f)\n",
    "\n"
   ]
  },
  {
   "cell_type": "code",
   "execution_count": null,
   "metadata": {},
   "outputs": [],
   "source": [
    "#10. Write a program that reads two oat number and stores their values in variable x and y. the\n",
    "#program then computes the value (x2 −y2) = (x−y) , stores the result in stores the result in a\n",
    "#float named z and print the value of z. if the computation division by zero, the program must\n",
    "#avoid that by printing an error message and exiting before computing the formula."
   ]
  },
  {
   "cell_type": "code",
   "execution_count": null,
   "metadata": {},
   "outputs": [],
   "source": [
    "#11. As you know Python has no switch statements so, Write a complete Python application that\n",
    "#asks the user to enter an integer Q-Range (”deviation IQ”) and output the IQ Classification\n",
    "#according to the following table:\n",
    "#Q Range (”deviation IQ”) -> IQ Classification\n",
    "#130 and above -> Very Superior\n",
    "#120 - 129 -> Superior\n",
    "#110 - 119 -> High Average\n",
    "#90 - 109 -> Average\n",
    "#80 - 89 -> Low Average\n",
    "#70 - 79 -> Borderline\n",
    "#69 and below -> Extremely Low"
   ]
  },
  {
   "cell_type": "code",
   "execution_count": 49,
   "metadata": {},
   "outputs": [
    {
     "ename": "SyntaxError",
     "evalue": "invalid syntax (<ipython-input-49-9ab0ee575816>, line 11)",
     "output_type": "error",
     "traceback": [
      "\u001b[1;36m  File \u001b[1;32m\"<ipython-input-49-9ab0ee575816>\"\u001b[1;36m, line \u001b[1;32m11\u001b[0m\n\u001b[1;33m    elif 80<x<90:\u001b[0m\n\u001b[1;37m       ^\u001b[0m\n\u001b[1;31mSyntaxError\u001b[0m\u001b[1;31m:\u001b[0m invalid syntax\n"
     ]
    }
   ],
   "source": [
    "#12. Write a program that classifies a student marks as follows:\n",
    "#[90 − 100] : A\n",
    "#[80 − 90] : B\n",
    "#[70 − 80] : C\n",
    "#[60 − 70] : D\n",
    "#[50 − 60] : E\n",
    "#[0 − 50] : F\n",
    "x = int(input(\"input a number\"))\n",
    "if  90<x<100:\n",
    "    print(\"A\")\n",
    "    elif 80<x<90:\n",
    "        print(\"B\")\n",
    "        elif 70<x<80:\n",
    "            print(\"C\")\n",
    "            elif 60<x<70:\n",
    "                print(\"D\")\n",
    "                elif 50<x<60:\n",
    "                    print(\"E\")\n",
    "                    else:\n",
    "                        print(\"f\")\n",
    "                        \n",
    "\n",
    "    \n",
    "    "
   ]
  },
  {
   "cell_type": "code",
   "execution_count": 1,
   "metadata": {
    "scrolled": true
   },
   "outputs": [
    {
     "name": "stdout",
     "output_type": "stream",
     "text": [
      "input the 1st int5\n",
      "input the 2nd int5\n",
      "input the 3rd int5\n",
      " the 3 inputs are equal\n"
     ]
    }
   ],
   "source": [
    "#13. Write a program that tests whether the formula a2 + b2 = c2 is true for three integers entered as input\n",
    "a =input('input the 1st int')\n",
    "b =input('input the 2nd int')\n",
    "c =input('input the 3rd int')\n",
    "if a==b and a==c and b==c:\n",
    "    print(\" the 3 inputs are equal\")\n",
    "    \n"
   ]
  },
  {
   "cell_type": "code",
   "execution_count": null,
   "metadata": {},
   "outputs": [],
   "source": [
    "#14. Write a Python program to check whether an alphabet is vowel or consonant."
   ]
  },
  {
   "cell_type": "code",
   "execution_count": 2,
   "metadata": {},
   "outputs": [
    {
     "name": "stdout",
     "output_type": "stream",
     "text": [
      "input any number5\n",
      "odd number\n"
     ]
    }
   ],
   "source": [
    "#15. Write a Python program to check whether a number is even or odd.\n",
    "number = int(input('input any number'))\n",
    "x = int(number/2)*2\n",
    "if (x == number):\n",
    " print('even number')\n",
    "else:\n",
    "    print('odd number')\n",
    "    "
   ]
  },
  {
   "cell_type": "code",
   "execution_count": 73,
   "metadata": {},
   "outputs": [],
   "source": [
    "#16. Write a Python program to display the current date and time. Sample Output : Current date and time : 2019-07-05 21:25:48\n"
   ]
  },
  {
   "cell_type": "code",
   "execution_count": 18,
   "metadata": {},
   "outputs": [
    {
     "name": "stdout",
     "output_type": "stream",
     "text": [
      "input the circle radius5\n",
      "78.5\n"
     ]
    }
   ],
   "source": [
    "#17. Write a Python program which accepts the radius of a circle from the user and compute the area; Sample Output :\n",
    "#r = 1.1\n",
    "#Area = 3.8013271108436504\n",
    "x = int(input(\"input the circle radius\"))\n",
    "y = 2\n",
    "area = 3.14*(x**2)\n",
    "print(area)\n"
   ]
  },
  {
   "cell_type": "code",
   "execution_count": 1,
   "metadata": {},
   "outputs": [
    {
     "name": "stdout",
     "output_type": "stream",
     "text": [
      "input your first and last nameshareef mansour\n",
      "['r', 'u', 'o', 's', 'n', 'a', 'm', ' ', 'f', 'e', 'e', 'r', 'a', 'h', 's']\n"
     ]
    }
   ],
   "source": [
    "#18. Write a Python program which accepts the user’s first and last name and print them in reverse order.\n",
    "x = input('input your first and last name')\n",
    "\n",
    "print(list(reversed(x)))\n",
    "\n",
    "      \n",
    "\n"
   ]
  },
  {
   "cell_type": "code",
   "execution_count": 4,
   "metadata": {},
   "outputs": [
    {
     "ename": "SyntaxError",
     "evalue": "EOL while scanning string literal (<ipython-input-4-8e7ec8ec4673>, line 6)",
     "output_type": "error",
     "traceback": [
      "\u001b[1;36m  File \u001b[1;32m\"<ipython-input-4-8e7ec8ec4673>\"\u001b[1;36m, line \u001b[1;32m6\u001b[0m\n\u001b[1;33m    print('sample input=' + a+ b+ c+ 'sample output:' +'the examination will start from: + a ,'/', b ,'/',c, '/')\u001b[0m\n\u001b[1;37m                                                                                                                 ^\u001b[0m\n\u001b[1;31mSyntaxError\u001b[0m\u001b[1;31m:\u001b[0m EOL while scanning string literal\n"
     ]
    }
   ],
   "source": [
    "#19. Write a Python program to read a three numbers from the user and display them as follow. Sample Input = (11, 12, 2019) Sample Output : The examination will start from :\n",
    "#11 / 12 /2019\n",
    "a = input('input the 1st num')\n",
    "b = input('input the 2nd num')\n",
    "c = input('input the 3rd num')\n",
    "print('sample input=' + '(' + a , b, c +')'\n",
    "\n"
   ]
  },
  {
   "cell_type": "code",
   "execution_count": 24,
   "metadata": {},
   "outputs": [
    {
     "name": "stdout",
     "output_type": "stream",
     "text": [
      "input the value of n4\n",
      "84\n"
     ]
    }
   ],
   "source": [
    "#20. Write a Python program that accepts an integer (n) and computes the value of n + nn + nnn.\n",
    "#Sample value of n is 5\n",
    "#Expected Result : 615\n",
    "n = int(input(\"input the value of n\"))\n",
    "x = n + (n*n) + (n*n*n)\n",
    "print(x)\n",
    "\n",
    "\n",
    "\n"
   ]
  },
  {
   "cell_type": "code",
   "execution_count": null,
   "metadata": {},
   "outputs": [],
   "source": [
    "21. Write a Python program to print the documentation of a Python built-in function(s)."
   ]
  },
  {
   "cell_type": "code",
   "execution_count": null,
   "metadata": {},
   "outputs": [],
   "source": [
    "22. Write a Python program to print the following here document. Go to the editor; Sample string\n",
    ":\n",
    "”a string that you ”don’t” have to escape\n",
    "This\n",
    "is a ....... multi-line\n",
    "heredoc string ——–> example”"
   ]
  },
  {
   "cell_type": "code",
   "execution_count": 10,
   "metadata": {},
   "outputs": [
    {
     "name": "stdout",
     "output_type": "stream",
     "text": [
      "11\n"
     ]
    }
   ],
   "source": [
    "#23. Write a Python program to calculate number of days between two dates; Sample dates : (2014,\n",
    "#7, 2), (2014, 7, 11)\n",
    "#Expected output : 9 days\n",
    "from datetime import date\n",
    "date1 = date(2016,8,2)\n",
    "date2 = date(2016,8,13)\n",
    "delta = date2 - date1\n",
    "print(delta.days)\n"
   ]
  },
  {
   "cell_type": "code",
   "execution_count": 50,
   "metadata": {},
   "outputs": [
    {
     "name": "stdout",
     "output_type": "stream",
     "text": [
      "input the radius5\n",
      "523.3333333333333\n"
     ]
    }
   ],
   "source": [
    "#24. Write a Python program to get the volume of a sphere with a given radius.\n",
    "import math\n",
    "r = int(input(\"input the radius\"))\n",
    "x = 3.14\n",
    "volum = ((4/3)*(x*(r**3)))\n",
    "print(volum)\n",
    "         \n",
    "         \n",
    "         \n",
    "\n"
   ]
  },
  {
   "cell_type": "code",
   "execution_count": 15,
   "metadata": {},
   "outputs": [
    {
     "name": "stdout",
     "output_type": "stream",
     "text": [
      "6\n"
     ]
    }
   ],
   "source": [
    "#25. Write a Python program to get the difference between a given number and 17, if the number\n",
    "#is greater than 17 return double the absolute difference\n",
    "x = 20\n",
    "y = 17\n",
    "if x>y:\n",
    "    print((abs(x-y))*2)\n",
    "          \n",
    "          \n"
   ]
  },
  {
   "cell_type": "code",
   "execution_count": 29,
   "metadata": {},
   "outputs": [
    {
     "name": "stdout",
     "output_type": "stream",
     "text": [
      "input a number50\n",
      "250.0\n"
     ]
    }
   ],
   "source": [
    "#26. Write a Python program to test whether a number is within (less than) 100 or 1000 or 2000\n",
    "#and print the value divided by 5 and multiplied by 25.\n",
    "num = int(input(\"input a number\"))\n",
    "if num <100 or num <1000 or num< 2000:\n",
    "   print((num/5)*25)\n",
    "else:\n",
    "  print(\"the number is not less than 100 or 1000 or 2000\")\n",
    "\n",
    "\n"
   ]
  },
  {
   "cell_type": "code",
   "execution_count": 5,
   "metadata": {},
   "outputs": [
    {
     "name": "stdout",
     "output_type": "stream",
     "text": [
      "a and b and c are not equal\n"
     ]
    }
   ],
   "source": [
    "#27. Write a Python program to calculate the sum of three given numbers, if the values are equal\n",
    "#then return three times of their sum.\n",
    "a = 2\n",
    "b = 3\n",
    "c = 3\n",
    "if a==b and a==c and b==c:\n",
    "    print((a+b+c)*3)\n",
    "else:\n",
    "    print(\"a and b and c are not equal\")\n",
    "    \n",
    "\n"
   ]
  },
  {
   "cell_type": "code",
   "execution_count": 6,
   "metadata": {},
   "outputs": [
    {
     "name": "stdout",
     "output_type": "stream",
     "text": [
      "the value of x after swapping: 63\n",
      "the value of y after swapping 50\n"
     ]
    }
   ],
   "source": [
    "#28. Write a Python program to swap the values of two given numbers\n",
    "x = 50\n",
    "y = 63\n",
    "temp = x\n",
    "x = y\n",
    "y = temp\n",
    "print(\"the value of x after swapping:\", x )\n",
    "print(\"the value of y after swapping\", y)\n",
    "\n"
   ]
  },
  {
   "cell_type": "code",
   "execution_count": null,
   "metadata": {},
   "outputs": [],
   "source": [
    "#29. Write a Python program to check whether a specified value is contained in a group of values\n",
    "#or if a character is given in a string; Test Data :\n",
    "#3 -> [1, 5, 8, 3] : True\n",
    "#-1 -> [1, 5, 8, 3] : False"
   ]
  },
  {
   "cell_type": "code",
   "execution_count": 7,
   "metadata": {},
   "outputs": [
    {
     "name": "stdout",
     "output_type": "stream",
     "text": [
      "input the base5\n",
      "input the height5\n",
      "12\n"
     ]
    }
   ],
   "source": [
    "#30. Write a Python program that will accept the base and height of a triangle and compute the area.\n",
    "base = int(input('input the base'))\n",
    "height = int(input('input the height'))\n",
    "x = 0.5\n",
    "area = x*base*height\n",
    "print(int(area))\n"
   ]
  },
  {
   "cell_type": "code",
   "execution_count": 9,
   "metadata": {},
   "outputs": [
    {
     "name": "stdout",
     "output_type": "stream",
     "text": [
      "sum = 0\n"
     ]
    }
   ],
   "source": [
    "#31. Write a Python program to sum of three given integers. However, if two values are equal sum\n",
    "#will be zero.\n",
    "a = 4\n",
    "b = 4\n",
    "c = 6\n",
    "if a==b or a==c or b==c:\n",
    "    print(\"sum = 0\")\n",
    "else:\n",
    "    print(a+b+c)\n",
    "    "
   ]
  },
  {
   "cell_type": "code",
   "execution_count": 10,
   "metadata": {},
   "outputs": [
    {
     "name": "stdout",
     "output_type": "stream",
     "text": [
      "210\n"
     ]
    }
   ],
   "source": [
    "#32. Write a Python program to sum of two given integers. However, if the sum is between\n",
    "#15 to 20 it will return 20. 30 to 40 it will return 50. 150 to 167 it will return 210.\n",
    "a = 20\n",
    "b = 30\n",
    "sum = a+b\n",
    "if 15<sum<20:\n",
    "    print(\"20\")\n",
    "elif 30<sum<40:\n",
    "    print(\"50\")\n",
    "else:\n",
    "     print(\"210\")\n",
    "\n"
   ]
  },
  {
   "cell_type": "code",
   "execution_count": 57,
   "metadata": {},
   "outputs": [
    {
     "name": "stdout",
     "output_type": "stream",
     "text": [
      "True\n"
     ]
    }
   ],
   "source": [
    "#33. Write a Python program that will return true if the two given integer values are equal or their\n",
    "#sum or difference is 5.\n",
    "a = 5\n",
    "b = 5\n",
    "sum = a+b\n",
    "dif = abs(a - b)\n",
    "if a == b:\n",
    "    print(\"True\")\n",
    "elif sum ==5:\n",
    "    print(\"True\")\n",
    "else:\n",
    "    print(\"False\")\n",
    "    \n"
   ]
  },
  {
   "cell_type": "code",
   "execution_count": 17,
   "metadata": {},
   "outputs": [
    {
     "name": "stdout",
     "output_type": "stream",
     "text": [
      "input the 1st num5\n",
      "input the 2nd num5\n",
      "100\n"
     ]
    }
   ],
   "source": [
    "#34. Write a Python program to solve (x + y) ∗ (x + y), x and y are an inputs; Expected Output :\n",
    "#((4 + 3)2) = 49\n",
    "x = int(input(\"input the 1st num\"))\n",
    "y = int(input(\"input the 2nd num\"))\n",
    "result= (x+y)*(x+y)\n",
    "print(result)\n"
   ]
  },
  {
   "cell_type": "code",
   "execution_count": null,
   "metadata": {},
   "outputs": [],
   "source": [
    "#35. Write a Python program to compute the future value of a specified principal amount, rate of\n",
    "#interest, and a number of years.\n",
    "#Test Data : amt = 10000, int = 3.5, years = 7\n",
    "#Expected Output : 12722.79"
   ]
  },
  {
   "cell_type": "code",
   "execution_count": 18,
   "metadata": {},
   "outputs": [
    {
     "name": "stdout",
     "output_type": "stream",
     "text": [
      "3.1622776601683795\n"
     ]
    }
   ],
   "source": [
    "#36. Write a Python program to compute the distance between the points (x1, y1) and (x2, y2).\n",
    "#(the distance between two points calculated using Phythagoros theorem)\n",
    "import math\n",
    "p1 = [5,9]\n",
    "p2 = [8,10]\n",
    "distance = math.sqrt(((p1[0]-p2[0])**2)+((p1[1]-p2[1])**2))\n",
    "print(distance)\n"
   ]
  },
  {
   "cell_type": "code",
   "execution_count": null,
   "metadata": {},
   "outputs": [],
   "source": [
    "#37. Write a program to get execution time for a Python command. (Use the Jupyter’s magic\n",
    "#commands)"
   ]
  },
  {
   "cell_type": "code",
   "execution_count": 42,
   "metadata": {
    "scrolled": true
   },
   "outputs": [
    {
     "name": "stdout",
     "output_type": "stream",
     "text": [
      "input your height:\n",
      "feet:5\n",
      "inches:5\n",
      "your height is : 159 cm.\n"
     ]
    }
   ],
   "source": [
    "#38. Write a Python program to convert height (in feet and inches) to centimeters.\n",
    "print(\"input your height:\")\n",
    "h_ft = int(input(\"feet:\"))\n",
    "h_inch = int(input(\"inches:\"))\n",
    "h_inch += h_ft * 12\n",
    "h_cm = round(h_inch*2.45,1)\n",
    "print(\"your height is : %d cm.\" %h_cm)\n"
   ]
  },
  {
   "cell_type": "code",
   "execution_count": null,
   "metadata": {},
   "outputs": [],
   "source": [
    "#39. Write a Python program to calculate the hypotenuse of a right-angled triangle."
   ]
  },
  {
   "cell_type": "code",
   "execution_count": 35,
   "metadata": {},
   "outputs": [
    {
     "name": "stdout",
     "output_type": "stream",
     "text": [
      "input distance in feet50\n",
      "distance in inches 600\n",
      "distance in yards 16.666666666666668\n",
      "distance in miles 0.00946969696969697\n"
     ]
    }
   ],
   "source": [
    "#40. Write a Python program to convert the distance (in feet) to inches, yards, and miles.\n",
    "d_ft = int(input(\"input distance in feet\"))\n",
    "d_inches = d_ft*12\n",
    "d_yards = d_ft/3.0\n",
    "d_miles = d_ft / 5280.0\n",
    "print(\"distance in inches\", d_inches)\n",
    "print(\"distance in yards\", d_yards)\n",
    "print(\"distance in miles\", d_miles)"
   ]
  },
  {
   "cell_type": "code",
   "execution_count": null,
   "metadata": {},
   "outputs": [],
   "source": [
    "#41. Write a Python program to convert the distance (in Minuets) to days, months, and years.\n"
   ]
  },
  {
   "cell_type": "code",
   "execution_count": null,
   "metadata": {},
   "outputs": [],
   "source": [
    "#42. Write a Python program to convert the distance (in Years) months, and days.\n"
   ]
  },
  {
   "cell_type": "code",
   "execution_count": 45,
   "metadata": {},
   "outputs": [
    {
     "name": "stdout",
     "output_type": "stream",
     "text": [
      "input your height in meters:5\n",
      "input your weight in kilo:5\n",
      "your body mass index is: 0.2\n"
     ]
    }
   ],
   "source": [
    "#43. Write a Python program to calculate body mass index for a give height and Weight.\n",
    "height = float(input(\"input your height in meters:\"))\n",
    "weight = float(input(\"input your weight in kilo:\"))\n",
    "print(\"your body mass index is:\" ,round(weight/(height*height),2))"
   ]
  },
  {
   "cell_type": "code",
   "execution_count": 20,
   "metadata": {},
   "outputs": [
    {
     "name": "stdout",
     "output_type": "stream",
     "text": [
      "[1, 3, 4, 5, 7]\n"
     ]
    }
   ],
   "source": [
    "#44. Write a Python program to sort five given integers and print them\n",
    "numbers = [1,3,5,4,7]\n",
    "numbers.sort()\n",
    "print(numbers)\n",
    "\n"
   ]
  },
  {
   "cell_type": "code",
   "execution_count": null,
   "metadata": {},
   "outputs": [],
   "source": [
    "45. Write a Python program to get the details (documentation) of the math module."
   ]
  },
  {
   "cell_type": "code",
   "execution_count": 48,
   "metadata": {},
   "outputs": [
    {
     "name": "stdout",
     "output_type": "stream",
     "text": [
      "the ASCII value of ais 97\n"
     ]
    }
   ],
   "source": [
    "#46. Write a Python program to get the ASCII code of a given character\n",
    "x = 'a'\n",
    "print(\"the ASCII value of \" + x + \"is\", ord(x))\n"
   ]
  },
  {
   "cell_type": "code",
   "execution_count": null,
   "metadata": {},
   "outputs": [],
   "source": [
    "47. Write a Python program to find the available built-in modules. (built-in modules doesn’t\n",
    "require to be PIP’ed install)"
   ]
  },
  {
   "cell_type": "code",
   "execution_count": null,
   "metadata": {},
   "outputs": [],
   "source": [
    "#48. Write a Python program to get the size of an object in bytes.\n",
    "\n"
   ]
  },
  {
   "cell_type": "code",
   "execution_count": null,
   "metadata": {},
   "outputs": [],
   "source": [
    "#49. Write a Python program to concatenate 4 given strings."
   ]
  },
  {
   "cell_type": "code",
   "execution_count": null,
   "metadata": {},
   "outputs": [],
   "source": [
    "#50. Write a Python program to check if a string is numeric (all it’s values are numeric)."
   ]
  },
  {
   "cell_type": "code",
   "execution_count": null,
   "metadata": {},
   "outputs": [],
   "source": [
    "#51. Write a Python program to clear the screen or terminal"
   ]
  },
  {
   "cell_type": "code",
   "execution_count": 51,
   "metadata": {},
   "outputs": [
    {
     "name": "stdout",
     "output_type": "stream",
     "text": [
      "enter any number: 5\n",
      "positive\n"
     ]
    }
   ],
   "source": [
    "#52. Write a Python program to check if a number is positive, negative or zero.\n",
    "num = float(input(\"enter any number: \"))\n",
    "if num>0:\n",
    "    print(\"positive\")\n",
    "elif num == 0:\n",
    "    print(\"zero\")\n",
    "else:\n",
    "    print(\"negative\")\n",
    "    \n"
   ]
  },
  {
   "cell_type": "code",
   "execution_count": null,
   "metadata": {},
   "outputs": [],
   "source": [
    "#53. Write a Python program to input a number, if it is not a number generate an error message.\n"
   ]
  },
  {
   "cell_type": "code",
   "execution_count": null,
   "metadata": {},
   "outputs": [],
   "source": [
    "#54. Write a Python program to prove that two string variables of same value point same memor location\n"
   ]
  },
  {
   "cell_type": "code",
   "execution_count": null,
   "metadata": {},
   "outputs": [],
   "source": [
    "#55. Write a Python program to prove that two string variables are equals.\n",
    "string1 = [5,4,3,2,1]\n",
    "string2= [8,7,9,8,6]\n"
   ]
  },
  {
   "cell_type": "code",
   "execution_count": null,
   "metadata": {},
   "outputs": [],
   "source": [
    "56. Write a Python program to empty a variable without destroying it. Sample data:\n",
    "n=20\n",
    "Expected Output : None"
   ]
  },
  {
   "cell_type": "code",
   "execution_count": 32,
   "metadata": {},
   "outputs": [
    {
     "ename": "NameError",
     "evalue": "name 'S' is not defined",
     "output_type": "error",
     "traceback": [
      "\u001b[1;31m---------------------------------------------------------------------------\u001b[0m",
      "\u001b[1;31mNameError\u001b[0m                                 Traceback (most recent call last)",
      "\u001b[1;32m<ipython-input-32-9e8b143b8fb8>\u001b[0m in \u001b[0;36m<module>\u001b[1;34m\u001b[0m\n\u001b[0;32m      1\u001b[0m \u001b[1;31m#57. Write a Python program to check if lowercase letters exist in a string.\u001b[0m\u001b[1;33m\u001b[0m\u001b[1;33m\u001b[0m\u001b[1;33m\u001b[0m\u001b[0m\n\u001b[1;32m----> 2\u001b[1;33m \u001b[0mstring\u001b[0m \u001b[1;33m=\u001b[0m \u001b[1;33m[\u001b[0m \u001b[0mS\u001b[0m \u001b[1;33m,\u001b[0m\u001b[0mG\u001b[0m\u001b[1;33m,\u001b[0m \u001b[0mH\u001b[0m\u001b[1;33m,\u001b[0m \u001b[0mC\u001b[0m\u001b[1;33m,\u001b[0m \u001b[0mb\u001b[0m\u001b[1;33m]\u001b[0m\u001b[1;33m\u001b[0m\u001b[1;33m\u001b[0m\u001b[0m\n\u001b[0m\u001b[0;32m      3\u001b[0m \u001b[0mprint\u001b[0m\u001b[1;33m(\u001b[0m\u001b[0mstring\u001b[0m\u001b[1;33m.\u001b[0m\u001b[0mislower\u001b[0m\u001b[1;33m(\u001b[0m\u001b[1;33m)\u001b[0m\u001b[1;33m)\u001b[0m\u001b[1;33m\u001b[0m\u001b[1;33m\u001b[0m\u001b[0m\n\u001b[0;32m      4\u001b[0m \u001b[1;33m\u001b[0m\u001b[0m\n\u001b[0;32m      5\u001b[0m \u001b[1;33m\u001b[0m\u001b[0m\n",
      "\u001b[1;31mNameError\u001b[0m: name 'S' is not defined"
     ]
    }
   ],
   "source": [
    "#57. Write a Python program to check if lowercase letters exist in a string.\n",
    "string = [ S ,G, H, C, b]\n",
    "print(string.islower())\n",
    "\n",
    "\n"
   ]
  },
  {
   "cell_type": "code",
   "execution_count": 59,
   "metadata": {},
   "outputs": [
    {
     "ename": "NameError",
     "evalue": "name 'ljust' is not defined",
     "output_type": "error",
     "traceback": [
      "\u001b[1;31m---------------------------------------------------------------------------\u001b[0m",
      "\u001b[1;31mNameError\u001b[0m                                 Traceback (most recent call last)",
      "\u001b[1;32m<ipython-input-59-90de83d3a692>\u001b[0m in \u001b[0;36m<module>\u001b[1;34m\u001b[0m\n\u001b[0;32m      2\u001b[0m \u001b[1;33m\u001b[0m\u001b[0m\n\u001b[0;32m      3\u001b[0m \u001b[0mstring\u001b[0m \u001b[1;33m=\u001b[0m \u001b[1;36m12345\u001b[0m\u001b[1;33m\u001b[0m\u001b[1;33m\u001b[0m\u001b[0m\n\u001b[1;32m----> 4\u001b[1;33m \u001b[0mhelp\u001b[0m \u001b[1;33m(\u001b[0m\u001b[0mljust\u001b[0m\u001b[1;33m)\u001b[0m\u001b[1;33m\u001b[0m\u001b[1;33m\u001b[0m\u001b[0m\n\u001b[0m",
      "\u001b[1;31mNameError\u001b[0m: name 'ljust' is not defined"
     ]
    }
   ],
   "source": [
    "#58. Write a Python program to add leading zeroes to a string.\n",
    "\n"
   ]
  },
  {
   "cell_type": "code",
   "execution_count": null,
   "metadata": {},
   "outputs": [],
   "source": [
    "#59. Write a Python program to calculate the time runs (difference between start and current time) of a program.\n"
   ]
  },
  {
   "cell_type": "code",
   "execution_count": 26,
   "metadata": {},
   "outputs": [
    {
     "name": "stdout",
     "output_type": "stream",
     "text": [
      "input your BIN number3\n",
      "0b11\n"
     ]
    }
   ],
   "source": [
    "#60. Write a Python program to convert an integer to binary keep leading zeros.\n",
    "#Sample data : 50\n",
    "#Expected output : 00001100, 0000001100\n",
    "x = int(input(\"input your BIN number\"))\n",
    "bin(x)\n",
    "print(bin(x))\n",
    "\n",
    "\n"
   ]
  },
  {
   "cell_type": "code",
   "execution_count": 2,
   "metadata": {},
   "outputs": [
    {
     "name": "stdout",
     "output_type": "stream",
     "text": [
      "input 1st num5\n",
      "input 2nd num8\n"
     ]
    }
   ],
   "source": [
    "#61. Write a Python program to input two integers in a single line.\n",
    "x= int(input(\"input 1st num\")) ; y = int(input(\"input 2nd num\"))\n",
    "       \n",
    "\n"
   ]
  },
  {
   "cell_type": "code",
   "execution_count": 4,
   "metadata": {},
   "outputs": [
    {
     "name": "stdout",
     "output_type": "stream",
     "text": [
      "input the decimal num52\n",
      "0x34\n"
     ]
    }
   ],
   "source": [
    "#62. Write a python program to convert decimal to hexadecimal.\n",
    "#Sample decimal number: 30, 4\n",
    "#Expected output: 1e, 04\n",
    "x = int(input(\"input the decimal num\"))\n",
    "hex(x)\n",
    "print(hex(x))\n"
   ]
  },
  {
   "cell_type": "code",
   "execution_count": 61,
   "metadata": {},
   "outputs": [
    {
     "name": "stdout",
     "output_type": "stream",
     "text": [
      "0\n",
      "98\n"
     ]
    }
   ],
   "source": [
    "#63. Write a Python function to find the maximum and minimum numbers from a sequence of\n",
    "#numbers.\n",
    "#Note: Do not use built-in functions.\n",
    "x = [5,2,0,52,47,98]\n",
    "print(min(x))\n",
    "print(max(x))\n",
    "\n"
   ]
  }
 ],
 "metadata": {
  "kernelspec": {
   "display_name": "Python 3",
   "language": "python",
   "name": "python3"
  },
  "language_info": {
   "codemirror_mode": {
    "name": "ipython",
    "version": 3
   },
   "file_extension": ".py",
   "mimetype": "text/x-python",
   "name": "python",
   "nbconvert_exporter": "python",
   "pygments_lexer": "ipython3",
   "version": "3.7.3"
  }
 },
 "nbformat": 4,
 "nbformat_minor": 2
}
