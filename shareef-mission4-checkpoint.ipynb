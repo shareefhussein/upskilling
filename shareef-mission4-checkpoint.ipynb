{
 "cells": [
  {
   "cell_type": "markdown",
   "metadata": {},
   "source": [
    "1. Write a Python program to find the second largest number in a list."
   ]
  },
  {
   "cell_type": "code",
   "execution_count": 22,
   "metadata": {},
   "outputs": [
    {
     "name": "stdout",
     "output_type": "stream",
     "text": [
      "input a list of numbers: 45 2632 8\n",
      "45\n"
     ]
    }
   ],
   "source": [
    "x = input(\"input a list of numbers separated with spaces : \")\n",
    "x = x.split(\" \")\n",
    "max1 = max(x[0],x[1])\n",
    "max2 = min(x[0],x[1])\n",
    "for i in range(2,len(x)):\n",
    "    if x[i] > max1:\n",
    "        max2 = max1\n",
    "        max1 = x[i]\n",
    "    else:\n",
    "        if x[i]>max2:\n",
    "            max2 = x[i]\n",
    "print(max2)                 "
   ]
  },
  {
   "cell_type": "markdown",
   "metadata": {},
   "source": [
    "2. Write a Python program to find the index of the second largest number in a list."
   ]
  },
  {
   "cell_type": "code",
   "execution_count": null,
   "metadata": {},
   "outputs": [],
   "source": [
    "x = input(\"input a list of numbers: \")\n",
    "x = x.split()\n",
    "max1 = max(x[0],x[1])\n",
    "max2 = min(x[0],x[1])\n",
    "for i in range(2,len(x)):\n",
    "    if x[i] > max1:\n",
    "        max2 = max1\n",
    "        max1 = x[i]\n",
    "        \n",
    "    else:\n",
    "        if x[i]>max2:\n",
    "            max2 = x[i]\n",
    "print(x.index(max2))       "
   ]
  },
  {
   "cell_type": "markdown",
   "metadata": {},
   "source": [
    "3. Write a Python program to check a container is empty or not."
   ]
  },
  {
   "cell_type": "code",
   "execution_count": 5,
   "metadata": {},
   "outputs": [
    {
     "name": "stdout",
     "output_type": "stream",
     "text": [
      "input a list: \n",
      "empty list\n"
     ]
    }
   ],
   "source": [
    "lis = input(\"input a list: \")\n",
    "print(lis if lis else 'empty list')"
   ]
  },
  {
   "cell_type": "markdown",
   "metadata": {},
   "source": [
    "4. Write a Python program using Sieve of Eratosthenes method for computing primes upto a\n",
    "specified number.\n",
    "Note: In mathematics, the sieve of Eratosthenes,one of a number of prime number sieves, is a\n",
    "simple, ancient algorithm for finding all prime numbers up to any given limit."
   ]
  },
  {
   "cell_type": "code",
   "execution_count": 19,
   "metadata": {},
   "outputs": [
    {
     "name": "stdout",
     "output_type": "stream",
     "text": [
      "['1', '2']\n",
      "['3', '4']\n"
     ]
    }
   ],
   "source": [
    "x = ['1','2','3','4']  "
   ]
  },
  {
   "cell_type": "markdown",
   "metadata": {},
   "source": [
    "5. Given a list slice it into a 3 equal chunks and print each list."
   ]
  },
  {
   "cell_type": "code",
   "execution_count": 1,
   "metadata": {},
   "outputs": [
    {
     "name": "stdout",
     "output_type": "stream",
     "text": [
      "['1', '2', '8']\n",
      "['88', '545', '11']\n",
      "['8', '8', '7']\n"
     ]
    }
   ],
   "source": [
    "x = ['1','2','8','88','545','11','8','8','7']\n",
    "n = 3\n",
    "for i in range(0,len(x),n):\n",
    "     print(x[i:i+n]) "
   ]
  },
  {
   "cell_type": "markdown",
   "metadata": {},
   "source": [
    "6. Write a Python program to sort a list in descending order."
   ]
  },
  {
   "cell_type": "code",
   "execution_count": 11,
   "metadata": {},
   "outputs": [
    {
     "name": "stdout",
     "output_type": "stream",
     "text": [
      "[98, 7, 5, 2, 1]\n"
     ]
    }
   ],
   "source": [
    "list= [1 ,2, 5 ,98, 7]\n",
    "list.sort(reverse=True)\n",
    "print(list)"
   ]
  },
  {
   "cell_type": "markdown",
   "metadata": {},
   "source": [
    "7. Write a Python program to reverse a list."
   ]
  },
  {
   "cell_type": "code",
   "execution_count": 31,
   "metadata": {},
   "outputs": [
    {
     "name": "stdout",
     "output_type": "stream",
     "text": [
      "[10, 9, 7, 8, 6, 5, 2]\n"
     ]
    }
   ],
   "source": [
    "x = [2,5,6,8,7,9,10]\n",
    "x.reverse()\n",
    "print(x)"
   ]
  },
  {
   "cell_type": "markdown",
   "metadata": {},
   "source": [
    "8. Write a Python program to flatten a 2-D list."
   ]
  },
  {
   "cell_type": "code",
   "execution_count": 122,
   "metadata": {},
   "outputs": [
    {
     "name": "stdout",
     "output_type": "stream",
     "text": [
      "[1, 2, 3, 4, 5, 6]\n"
     ]
    }
   ],
   "source": [
    "list_2d = [[1,2,3],[4,5,6]]\n",
    "x = []\n",
    "for i in list_2d:\n",
    "    x.extend(i)\n",
    "print(x)"
   ]
  },
  {
   "cell_type": "markdown",
   "metadata": {},
   "source": [
    "9. Given an input list removes the element at index 4 and add it to the 2nd position and also at\n",
    "the end of the list."
   ]
  },
  {
   "cell_type": "code",
   "execution_count": 39,
   "metadata": {},
   "outputs": [
    {
     "name": "stdout",
     "output_type": "stream",
     "text": [
      "[1, 26, 80, 3, 40, 51, 78, 80]\n"
     ]
    }
   ],
   "source": [
    "x = [1,26,3,40,80,51,78]\n",
    "y = x.pop(4)\n",
    "x.append(y)\n",
    "x.insert(2,y)\n",
    "print(x)"
   ]
  },
  {
   "cell_type": "markdown",
   "metadata": {},
   "source": [
    "10. Given a two list of equal size create a set such that it shows only the common elements from\n",
    "both lists."
   ]
  },
  {
   "cell_type": "code",
   "execution_count": 11,
   "metadata": {},
   "outputs": [
    {
     "name": "stdout",
     "output_type": "stream",
     "text": [
      "{1, 3, 69, 7}\n"
     ]
    }
   ],
   "source": [
    "x1 = [1,2,3,10,69,7]\n",
    "x2 = [1,3,5,7,4,69,0]\n",
    "my_set = set(x2)\n",
    "print(my_set.intersection(x1,x2))"
   ]
  },
  {
   "cell_type": "markdown",
   "metadata": {},
   "source": [
    "11. Given a two list of equal size create a tuple such that it shows elements from both lists in pairs"
   ]
  },
  {
   "cell_type": "code",
   "execution_count": 136,
   "metadata": {},
   "outputs": [
    {
     "name": "stdout",
     "output_type": "stream",
     "text": [
      "((1, 20), (1, 4), (1, 3), (5, 20), (5, 4), (5, 3), (100, 20), (100, 4), (100, 3))\n"
     ]
    }
   ],
   "source": [
    "x1 = [1, 5, 100]\n",
    "x2 = [20, 4, 3]\n",
    "new = [(a,b) for a in x1 for b in x2]\n",
    "new =tuple(new)\n",
    "print(new)"
   ]
  },
  {
   "cell_type": "markdown",
   "metadata": {},
   "source": [
    "12. Write a Python program to iterate and extract all key-value pair of a dictionary and print\n",
    "them."
   ]
  },
  {
   "cell_type": "code",
   "execution_count": 97,
   "metadata": {},
   "outputs": [
    {
     "name": "stdout",
     "output_type": "stream",
     "text": [
      "dict_items([('name', 'x'), ('ip', 123456), ('age', 22)])\n"
     ]
    }
   ],
   "source": [
    "d1 = { 'name' : 'x', 'ip' : 123456, 'age' : 22 }\n",
    "print(d1.items())"
   ]
  },
  {
   "cell_type": "markdown",
   "metadata": {},
   "source": [
    "13. Iterate a given list and Check if a given element already exists in a dictionary as a key’s value\n",
    "if not delete it from the list."
   ]
  },
  {
   "cell_type": "code",
   "execution_count": 22,
   "metadata": {},
   "outputs": [
    {
     "name": "stdout",
     "output_type": "stream",
     "text": [
      "input any key: d\n",
      "present value =  man "
     ]
    }
   ],
   "source": [
    "dic_1 = {'a':'cat', 'b':502, 'c':456, 'd':'man'}\n",
    "key = input(\"input any key: \")\n",
    "if key in dic_1.keys():\n",
    "    print('present','value = ', dic_1[key],end=\" \")\n",
    "else:\n",
    "    print('key does not appear in the dictionary')"
   ]
  },
  {
   "cell_type": "markdown",
   "metadata": {},
   "source": [
    "14. Given a dictionary get all values from the dictionary and add it in a list but don’t add duplicates."
   ]
  },
  {
   "cell_type": "code",
   "execution_count": 43,
   "metadata": {},
   "outputs": [
    {
     "name": "stdout",
     "output_type": "stream",
     "text": [
      "[{'audi', 'aircraft', 'gun'}]\n"
     ]
    }
   ],
   "source": [
    "dic = {'car' : 'audi' , 'plane' : 'aircraft', 'weapon' : 'gun', 'weapon2': 'gun'}\n",
    "li1 = []\n",
    "x = [set(dic.values())]\n",
    "print(x)"
   ]
  },
  {
   "cell_type": "markdown",
   "metadata": {},
   "source": [
    "15. Write a Python program which accepts a sequence of comma-separated numbers from user and\n",
    "generate a list and tuple with those numbers.\n",
    "Sample data : 3, 5, 7, 23\n",
    "Output :\n",
    "List : [’3’, ’ 5’, ’ 7’, ’ 23’]\n",
    "Tuple : (’3’, ’ 5’, ’ 7’, ’ 23’)"
   ]
  },
  {
   "cell_type": "code",
   "execution_count": 14,
   "metadata": {},
   "outputs": [
    {
     "name": "stdout",
     "output_type": "stream",
     "text": [
      "input comma seperated numbers: 1,2,3\n",
      "list: ['1', '2', '3']\n",
      "tuple: ('1', '2', '3')\n"
     ]
    }
   ],
   "source": [
    "my_list = input(\"input comma seperated numbers: \")\n",
    "my_list = my_list.split(',')\n",
    "tup = tuple(my_list)\n",
    "print( 'list:',my_list)\n",
    "print('tuple:', tup)"
   ]
  },
  {
   "cell_type": "markdown",
   "metadata": {},
   "source": [
    "16. Write a Python program to count the number 4 in a given list."
   ]
  },
  {
   "cell_type": "code",
   "execution_count": 14,
   "metadata": {},
   "outputs": [
    {
     "name": "stdout",
     "output_type": "stream",
     "text": [
      "4\n"
     ]
    }
   ],
   "source": [
    "x = [4,4,4,56,8,4]\n",
    "print(x.count(4))"
   ]
  },
  {
   "cell_type": "markdown",
   "metadata": {},
   "source": [
    "17. Write a Python program to print all even numbers from a given numbers list in the same order\n",
    "and stop the printing if any numbers that come after 237 in the sequence.\n",
    "Sample numbers list :\n",
    "numbers = [386, 462, 47, 418, 907, 344, 236, 375, 823, 566, 597, 978, 328, 615, 953, 345, 399,\n",
    "162, 758, 219, 918, 237, 412, 566, 826, 248, 866, 950, 626, 949, 687, 217, 815, 67, 104, 58, 512,\n",
    "24, 892, 894, 767, 553, 81, 379, 843, 831, 445, 742, 717, 958, 743, 527]"
   ]
  },
  {
   "cell_type": "code",
   "execution_count": 44,
   "metadata": {
    "scrolled": true
   },
   "outputs": [
    {
     "name": "stdout",
     "output_type": "stream",
     "text": [
      "386 462 418 344 236 566 978 328 162 758 918 237\n"
     ]
    }
   ],
   "source": [
    "numbers = [386, 462, 47, 418, 907, 344, 236, 375, 823, 566, 597, 978, 328, 615, 953, 345, 399,\n",
    "162, 758, 219, 918, 237, 412, 566, 826, 248, 866, 950, 626, 949, 687, 217, 815, 67, 104, 58, 512,\n",
    "24, 892, 894, 767, 553, 81, 379, 843, 831, 445, 742, 717, 958, 743, 527]\n",
    "for i in numbers:\n",
    "    if i == 237:\n",
    "        print(i)\n",
    "        break\n",
    "    elif i%2 ==0:\n",
    "        print(i,end=' ')"
   ]
  },
  {
   "cell_type": "markdown",
   "metadata": {},
   "source": [
    "18. Write a Python program to print the length of the series and the series starting from the 3rd\n",
    "term, ending at the 3rd last term and the sum of a series."
   ]
  },
  {
   "cell_type": "code",
   "execution_count": 3,
   "metadata": {},
   "outputs": [
    {
     "name": "stdout",
     "output_type": "stream",
     "text": [
      "input the 3rd term of a series: 3\n",
      "input the last 3 terms of a series: 6\n",
      "input the sum term of a series: 36\n",
      "the length of the series:  8\n",
      "series: \n",
      "1 2 3 4 5 6 7 8 "
     ]
    }
   ],
   "source": [
    "third = int(input(\"input the 3rd term of a series: \"))\n",
    "last3 = int(input(\"input the last 3 terms of a series: \"))\n",
    "sums = int(input(\"input the sum term of a series: \"))\n",
    "n = int(2*sums/(third+last3))\n",
    "print(\"the length of the series: \",n)\n",
    "\n",
    "if n-5==0:\n",
    "    d = (sums-3*third)//6\n",
    "else:\n",
    "    d = (last3-third)/(n-5)\n",
    "a = third-2*d\n",
    "j = 0\n",
    "print(\"series: \")\n",
    "for j in range(n-1):\n",
    "    print(int(a),end=' ')\n",
    "    a+=d\n",
    "print(int(a),end=' ')"
   ]
  },
  {
   "cell_type": "markdown",
   "metadata": {},
   "source": [
    "19. Write a Python program to get a list, sorted in increasing order by the last element in each\n",
    "tuple from a given list of non-empty tuples.\n",
    "Sample List : [(2, 5), (1, 2), (4, 4), (2, 3), (2, 1)]\n",
    "Expected Result : [(2, 1), (1, 2), (2, 3), (4, 4), (2, 5)]"
   ]
  },
  {
   "cell_type": "code",
   "execution_count": 123,
   "metadata": {},
   "outputs": [],
   "source": [
    "li = [(2,5),(5,7),(8,9),(80,0)]"
   ]
  },
  {
   "cell_type": "markdown",
   "metadata": {},
   "source": [
    "20. Write a Python program to create a list by concatenating a given list which range goes from 1\n",
    "to n.\n",
    "Sample list : [’p’, ’q’] „„ n = 5\n",
    "Sample Output : [’p1’, ’q1’, ’p2’, ’q2’, ’p3’, ’q3’, ’p4’, ’q4’, ’p5’, ’q5’]"
   ]
  },
  {
   "cell_type": "code",
   "execution_count": null,
   "metadata": {},
   "outputs": [],
   "source": [
    "s1 = input(\"input\")\n",
    "n = int(input(\"input any number: \"))\n",
    "s2 = ['{}{}'.format(x,y) for y in range(1,n+1) for x in s1]\n",
    "print(s2)"
   ]
  },
  {
   "cell_type": "markdown",
   "metadata": {},
   "source": [
    "21. Write a Python program to find the biggest row sum of a given matrix."
   ]
  },
  {
   "cell_type": "code",
   "execution_count": 75,
   "metadata": {},
   "outputs": [
    {
     "name": "stdout",
     "output_type": "stream",
     "text": [
      "90\n"
     ]
    }
   ],
   "source": [
    "m =[[10,10,10],\n",
    "    [20,20,20],\n",
    "    [30,30,30]]\n",
    "rowss = 0\n",
    "col = 0\n",
    "max_row = 0\n",
    "for i in range(len(m)):\n",
    "    for j in range(len(m)):\n",
    "        row += int(m[i][j])\n",
    "        if row>max_row:\n",
    "            max_row = row \n",
    "    row=0   \n",
    "print(max_row)    "
   ]
  },
  {
   "cell_type": "markdown",
   "metadata": {},
   "source": [
    "22. Write a Python program to find the biggest column Multiplication of a matrix."
   ]
  },
  {
   "cell_type": "code",
   "execution_count": 83,
   "metadata": {},
   "outputs": [
    {
     "name": "stdout",
     "output_type": "stream",
     "text": [
      "24\n"
     ]
    }
   ],
   "source": [
    "  m =[[7,10,2],\n",
    "     [3,1,2],\n",
    "     [1,0,6]]\n",
    "row = 0\n",
    "col = 1\n",
    "max_col = 0\n",
    "\n",
    "for i in range(len(m)):\n",
    "    for j in range(len(m)):\n",
    "        col *= int(m[j][i])\n",
    "        if col >max_col:\n",
    "            max_col = col \n",
    "    col =1\n",
    "print(max_col)    "
   ]
  },
  {
   "cell_type": "markdown",
   "metadata": {},
   "source": [
    "23. Write a guessing game where the user must guess a secret number. After every guess the\n",
    "program tells the user whether their number was too large or too small. At the end the number\n",
    "of tries needed should be printed. It counts only as one try if they input the same number\n",
    "multiple times consecutively."
   ]
  },
  {
   "cell_type": "code",
   "execution_count": 9,
   "metadata": {},
   "outputs": [
    {
     "name": "stdout",
     "output_type": "stream",
     "text": [
      "please enter your guess: 230\n",
      "your guess is too high: Try Again\n",
      "please enter your guess: 100\n",
      "your guess is too low: Try Again\n",
      "please enter your guess: 200\n",
      "number of tries is: 2\n"
     ]
    }
   ],
   "source": [
    "hidden = 200\n",
    "number_of_tries = 0\n",
    "guess = int(input(\"please enter your guess: \"))\n",
    "if guess == hidden:\n",
    "    print(\"good job!\")\n",
    "\n",
    "while  guess < hidden or guess > hidden :\n",
    "    if guess < hidden:\n",
    "        print(\"your guess is too low: Try Again\")\n",
    "        guess = int(input(\"please enter your guess: \"))\n",
    "        number_of_tries +=1\n",
    "    else:\n",
    "        print(\"your guess is too high: Try Again\")\n",
    "        guess = int(input(\"please enter your guess: \"))\n",
    "        number_of_tries +=1\n",
    "        \n",
    "  \n",
    "    \n",
    "print('number of tries is:', number_of_tries)\n"
   ]
  },
  {
   "cell_type": "markdown",
   "metadata": {},
   "source": [
    "24. Write a python program to transpose a matrix."
   ]
  },
  {
   "cell_type": "code",
   "execution_count": 16,
   "metadata": {},
   "outputs": [
    {
     "name": "stdout",
     "output_type": "stream",
     "text": [
      "[12, 0, 8]\n",
      "[7, 5, 9]\n"
     ]
    }
   ],
   "source": [
    "x = [[12,7],\n",
    "    [0,5],\n",
    "    [8,9]]\n",
    "result = [[0,0,0],\n",
    "         [0,0,0]]\n",
    "for i in range(len(x)):\n",
    "    for j in range(len(x[0])):\n",
    "        result[j][i] = x[i][j]\n",
    "for r in result:\n",
    "    print(r)"
   ]
  },
  {
   "cell_type": "markdown",
   "metadata": {},
   "source": [
    "25. Write a python program to perform a 2 matrix multiplication (following the algebra rules of\n",
    "matrix multiplication)."
   ]
  },
  {
   "cell_type": "code",
   "execution_count": 169,
   "metadata": {},
   "outputs": [
    {
     "name": "stdout",
     "output_type": "stream",
     "text": [
      "[6, 12, 18]\n",
      "[15, 30, 45]\n",
      "[24, 48, 72]\n"
     ]
    }
   ],
   "source": [
    "x = [[1,2,3],\n",
    "    [4,5,6],\n",
    "    [7,8,9]]\n",
    "\n",
    "y = [[1,2,3],\n",
    "     [1,2,3],\n",
    "     [1,2,3]]\n",
    "\n",
    "re =[[0,0,0],\n",
    "    [0,0,0],\n",
    "    [0,0,0]]\n",
    "\n",
    "for i in range(len(x)):\n",
    "    for j in range(len(y)):\n",
    "         for k in range(len(y)):\n",
    "                re[i][j] += x[i][k] * y[k][j]\n",
    "\n",
    "for r in re:\n",
    "    print(r)"
   ]
  },
  {
   "cell_type": "markdown",
   "metadata": {},
   "source": [
    "26. Write a python program to inverse a matrix."
   ]
  },
  {
   "cell_type": "code",
   "execution_count": null,
   "metadata": {},
   "outputs": [],
   "source": [
    "################################################"
   ]
  },
  {
   "cell_type": "markdown",
   "metadata": {},
   "source": [
    "27. Write a Python program to print all permutations of a sequence of numbers."
   ]
  },
  {
   "cell_type": "code",
   "execution_count": 35,
   "metadata": {},
   "outputs": [
    {
     "name": "stdout",
     "output_type": "stream",
     "text": [
      "<itertools.permutations object at 0x000001DAF7EB9468>\n",
      "(50, 20, 70, 90) -> 50207090\n",
      "(50, 20, 90, 70) -> 50209070\n",
      "(50, 70, 20, 90) -> 50702090\n",
      "(50, 70, 90, 20) -> 50709020\n",
      "(50, 90, 20, 70) -> 50902070\n",
      "(50, 90, 70, 20) -> 50907020\n",
      "(20, 50, 70, 90) -> 20507090\n",
      "(20, 50, 90, 70) -> 20509070\n",
      "(20, 70, 50, 90) -> 20705090\n",
      "(20, 70, 90, 50) -> 20709050\n",
      "(20, 90, 50, 70) -> 20905070\n",
      "(20, 90, 70, 50) -> 20907050\n",
      "(70, 50, 20, 90) -> 70502090\n",
      "(70, 50, 90, 20) -> 70509020\n",
      "(70, 20, 50, 90) -> 70205090\n",
      "(70, 20, 90, 50) -> 70209050\n",
      "(70, 90, 50, 20) -> 70905020\n",
      "(70, 90, 20, 50) -> 70902050\n",
      "(90, 50, 20, 70) -> 90502070\n",
      "(90, 50, 70, 20) -> 90507020\n",
      "(90, 20, 50, 70) -> 90205070\n",
      "(90, 20, 70, 50) -> 90207050\n",
      "(90, 70, 50, 20) -> 90705020\n",
      "(90, 70, 20, 50) -> 90702050\n"
     ]
    }
   ],
   "source": [
    "import itertools\n",
    "print(itertools.permutations([50,20,70,90]))\n",
    "for p in (itertools.permutations([50,20,70,90])):\n",
    "    print(p,'->',''.join(str(x) for x in p))"
   ]
  },
  {
   "cell_type": "markdown",
   "metadata": {},
   "source": [
    "28. Write a Python program to sort (ascending and descending) a dictionary by its values."
   ]
  },
  {
   "cell_type": "code",
   "execution_count": 61,
   "metadata": {},
   "outputs": [
    {
     "name": "stdout",
     "output_type": "stream",
     "text": [
      "[('animal1', 'pat'), ('animal2', 'horse'), ('animal3', 'cat'), ('animal4', 'turtle')]\n"
     ]
    }
   ],
   "source": [
    "d1 = {'animal1':'pat','animal2':'horse','animal3':'cat','animal4':'turtle'}\n",
    "lst = d1.values()\n",
    "d1 = sorted(d1.items())\n",
    "print(d1)\n"
   ]
  },
  {
   "cell_type": "markdown",
   "metadata": {},
   "source": [
    "29. Write a Python program to remove duplicates from Dictionary values."
   ]
  },
  {
   "cell_type": "code",
   "execution_count": 63,
   "metadata": {},
   "outputs": [
    {
     "name": "stdout",
     "output_type": "stream",
     "text": [
      "{'turtle', 'dog', 'cat'}\n"
     ]
    }
   ],
   "source": [
    "d1 = {'animal1':'cat','animal2':'dog','animal3':'turtle','animal4':'turtle'}\n",
    "d2 = set(d1.values())\n",
    "print(d2)"
   ]
  },
  {
   "cell_type": "markdown",
   "metadata": {},
   "source": [
    "30. Write a Python program to print all unique values in a dictionary with their keys.\n",
    "Sample Data : [”V”:”S001”, ”V”: ”S002”, ”VI”: ”S001”, ”VI”: ”S005”, ”VII”:”S005”,\n",
    "”V”:”S009”,”VIII”:”S007”]\n",
    "Expected Output : Unique Values: ’S005’, ’S002’, ’S007’, ’S001’, ’S009’"
   ]
  },
  {
   "cell_type": "code",
   "execution_count": 36,
   "metadata": {},
   "outputs": [],
   "source": [
    "d1 = { '1':1  ,  '2':5  ,  '1':4  , '2':7 , '3':10  ,'4':1 }"
   ]
  },
  {
   "cell_type": "markdown",
   "metadata": {},
   "source": [
    "31. Write a Python program to find the keys of the highest 3 values in a dictionary."
   ]
  },
  {
   "cell_type": "code",
   "execution_count": 37,
   "metadata": {},
   "outputs": [],
   "source": [
    "d1 = { '1':1  ,  '2':5  ,  '1':4  , '2':7 , '3':10  ,'4':1 }"
   ]
  },
  {
   "cell_type": "markdown",
   "metadata": {},
   "source": [
    "32. Given a list, traverse it and count the occurrence of each element and create a dictionary to\n",
    "show the count of each element."
   ]
  },
  {
   "cell_type": "code",
   "execution_count": 100,
   "metadata": {},
   "outputs": [
    {
     "name": "stdout",
     "output_type": "stream",
     "text": [
      "{'x': 2, 'y': 1, 'z': 1, 's': 3}\n"
     ]
    }
   ],
   "source": [
    "letters = ['x','x','y','z','s','s','s']\n",
    "d = {}\n",
    "for letter in letters:\n",
    "    d[letter] = (d.get(letter,0))+1\n",
    "print(d)"
   ]
  },
  {
   "cell_type": "markdown",
   "metadata": {},
   "source": [
    "33. Given two sets find the intersection and remove the resulted elements from the first set."
   ]
  },
  {
   "cell_type": "code",
   "execution_count": 11,
   "metadata": {},
   "outputs": [
    {
     "data": {
      "text/plain": [
       "{2, 3}"
      ]
     },
     "execution_count": 11,
     "metadata": {},
     "output_type": "execute_result"
    }
   ],
   "source": [
    "s1 = {3,2,5,7,3}\n",
    "s2 = {3,5,10,20,7}\n",
    "my_set= {5,5,7}\n",
    "my_set.intersection(s2,s1).symmetric_difference(s1)\n"
   ]
  },
  {
   "cell_type": "markdown",
   "metadata": {},
   "source": [
    "34. Given two sets, Checks if One Set is subset or superset of Another Set. if it is a subset, delete\n",
    "all elements (not the set) from that set."
   ]
  },
  {
   "cell_type": "code",
   "execution_count": 7,
   "metadata": {},
   "outputs": [
    {
     "name": "stdout",
     "output_type": "stream",
     "text": [
      "True\n",
      "set()\n"
     ]
    }
   ],
   "source": [
    "s2 = {1,2,5,8,9,10,11,12}\n",
    "s1 = {1,5,9,8,10,12,5}\n",
    "\n",
    "if s1.issubset(s2):\n",
    "    print(True)\n",
    "    s1.clear()\n",
    "    print(s1)\n",
    "else:\n",
    "    print(\"s2 is a subset of s1\")"
   ]
  },
  {
   "cell_type": "markdown",
   "metadata": {},
   "source": [
    "35. Write a Python program to print out a set containing all the item from list_1 which are not\n",
    "present in list_2.\n",
    "Test Data :\n",
    "list_1 = [”White”, ”Black”, ”Red”]\n",
    "list_2 = [”Red”, ”Green”]\n",
    "Expected Output : ’Black’, ’White’"
   ]
  },
  {
   "cell_type": "code",
   "execution_count": 42,
   "metadata": {},
   "outputs": [
    {
     "data": {
      "text/plain": [
       "{'black', 'white'}"
      ]
     },
     "execution_count": 42,
     "metadata": {},
     "output_type": "execute_result"
    }
   ],
   "source": [
    "list_1 = ['white','black','red']\n",
    "list_2 = ['red','green']\n",
    "list_1 = set(list_1)\n",
    "list_2 = set(list_2)\n",
    "list_1.difference(list_2)"
   ]
  },
  {
   "cell_type": "markdown",
   "metadata": {},
   "source": [
    "36. Write a Python program to find a distinct pair of numbers whose all product are odd from a\n",
    "sequence of integer values.\n",
    "Sample Input: [1, 4, 7, 3]\n",
    "Sample Output:\n",
    "1, 3\n",
    "1, 7\n",
    "3, 7"
   ]
  },
  {
   "cell_type": "code",
   "execution_count": 6,
   "metadata": {},
   "outputs": [
    {
     "name": "stdout",
     "output_type": "stream",
     "text": [
      "1 , 7\n",
      "1 , 3\n",
      "7 , 7\n",
      "7 , 3\n",
      "3 , 7\n",
      "3 , 3\n"
     ]
    }
   ],
   "source": [
    "num = [1,4,7,3]\n",
    "for i in range(0,len(num)):\n",
    "    for j in range(1,len(num)):\n",
    "        if (num[i]*num[j]) % 2 != 0:\n",
    "            print(num[i],',',num[j])   "
   ]
  },
  {
   "cell_type": "markdown",
   "metadata": {},
   "source": [
    "37. Write a Python program to compute the summation of the absolute difference of all distinct\n",
    "pairs in an given array (non-decreasing order).\n",
    "Sample array: [1, 2, 3]\n",
    "Then all the distinct pairs will be:\n",
    "1 2\n",
    "1 3\n",
    "2 3\n",
    "Sample Output: 1 + 2 + 1 = 4"
   ]
  },
  {
   "cell_type": "code",
   "execution_count": 128,
   "metadata": {},
   "outputs": [
    {
     "name": "stdout",
     "output_type": "stream",
     "text": [
      "4\n"
     ]
    }
   ],
   "source": [
    "num = [1,2,3]\n",
    "diff = 0\n",
    "for i in range(0,len(num)):\n",
    "    for j in range(i):\n",
    "        diff = diff +abs(num[i] - num[j])      \n",
    "print(diff)"
   ]
  },
  {
   "cell_type": "markdown",
   "metadata": {},
   "source": [
    "38. Write a Python program to find the difference between the largest possible integer and the\n",
    "smallest possible integer which are created by maximum 4 digits each digit contains a value\n",
    "from 0 to 9.\n",
    "Input: 3245\n",
    "Output:\n",
    "Min Int: 2345\n",
    "Max Int: 5432\n",
    "Max Difference: 3087"
   ]
  },
  {
   "cell_type": "code",
   "execution_count": 94,
   "metadata": {},
   "outputs": [
    {
     "name": "stdout",
     "output_type": "stream",
     "text": [
      " Enter 4 digit number with spaces in between:  9 1 2 7\n",
      "['1', '2', '7', '9']\n",
      "['9', '7', '2', '1']\n",
      "8442\n"
     ]
    }
   ],
   "source": [
    "number = input(\" Enter 4 digit number with spaces in between:  \")\n",
    "number = number.split(' ')\n",
    "\n",
    "\n",
    "min = sorted(number)\n",
    "max = sorted(number,reverse = True)\n",
    "x1 = int(\"\".join(map(str,min)))\n",
    "x2 = int(\"\".join(map(str,max)))\n",
    "res = x2 - x1\n",
    "    \n",
    "print(min)\n",
    "print(max)\n",
    "print(res)"
   ]
  },
  {
   "cell_type": "markdown",
   "metadata": {},
   "source": [
    "39. Write a Python program which adds up column and row of given table.\n",
    "Input cell value:\n",
    "25 69 51 26\n",
    "68 35 29 54\n",
    "54 57 45 63\n",
    "61 68 47 59\n",
    "Result:\n",
    "25 69 51 26 171\n",
    "68 35 29 54 186\n",
    "54 57 45 63 219\n",
    "61 68 47 59 235\n",
    "208 229 172 202 811"
   ]
  },
  {
   "cell_type": "code",
   "execution_count": 21,
   "metadata": {},
   "outputs": [
    {
     "name": "stdout",
     "output_type": "stream",
     "text": [
      "[[25, 69, 51, 26, 171], [68, 35, 29, 54, 186], [54, 57, 45, 63, 219], [61, 68, 47, 59, 235]]\n",
      "[[25, 69, 51, 26, 171], [68, 35, 29, 54, 186], [54, 57, 45, 63, 219], [61, 68, 47, 59, 235, 208, 229, 172, 202]]\n"
     ]
    }
   ],
   "source": [
    "m =[[25, 69, 51, 26],\n",
    "    [68, 35, 29, 54],\n",
    "    [54, 57, 45, 63],\n",
    "    [61, 68, 47, 59]]\n",
    "new_row = 0\n",
    "new_col = 0\n",
    "row = 0\n",
    "col = 0\n",
    "\n",
    "\n",
    "\n",
    "for i in range(len(m)):\n",
    "    for j in range(len(m)):\n",
    "        row += int(m[i][j])\n",
    "    m[i].append(row)\n",
    "    row = 0\n",
    "print(m)\n",
    "    \n",
    "for i in range(len(m)):\n",
    "    for j in range(len(m)):\n",
    "        col += int(m[j][i])\n",
    "    m[j].append(col)\n",
    "    col = 0    \n",
    "print(m)\n",
    "      \n",
    " ######## "
   ]
  },
  {
   "cell_type": "markdown",
   "metadata": {},
   "source": [
    "40. Write a Python program to count the number of strings where the string length is 2 or more\n",
    "and the first and last character are same from a given list of strings.\n",
    "Sample List : [’abc’, ’xyz’, ’aba’, ’1221’]\n",
    "Expected Result : 2"
   ]
  },
  {
   "cell_type": "code",
   "execution_count": 25,
   "metadata": {},
   "outputs": [
    {
     "name": "stdout",
     "output_type": "stream",
     "text": [
      "input a list of words with comma seperator: abc,xyz,aba,1221\n",
      "2\n"
     ]
    }
   ],
   "source": [
    "words = input(\"input a list of words with comma seperator: \")\n",
    "words = words.split(',')\n",
    "ctr = 0\n",
    "for word in words:\n",
    "    if len(word) > 1 and word[0] == word[-1]:\n",
    "        ctr +=1\n",
    "print(ctr)    "
   ]
  },
  {
   "cell_type": "markdown",
   "metadata": {},
   "source": [
    "41. Write a Python program that takes two lists and returns True if they have at least 3 common\n",
    "member."
   ]
  },
  {
   "cell_type": "code",
   "execution_count": 52,
   "metadata": {},
   "outputs": [
    {
     "name": "stdout",
     "output_type": "stream",
     "text": [
      "enter a list1 of numbers with spaces: 1 2 3 4 5 6\n",
      "enter a list2 of numbers with spaces: 1 2 3 5 4\n",
      "True\n"
     ]
    }
   ],
   "source": [
    "x1 = input(\"enter a list1 of numbers with spaces: \")\n",
    "x2 = input(\"enter a list2 of numbers with spaces: \")\n",
    "x1 = x1.split(' ')\n",
    "x2 = x2.split(' ')\n",
    "comm = 0\n",
    "for i in x1:\n",
    "    for j in x2:\n",
    "        if i==j:\n",
    "            comm+=1\n",
    "print('True') "
   ]
  },
  {
   "cell_type": "markdown",
   "metadata": {},
   "source": [
    "42. Write a Python program to generate a list of 15 values and print the list with the first and last\n",
    "5 elements are squared."
   ]
  },
  {
   "cell_type": "code",
   "execution_count": 3,
   "metadata": {},
   "outputs": [
    {
     "name": "stdout",
     "output_type": "stream",
     "text": [
      "[1, 4, 9, 16, 25]\n",
      "[121, 144, 169, 196, 225]\n"
     ]
    }
   ],
   "source": [
    "l = list()\n",
    "for i in range(1,16):\n",
    "    l.append(i**2)\n",
    "print(l[:5])\n",
    "print(l[-5:])"
   ]
  },
  {
   "cell_type": "markdown",
   "metadata": {},
   "source": [
    "43. The sum of the squares of the first ten natural numbers is, 12 + 22 + ... + 102 = 385\n",
    "The square of the sum of the first ten natural numbers is,(1 + 2 + ... + 10)2 = 552 = 3025\n",
    "Hence the difference between the sum of the squares of the first ten natural numbers and the\n",
    "square of the sum is 3025 − 385 = 2640.\n",
    "Find the difference between the sum of the squares of the first one hundred natural numbers\n",
    "and the square of the sum."
   ]
  },
  {
   "cell_type": "code",
   "execution_count": 15,
   "metadata": {},
   "outputs": [
    {
     "name": "stdout",
     "output_type": "stream",
     "text": [
      "30\n",
      "100\n",
      "70\n"
     ]
    }
   ],
   "source": [
    "n = 4\n",
    "sm1 = 0\n",
    "sq = 0\n",
    "sm2 = 0\n",
    "for i in range(0,n+1):\n",
    "    sm1 = sm1 +(i**2)\n",
    "for j in range(0,n+1):\n",
    "    sm2 = sm2 +(j)\n",
    "sm2 = sm2**2\n",
    "difference = sm2 - sm1\n",
    "print(sm1)\n",
    "print(sm2)\n",
    "print(difference)"
   ]
  },
  {
   "cell_type": "markdown",
   "metadata": {},
   "source": [
    "44. Write a Python program to convert list to list of dictionaries.\n",
    "Sample lists:\n",
    "[”Name”, ”Age”, ”ID”, ”Phone”], [”Yazeed”, ”21”, 1536698”, ”0798529788”]\n",
    "Expected Output:\n",
    "{’color Name’: ’Black’, ’Age: ’21’ , ‘ID’: ’1536698’, ‘Phone’: ’0798529788’}"
   ]
  },
  {
   "cell_type": "code",
   "execution_count": 30,
   "metadata": {},
   "outputs": [
    {
     "name": "stdout",
     "output_type": "stream",
     "text": [
      "{54: 'computer', 50: 'laptop', 100: 'phone', '00': 'iphone'}\n"
     ]
    }
   ],
   "source": [
    "itemid = [54,50,100,'00']\n",
    "names = ['computer','laptop','phone','iphone']\n",
    "item_dictionary= dict(zip(itemid,names))\n",
    "print(item_dictionary)"
   ]
  },
  {
   "cell_type": "markdown",
   "metadata": {},
   "source": [
    "45. Write a Python program to get the top three items in a shop.\n",
    "Sample data: ’item1’: 45.50, ’item2’:35, ’item3’: 41.30, ’item4’:55, ’item5’: 24\n",
    "Expected Output:\n",
    "item4 55\n",
    "item1 45.5\n",
    "item3 41.3"
   ]
  },
  {
   "cell_type": "code",
   "execution_count": 121,
   "metadata": {},
   "outputs": [],
   "source": [
    "it = {'item1': 45.50, 'item2':35, 'item3': 41.30, 'item4':55, 'item5': 24}"
   ]
  },
  {
   "cell_type": "markdown",
   "metadata": {},
   "source": [
    "46. Write a Python program to replace dictionary values with their sum."
   ]
  },
  {
   "cell_type": "code",
   "execution_count": 228,
   "metadata": {},
   "outputs": [
    {
     "name": "stdout",
     "output_type": "stream",
     "text": [
      "{'item1': 15, 'item2': 15, 'item3': 15, 'item4': 15, 'item5': 15}\n"
     ]
    }
   ],
   "source": [
    "it = {'item1': 1, 'item2':2, 'item3': 3, 'item4':4, 'item5': 5}\n",
    "sum = 0\n",
    "for x in it.values():\n",
    "    sum += x\n",
    "for i in it.keys():\n",
    "    it[i] = sum\n",
    "print(it)"
   ]
  }
 ],
 "metadata": {
  "kernelspec": {
   "display_name": "Python 3",
   "language": "python",
   "name": "python3"
  },
  "language_info": {
   "codemirror_mode": {
    "name": "ipython",
    "version": 3
   },
   "file_extension": ".py",
   "mimetype": "text/x-python",
   "name": "python",
   "nbconvert_exporter": "python",
   "pygments_lexer": "ipython3",
   "version": "3.7.3"
  }
 },
 "nbformat": 4,
 "nbformat_minor": 2
}
