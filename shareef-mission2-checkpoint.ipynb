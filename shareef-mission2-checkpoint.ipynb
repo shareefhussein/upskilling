{
 "cells": [
  {
   "cell_type": "markdown",
   "metadata": {},
   "source": [
    "1. Reverse a given number loops and equations and return true if it is the same as the original\n",
    "number."
   ]
  },
  {
   "cell_type": "code",
   "execution_count": 13,
   "metadata": {},
   "outputs": [
    {
     "name": "stdout",
     "output_type": "stream",
     "text": [
      "input a number123\n",
      "it is not the same number: 321\n"
     ]
    }
   ],
   "source": [
    "x = int(input(\"input a number\"))\n",
    "j = 0\n",
    "while x>0 :\n",
    "    rem = x % 10\n",
    "    j = (j*10) + rem\n",
    "    x=x//10\n",
    "if j==x:\n",
    "    print( 'it is the same original num:', x)\n",
    "else:\n",
    "    print(\"it is not the same number:\", j)\n"
   ]
  },
  {
   "cell_type": "markdown",
   "metadata": {},
   "source": [
    "2. Return the number of times that the string “Emma” appears anywhere in the given string."
   ]
  },
  {
   "cell_type": "code",
   "execution_count": 9,
   "metadata": {},
   "outputs": [
    {
     "name": "stdout",
     "output_type": "stream",
     "text": [
      "input a string with Emma name in it:Emma ddfsdg Emma Emma\n",
      "3\n"
     ]
    }
   ],
   "source": [
    "my_string = input(\"input a string with Emma name in it:\")\n",
    "print(my_string.count('Emma'))"
   ]
  },
  {
   "cell_type": "markdown",
   "metadata": {},
   "source": [
    "3. Print the following pattern.\n",
    "1\n",
    "22\n",
    "3 3 3\n",
    "4 4 4 4\n",
    "5 5 5 5 5"
   ]
  },
  {
   "cell_type": "code",
   "execution_count": null,
   "metadata": {
    "scrolled": true
   },
   "outputs": [],
   "source": [
    "for num in range(1,6):\n",
    "    for i in range(num):\n",
    "        print(num, end=' ')\n",
    "    print(\"\\r\")       "
   ]
  },
  {
   "cell_type": "markdown",
   "metadata": {},
   "source": [
    "4. Given a string of odd length greater than 7, return a string made of the middle three chars of\n",
    "a given String."
   ]
  },
  {
   "cell_type": "code",
   "execution_count": null,
   "metadata": {},
   "outputs": [],
   "source": [
    "s = input(\"input a string whith odd length greater than 7:\")\n",
    "\n",
    "print(s[len(s)//2])\n"
   ]
  },
  {
   "cell_type": "markdown",
   "metadata": {},
   "source": [
    "5. Given 2 strings, s1 and s2, create a new string by appending s2 in the middle of s1."
   ]
  },
  {
   "cell_type": "code",
   "execution_count": null,
   "metadata": {},
   "outputs": [],
   "source": [
    "def insert_string_middle(str, word):\n",
    "    return str[:2] + word+ str[2:]\n",
    "print(insert_string_middle('abcd','x'))"
   ]
  },
  {
   "cell_type": "markdown",
   "metadata": {},
   "source": [
    "6. Given 2 strings, s1, and s2 return a new string made of the first, middle and last char each\n",
    "input string."
   ]
  },
  {
   "cell_type": "code",
   "execution_count": null,
   "metadata": {},
   "outputs": [],
   "source": [
    "s1 = input('input and string')\n",
    "mid = s1[len(s1)//2]\n",
    "s2 = s1[0] + str(mid) + s1[-1]\n",
    "print(s2)\n"
   ]
  },
  {
   "cell_type": "markdown",
   "metadata": {},
   "source": [
    "7. arrange String characters such that lowercase letters should come first."
   ]
  },
  {
   "cell_type": "code",
   "execution_count": null,
   "metadata": {},
   "outputs": [],
   "source": [
    "arr = input(\"input any string: \")\n",
    "\n",
    "import string\n",
    "print(sorted(arr, key=string.ascii_letters.index))"
   ]
  },
  {
   "cell_type": "markdown",
   "metadata": {},
   "source": [
    "8. Sort a given string alphabetically."
   ]
  },
  {
   "cell_type": "code",
   "execution_count": null,
   "metadata": {},
   "outputs": [],
   "source": [
    "a = input(\"input a string :\")\n",
    "''.join(sorted(a))"
   ]
  },
  {
   "cell_type": "markdown",
   "metadata": {},
   "source": [
    "9. Given a string input Count all lower case, upper case, digits, and special symbols\n",
    "Sample Input: ”My?Name!Is956Yazeed”\n",
    "Sample Output:\n",
    "Number of upper case: 4\n",
    "Number of lower case: 10\n",
    "Number of digits: 3\n",
    "Number of special symbols: 2"
   ]
  },
  {
   "cell_type": "code",
   "execution_count": null,
   "metadata": {},
   "outputs": [],
   "source": [
    "x = 'GAMEofTHROnes555?/'\n",
    "countlower = 0\n",
    "countupper = 0\n",
    "countdigit = 0\n",
    "countspecial = 0\n",
    "for y in str(x):\n",
    "    if (y.islower()):\n",
    "        countlower=countlower+1\n",
    "    elif (y.isupper()):\n",
    "        countupper=countupper+1\n",
    "    elif (y.isdigit()):\n",
    "        countdigit=countdigit+1\n",
    "    else:\n",
    "        countspecial=countspecial+1\n",
    "        \n",
    "print(\"num of lower letters is:\",countlower)   \n",
    "print(\"num of upper letters is:\",countupper)\n",
    "print(\"num of digits is:\",countdigit) \n",
    "print(\"num of special characters is:\",countspecial)"
   ]
  },
  {
   "cell_type": "markdown",
   "metadata": {},
   "source": [
    "10. Write c program that takes a positive integer n as an input from the user and calculates the\n",
    "sum up to n."
   ]
  },
  {
   "cell_type": "code",
   "execution_count": 12,
   "metadata": {},
   "outputs": [
    {
     "name": "stdout",
     "output_type": "stream",
     "text": [
      "input a positive integer:10\n",
      "45\n"
     ]
    }
   ],
   "source": [
    "n = int(input(\"input a positive integer:\"))\n",
    "sum = 0\n",
    "for i in range(n):\n",
    "    sum = sum+ i\n",
    "print(sum)        "
   ]
  },
  {
   "cell_type": "markdown",
   "metadata": {},
   "source": [
    "11. Use the While or for statement to write a program that computes and displays the factorial of\n",
    "a positive integer n entered by the user."
   ]
  },
  {
   "cell_type": "code",
   "execution_count": 16,
   "metadata": {},
   "outputs": [
    {
     "name": "stdout",
     "output_type": "stream",
     "text": [
      "input a positive integer:3\n",
      "6\n"
     ]
    }
   ],
   "source": [
    "n = int(input(\"input a positive integer:\"))\n",
    "for i in range(0,n):\n",
    "    if i<n:\n",
    "        fact = 1\n",
    "        for i in range(1,n+1):\n",
    "            fact = fact*i\n",
    "print(fact)    "
   ]
  },
  {
   "cell_type": "markdown",
   "metadata": {},
   "source": [
    "12. Write a program that uses a while loop to display values from -5 through 5, using an increment\n",
    "of 0.5."
   ]
  },
  {
   "cell_type": "code",
   "execution_count": null,
   "metadata": {},
   "outputs": [],
   "source": [
    "counter = -5\n",
    "while -5<=counter<5 : \n",
    "    counter = counter + 0.5\n",
    "    print(counter,end=' ')     "
   ]
  },
  {
   "cell_type": "markdown",
   "metadata": {},
   "source": [
    "13. Write a c program that prints the following star pattern \n",
    "* * * *\n",
    "* * *\n",
    "* *\n",
    "*"
   ]
  },
  {
   "cell_type": "code",
   "execution_count": 1,
   "metadata": {},
   "outputs": [
    {
     "name": "stdout",
     "output_type": "stream",
     "text": [
      "input num of rows5\n",
      "* * * *  \n",
      "* * *  \n",
      "* *  \n",
      "*  \n",
      " \n"
     ]
    }
   ],
   "source": [
    "n = int(input(\"input num of rows\"))\n",
    "for i in range(n):\n",
    "    for j in range(n):\n",
    "        if i<j:\n",
    "            print('*',end=\" \") \n",
    "    print(' ')        "
   ]
  },
  {
   "cell_type": "markdown",
   "metadata": {},
   "source": [
    "14. Write a c program that prints the following star pattern:\n",
    "**\n",
    "*\n",
    "* * *\n",
    "* * * *\n",
    "* * * * *\n",
    "* * * *\n",
    "* * *\n",
    "* *\n",
    "*"
   ]
  },
  {
   "cell_type": "code",
   "execution_count": 7,
   "metadata": {},
   "outputs": [
    {
     "name": "stdout",
     "output_type": "stream",
     "text": [
      "input num of rows:5\n",
      " \n",
      "*  \n",
      "* *  \n",
      "* * *  \n",
      "* * * *  \n",
      "* * *  \n",
      "* *  \n",
      "*  \n",
      " \n"
     ]
    }
   ],
   "source": [
    "n= int(input(\"input num of rows:\"))\n",
    "for i in range(n):\n",
    "    for j in range(n):\n",
    "        if i>j:\n",
    "            print('*',end=\" \") \n",
    "    print(' ')\n",
    "        \n",
    "for x in range(n-1):\n",
    "    for y in range(n-1):\n",
    "        if x<y:\n",
    "            print('*',end=\" \") \n",
    "    print(' ')"
   ]
  },
  {
   "cell_type": "markdown",
   "metadata": {},
   "source": [
    "15. Write a c program that prints the following star pattern:\n",
    "7*\n",
    "6\n",
    "* * 5\n",
    "* * * 4\n",
    "* * * * 3"
   ]
  },
  {
   "cell_type": "code",
   "execution_count": 8,
   "metadata": {},
   "outputs": [
    {
     "name": "stdout",
     "output_type": "stream",
     "text": [
      " 7\n",
      "* 6\n",
      "** 5\n",
      "*** 4\n",
      "**** 3\n"
     ]
    }
   ],
   "source": [
    "j = 7\n",
    "for n in range(3,8):\n",
    "        print('*'*(7-j),j)\n",
    "        j = j-1"
   ]
  },
  {
   "cell_type": "markdown",
   "metadata": {},
   "source": [
    "16. Write a c program that prints the following star pattern:"
   ]
  },
  {
   "cell_type": "code",
   "execution_count": null,
   "metadata": {},
   "outputs": [],
   "source": [
    "n = int(input(\"input num of rows:\"))\n",
    "for i in range(0,n):\n",
    "    for j in range(0,n-i-1):\n",
    "        print(end=\" \")\n",
    "    for j in range(0,i+1):\n",
    "         print('*',end=\" \")\n",
    "    print(' ')      "
   ]
  },
  {
   "cell_type": "markdown",
   "metadata": {},
   "source": [
    "17. Write a c program that prints the following star pattern:"
   ]
  },
  {
   "cell_type": "code",
   "execution_count": null,
   "metadata": {},
   "outputs": [],
   "source": [
    "n = int(input(\"input num of rows\"))\n",
    "for i in range(n):\n",
    "    for j in range(i+1):\n",
    "        print(end=\" \")\n",
    "    for j in range(n-i-1):\n",
    "         print('*',end=\" \")\n",
    "            \n",
    "    print(' ')     "
   ]
  },
  {
   "cell_type": "markdown",
   "metadata": {},
   "source": [
    "18. Write a c program that prints the following star pattern:"
   ]
  },
  {
   "cell_type": "code",
   "execution_count": null,
   "metadata": {},
   "outputs": [],
   "source": [
    "n = int(input(\"input num of rows:\"))\n",
    "for i in range(0,n):\n",
    "    for j in range(0,n-i-1):\n",
    "        print(end=\" \")\n",
    "    for j in range(0,i+1):\n",
    "         print('*',end=\" \")\n",
    "    print(' ')\n",
    "     \n",
    "for i in range(n):\n",
    "    for j in range(i+1):\n",
    "        print(end=\" \")\n",
    "    for j in range(n-i-1):\n",
    "         print('*',end=\" \")\n",
    "    \n",
    "    print(' ')     "
   ]
  },
  {
   "cell_type": "markdown",
   "metadata": {},
   "source": [
    "19.1 Write programs that implement the following equations:"
   ]
  },
  {
   "cell_type": "code",
   "execution_count": null,
   "metadata": {
    "scrolled": true
   },
   "outputs": [],
   "source": [
    "sum = 0\n",
    "for n in range(1,100):\n",
    "    x = n**2\n",
    "    sum = sum+x\n",
    "print(sum)        "
   ]
  },
  {
   "cell_type": "markdown",
   "metadata": {},
   "source": [
    "19.2 Write programs that implement the following equations:"
   ]
  },
  {
   "cell_type": "code",
   "execution_count": 1,
   "metadata": {},
   "outputs": [
    {
     "name": "stdout",
     "output_type": "stream",
     "text": [
      "22860800\n"
     ]
    }
   ],
   "source": [
    "sum = 0\n",
    "for n in range(6,100):\n",
    "        x = ((n**2)*(n-5))\n",
    "        sum = sum+x\n",
    "print(sum)        "
   ]
  },
  {
   "cell_type": "markdown",
   "metadata": {},
   "source": [
    "20. Write a Python program to print Fibonacci series up to 10th term."
   ]
  },
  {
   "cell_type": "code",
   "execution_count": 10,
   "metadata": {},
   "outputs": [
    {
     "name": "stdout",
     "output_type": "stream",
     "text": [
      "input the num of terms7\n",
      "0, 1, 1, 2, 3, 5, 8, "
     ]
    }
   ],
   "source": [
    "n1 = 0\n",
    "n2 = 1\n",
    "count = 0\n",
    "n_terms = int(input(\"input the num of terms\"))\n",
    "if n_terms <=0:\n",
    "    print(\"enter a positive number\")\n",
    "elif n_terms==1:\n",
    "    print('fabonacci series up to n_terms:')\n",
    "    print(n1)\n",
    "else:\n",
    "    while count < n_terms :\n",
    "        print(n1,end=', ')\n",
    "        nth = n1 + n2\n",
    "        n1 = n2\n",
    "        n2 = nth\n",
    "        count = count+1       "
   ]
  },
  {
   "cell_type": "markdown",
   "metadata": {},
   "source": [
    "21. Write a Python program to print GCD between any two given numbers."
   ]
  },
  {
   "cell_type": "code",
   "execution_count": null,
   "metadata": {},
   "outputs": [],
   "source": [
    "def gcd(x,y):\n",
    "    if x>y:\n",
    "        smaller = y\n",
    "    else:\n",
    "        smaller = x\n",
    "    for i in range(1, smaller+1):\n",
    "        if((x%i==0)) and (y%i==0):\n",
    "            gcd = i\n",
    "    return gcd\n",
    "\n",
    "num1 = 54\n",
    "num2 = 24\n",
    "\n",
    "print(gcd(num1,num2))"
   ]
  },
  {
   "cell_type": "markdown",
   "metadata": {},
   "source": [
    "22. Write a Python program to print LCM between any two given numbers"
   ]
  },
  {
   "cell_type": "code",
   "execution_count": 46,
   "metadata": {},
   "outputs": [
    {
     "name": "stdout",
     "output_type": "stream",
     "text": [
      "216\n"
     ]
    }
   ],
   "source": [
    "def lcm(x,y):\n",
    "    if x>y:\n",
    "        greater = x\n",
    "    else:\n",
    "        greater = y\n",
    "    while(True):\n",
    "        if((greater%x==0)) and (greater%y==0):\n",
    "            lcm = greater\n",
    "            break\n",
    "        greater += 1\n",
    "    return lcm\n",
    "num1= 54\n",
    "num2= 24\n",
    "\n",
    "print(lcm(num1,num2))"
   ]
  },
  {
   "cell_type": "markdown",
   "metadata": {},
   "source": [
    "23. Write a Python program to find the sum of all natural odd numbers between 1 and 100"
   ]
  },
  {
   "cell_type": "code",
   "execution_count": null,
   "metadata": {},
   "outputs": [],
   "source": [
    "max = int(input(\"enter max value\"))\n",
    "odd = 0\n",
    "for n in range(1,max):\n",
    "    if (n % 2!=0):\n",
    "        odd = odd+n\n",
    "print(odd)"
   ]
  },
  {
   "cell_type": "markdown",
   "metadata": {},
   "source": [
    "24. Write a Python program to find the sum of all natural prime numbers between 1 and 100."
   ]
  },
  {
   "cell_type": "code",
   "execution_count": 7,
   "metadata": {},
   "outputs": [
    {
     "name": "stdout",
     "output_type": "stream",
     "text": [
      "4950\n"
     ]
    }
   ],
   "source": [
    "\n",
    "for num in range (1,100):\n",
    "    if num>1:\n",
    "        for i in range(2,num):\n",
    "            if(num%i)==0:\n",
    "                break\n",
    "            else:\n",
    "                num = (n*(n+1))//2\n",
    "print(num)           "
   ]
  },
  {
   "cell_type": "markdown",
   "metadata": {},
   "source": [
    "25. Write a Python program to find the product of all natural even numbers between 1 and 100."
   ]
  },
  {
   "cell_type": "code",
   "execution_count": 14,
   "metadata": {},
   "outputs": [
    {
     "name": "stdout",
     "output_type": "stream",
     "text": [
      "enter max value20\n",
      "185794560\n"
     ]
    }
   ],
   "source": [
    "max = int(input(\"enter max value\"))\n",
    "even = 1\n",
    "for n in range(1,max):\n",
    "    if (n % 2==0):\n",
    "        even = even*n\n",
    "print(even)"
   ]
  },
  {
   "cell_type": "markdown",
   "metadata": {},
   "source": [
    "26. Write a Python program that prints the multiplication tables of all numbers between 0 and 9."
   ]
  },
  {
   "cell_type": "code",
   "execution_count": null,
   "metadata": {},
   "outputs": [],
   "source": [
    "n = int(input(\"input a number between 0 to 9\"))\n",
    "for i in range(0,10):\n",
    "    print(n,'x',i,'=',n*i)"
   ]
  },
  {
   "cell_type": "markdown",
   "metadata": {},
   "source": [
    "27. Write a Python program to input a number from user and count number of digits in the given\n",
    "integer."
   ]
  },
  {
   "cell_type": "code",
   "execution_count": null,
   "metadata": {},
   "outputs": [],
   "source": [
    "x = input(\"input any number\")\n",
    "countdigit = 0\n",
    "for y in str(x):\n",
    "    if(y.isdigit()):\n",
    "        countdigit=countdigit+1\n",
    "print(countdigit)       "
   ]
  },
  {
   "cell_type": "markdown",
   "metadata": {},
   "source": [
    "28. Write a Python program to input a number from user and find if the number is Palindrome."
   ]
  },
  {
   "cell_type": "code",
   "execution_count": null,
   "metadata": {},
   "outputs": [],
   "source": [
    "n = int(input(\"input any number:\"))\n",
    "t = n\n",
    "rev = 0\n",
    "while n>0:\n",
    "    dig = n%10\n",
    "    rev = rev*10+dig\n",
    "    n = n//10\n",
    "if(t==rev):\n",
    "    print(\"the number is palindrome\")\n",
    "else:\n",
    "    print(\"the number is not palindrome\")"
   ]
  },
  {
   "cell_type": "markdown",
   "metadata": {},
   "source": [
    "29. Write a Python program to input a number and calculate the sum of its digits."
   ]
  },
  {
   "cell_type": "code",
   "execution_count": null,
   "metadata": {},
   "outputs": [],
   "source": [
    "n= int(input(\"input any number\"))\n",
    "sum=0\n",
    "while (n>0):\n",
    "    digit= n%10\n",
    "    sum= sum+digit\n",
    "    n=n//10\n",
    "print(sum)    "
   ]
  },
  {
   "cell_type": "markdown",
   "metadata": {},
   "source": [
    "30. Write a Python program find the maximum number to get of 3-3 digit palindrome(do not use\n",
    "strings)."
   ]
  },
  {
   "cell_type": "code",
   "execution_count": 1,
   "metadata": {},
   "outputs": [],
   "source": [
    "def ispal(n):\n",
    "    temp = n\n",
    "    never = 0\n",
    "    while temp >0:\n",
    "        never = temp%10 +never*10\n",
    "        temp//=10\n",
    "    if never ==n:\n",
    "        return True\n",
    "    else:\n",
    "        return False\n",
    "    \n",
    "    x = 0\n",
    "    for i in range(99,999,-1):\n",
    "        for j in range(99,999,-1):\n",
    "            temp = i*j\n",
    "            if ispal(temp):\n",
    "                x = max(x,temp)\n",
    "                break\n",
    "    print(x)              "
   ]
  },
  {
   "cell_type": "markdown",
   "metadata": {},
   "source": [
    "31. Given a string, return the sum and average of the digits that appear in the string, ignoring all\n",
    "other characters."
   ]
  },
  {
   "cell_type": "code",
   "execution_count": null,
   "metadata": {},
   "outputs": [],
   "source": [
    "###"
   ]
  },
  {
   "cell_type": "markdown",
   "metadata": {},
   "source": [
    "32. Find all occurrences of “USA” in given string ignoring the case."
   ]
  },
  {
   "cell_type": "code",
   "execution_count": 4,
   "metadata": {},
   "outputs": [
    {
     "name": "stdout",
     "output_type": "stream",
     "text": [
      "input a string with many USA occurrences:fdf USA USA usa fsv usa\n",
      "2\n"
     ]
    }
   ],
   "source": [
    "x = input(\"input a string with many USA occurrences:\")\n",
    "print(x.count('usa' and 'USA'))\n"
   ]
  },
  {
   "cell_type": "markdown",
   "metadata": {},
   "source": [
    "33. Apply the String characters balance Test (occurrences of all appeared characters must be equal)."
   ]
  },
  {
   "cell_type": "code",
   "execution_count": null,
   "metadata": {},
   "outputs": [],
   "source": [
    "####"
   ]
  },
  {
   "cell_type": "markdown",
   "metadata": {},
   "source": [
    "34. Given a string and and int n, remove n characters from string by each time until the string has\n",
    "no more characters."
   ]
  },
  {
   "cell_type": "code",
   "execution_count": null,
   "metadata": {},
   "outputs": [],
   "source": [
    "x = 'ABCDEFGHI'\n",
    "t = 0\n",
    "for i in range(len(x)) :\n",
    "        print(x.replace(x[t],',')\n",
    "              t +=1\n",
    "       \n"
   ]
  },
  {
   "cell_type": "markdown",
   "metadata": {},
   "source": [
    "35. Accept string from the user and display only those characters which are present at an even\n",
    "index"
   ]
  },
  {
   "cell_type": "code",
   "execution_count": null,
   "metadata": {
    "scrolled": true
   },
   "outputs": [],
   "source": [
    "x = input('input a string:')\n",
    "for i in range(len(x)):\n",
    "    if i % 2== 0:\n",
    "        print(x[i])\n",
    "    "
   ]
  },
  {
   "cell_type": "markdown",
   "metadata": {},
   "source": [
    "36. Remove duplicate from a string and print the results."
   ]
  },
  {
   "cell_type": "code",
   "execution_count": null,
   "metadata": {},
   "outputs": [],
   "source": [
    "x = input('input a string:')\n",
    "''.join(set(x))\n"
   ]
  },
  {
   "cell_type": "markdown",
   "metadata": {},
   "source": [
    "37. Remove duplicate from a string and print how much time each character appeared"
   ]
  },
  {
   "cell_type": "code",
   "execution_count": null,
   "metadata": {},
   "outputs": [],
   "source": [
    "x = input('input a string: ')\n",
    "y = input('input a char to know how much time appeared in the string: ')\n",
    "print(x.count(y))\n",
    "print(''.join(set(x)))"
   ]
  },
  {
   "cell_type": "markdown",
   "metadata": {},
   "source": [
    "38. Find all unique character, numbers, ...etc. in a string and print them."
   ]
  },
  {
   "cell_type": "code",
   "execution_count": null,
   "metadata": {},
   "outputs": [],
   "source": [
    "x = 'ShArEEf$$4'\n",
    "count = 0\n",
    "for y in str(x):\n",
    "    if (y.islower()):\n",
    "        pass\n",
    "        \n",
    "    elif (y.isupper()):\n",
    "        pass\n",
    "        \n",
    "    elif (y.isdigit()):\n",
    "        print(x[count])\n",
    "        \n",
    "    else:\n",
    "        print(x[count])\n",
    "    count = count+1    "
   ]
  },
  {
   "cell_type": "markdown",
   "metadata": {},
   "source": [
    "39. Write a Python program to accept a filename from the user as a string and print the extension\n",
    "of that file.\n",
    "Sample filename : abc.java\n",
    "Output : java"
   ]
  },
  {
   "cell_type": "code",
   "execution_count": null,
   "metadata": {},
   "outputs": [],
   "source": [
    "file_name = input(\"input the file name:\")\n",
    "f_ext= file_name.split(\".\")\n",
    "print(\"the ext is:\" + repr(f_ext[-1]))\n"
   ]
  },
  {
   "cell_type": "markdown",
   "metadata": {},
   "source": [
    "40. Write a Python program to get a new string from a given string where ”Is” has been added to the front. If the given string already \n",
    "begins with ”Is” then return the string unchanged.\n"
   ]
  },
  {
   "cell_type": "code",
   "execution_count": null,
   "metadata": {
    "scrolled": true
   },
   "outputs": [],
   "source": [
    "#####"
   ]
  },
  {
   "cell_type": "markdown",
   "metadata": {},
   "source": [
    "41. Write a Python program to get a string which is n (non-negative integer) copies of a given\n",
    "string."
   ]
  },
  {
   "cell_type": "code",
   "execution_count": null,
   "metadata": {},
   "outputs": [],
   "source": [
    "x = [1,2,3,4,5,6,7,8,9]\n",
    "n = int(input('input num of copies'))\n",
    "for i in range(n):\n",
    "    i = x.copy()\n",
    "    print(i)"
   ]
  },
  {
   "cell_type": "markdown",
   "metadata": {},
   "source": [
    "42. Write a Python program to get the n (non-negative integer) copies of the first 2 characters of\n",
    "a given string. Return the n copies of the whole string if the length is less than 2."
   ]
  },
  {
   "cell_type": "markdown",
   "metadata": {},
   "source": [
    "######"
   ]
  },
  {
   "cell_type": "markdown",
   "metadata": {},
   "source": [
    "43. Write a Python program to print out the set of all the characters from St1 which are not present\n",
    "in St2"
   ]
  },
  {
   "cell_type": "code",
   "execution_count": 29,
   "metadata": {},
   "outputs": [
    {
     "name": "stdout",
     "output_type": "stream",
     "text": [
      "a\n",
      "b\n",
      "v\n",
      "f\n",
      "g\n"
     ]
    },
    {
     "ename": "IndexError",
     "evalue": "string index out of range",
     "output_type": "error",
     "traceback": [
      "\u001b[1;31m---------------------------------------------------------------------------\u001b[0m",
      "\u001b[1;31mIndexError\u001b[0m                                Traceback (most recent call last)",
      "\u001b[1;32m<ipython-input-29-42493c94f30e>\u001b[0m in \u001b[0;36m<module>\u001b[1;34m\u001b[0m\n\u001b[0;32m      3\u001b[0m \u001b[1;33m\u001b[0m\u001b[0m\n\u001b[0;32m      4\u001b[0m \u001b[1;32mfor\u001b[0m \u001b[0mi\u001b[0m \u001b[1;32min\u001b[0m \u001b[0mrange\u001b[0m\u001b[1;33m(\u001b[0m\u001b[0mlen\u001b[0m\u001b[1;33m(\u001b[0m\u001b[0mst1\u001b[0m\u001b[1;33m)\u001b[0m\u001b[1;33m)\u001b[0m\u001b[1;33m:\u001b[0m\u001b[1;33m\u001b[0m\u001b[1;33m\u001b[0m\u001b[0m\n\u001b[1;32m----> 5\u001b[1;33m     \u001b[1;32mif\u001b[0m \u001b[0mst1\u001b[0m\u001b[1;33m[\u001b[0m\u001b[0mi\u001b[0m\u001b[1;33m]\u001b[0m \u001b[1;32mis\u001b[0m \u001b[1;32mnot\u001b[0m \u001b[0mst2\u001b[0m\u001b[1;33m[\u001b[0m\u001b[0mi\u001b[0m\u001b[1;33m]\u001b[0m\u001b[1;33m:\u001b[0m\u001b[1;33m\u001b[0m\u001b[1;33m\u001b[0m\u001b[0m\n\u001b[0m\u001b[0;32m      6\u001b[0m         \u001b[0mprint\u001b[0m\u001b[1;33m(\u001b[0m\u001b[0mst1\u001b[0m\u001b[1;33m[\u001b[0m\u001b[0mi\u001b[0m\u001b[1;33m]\u001b[0m\u001b[1;33m)\u001b[0m\u001b[1;33m\u001b[0m\u001b[1;33m\u001b[0m\u001b[0m\n\u001b[0;32m      7\u001b[0m \u001b[1;33m\u001b[0m\u001b[0m\n",
      "\u001b[1;31mIndexError\u001b[0m: string index out of range"
     ]
    }
   ],
   "source": [
    "st1 = ' abcvfg '\n",
    "st2 = ' sdcbv '\n",
    "\n",
    "for i in range(len(st1)):\n",
    "    if st1[i] is not st2[i]:\n",
    "        print(st1[i])\n",
    "    \n",
    "        "
   ]
  },
  {
   "cell_type": "markdown",
   "metadata": {},
   "source": [
    "44. Write a Python program to display your given details like name, age, address in three different\n",
    "lines."
   ]
  },
  {
   "cell_type": "code",
   "execution_count": null,
   "metadata": {},
   "outputs": [],
   "source": [
    "name,age = 'shareef', 23\n",
    "address = 'amman,hai-nazzal'\n",
    "print(\"name: {}\\nage: {}\\naddress: {}\".format(name,age,address))"
   ]
  },
  {
   "cell_type": "markdown",
   "metadata": {},
   "source": [
    "45. Write a Python program to sort three integers without using conditional statements, loops or\n",
    "strings."
   ]
  },
  {
   "cell_type": "code",
   "execution_count": null,
   "metadata": {
    "scrolled": true
   },
   "outputs": [],
   "source": [
    "x = int(input(\"input the first num:\"))\n",
    "y = int(input(\"input the second num:\"))\n",
    "z = int(input(\"input the third num:\"))\n",
    "\n",
    "a1 = min(x,y,z)\n",
    "a3= max(x,y,z)\n",
    "a2 = (x + y + z)- a1 - a3\n",
    "print(\"numbers are sorted as:\", a1 , a2 , a3)"
   ]
  },
  {
   "cell_type": "markdown",
   "metadata": {},
   "source": [
    "46. Write a Python program to get the summation of the ASCII values of aaa characters in a string."
   ]
  },
  {
   "cell_type": "code",
   "execution_count": null,
   "metadata": {},
   "outputs": [],
   "source": [
    "x = input(\"input a string\")\n",
    "count = 0\n",
    "sum = 0\n",
    "t = [ord(a) for a in str(x)]\n",
    "for count in range(len(x)):\n",
    "    sum = sum+t[count]\n",
    "    count +=1\n",
    "print(sum)"
   ]
  },
  {
   "cell_type": "markdown",
   "metadata": {},
   "source": [
    "47. Write a Python program to convert a byte string to a list of integers."
   ]
  },
  {
   "cell_type": "code",
   "execution_count": null,
   "metadata": {},
   "outputs": [],
   "source": [
    "##"
   ]
  },
  {
   "cell_type": "markdown",
   "metadata": {},
   "source": [
    "48. Write a Python program to get the identity of an object."
   ]
  },
  {
   "cell_type": "code",
   "execution_count": null,
   "metadata": {},
   "outputs": [],
   "source": [
    "x = input(\"input an object\")\n",
    "x = id(x)\n",
    "print(x)\n"
   ]
  },
  {
   "cell_type": "markdown",
   "metadata": {},
   "source": [
    "49. Write a Python program to get the system time."
   ]
  },
  {
   "cell_type": "code",
   "execution_count": null,
   "metadata": {},
   "outputs": [],
   "source": [
    "###"
   ]
  },
  {
   "cell_type": "markdown",
   "metadata": {},
   "source": [
    "50. Write a Python program to find the ASCII string of a given number."
   ]
  },
  {
   "cell_type": "code",
   "execution_count": 28,
   "metadata": {
    "scrolled": true
   },
   "outputs": [
    {
     "name": "stdout",
     "output_type": "stream",
     "text": [
      "input a number5\n"
     ]
    },
    {
     "ename": "TypeError",
     "evalue": "'str' object is not callable",
     "output_type": "error",
     "traceback": [
      "\u001b[1;31m---------------------------------------------------------------------------\u001b[0m",
      "\u001b[1;31mTypeError\u001b[0m                                 Traceback (most recent call last)",
      "\u001b[1;32m<ipython-input-28-b4dbb1505527>\u001b[0m in \u001b[0;36m<module>\u001b[1;34m\u001b[0m\n\u001b[0;32m      1\u001b[0m \u001b[0mx\u001b[0m \u001b[1;33m=\u001b[0m \u001b[0mint\u001b[0m\u001b[1;33m(\u001b[0m\u001b[0minput\u001b[0m\u001b[1;33m(\u001b[0m\u001b[1;34m\"input a number\"\u001b[0m\u001b[1;33m)\u001b[0m\u001b[1;33m)\u001b[0m\u001b[1;33m\u001b[0m\u001b[1;33m\u001b[0m\u001b[0m\n\u001b[1;32m----> 2\u001b[1;33m \u001b[0masc\u001b[0m\u001b[1;33m(\u001b[0m\u001b[0mx\u001b[0m\u001b[1;33m)\u001b[0m\u001b[1;33m\u001b[0m\u001b[1;33m\u001b[0m\u001b[0m\n\u001b[0m\u001b[0;32m      3\u001b[0m \u001b[0mprint\u001b[0m\u001b[1;33m(\u001b[0m\u001b[1;34m'0000'\u001b[0m\u001b[1;33m+\u001b[0m\u001b[0masc\u001b[0m\u001b[1;33m)\u001b[0m\u001b[1;33m\u001b[0m\u001b[1;33m\u001b[0m\u001b[0m\n",
      "\u001b[1;31mTypeError\u001b[0m: 'str' object is not callable"
     ]
    }
   ],
   "source": [
    "x = int(input(\"input a number\"))\n",
    "asc(x)\n",
    "print('0000'+asc)"
   ]
  },
  {
   "cell_type": "markdown",
   "metadata": {},
   "source": [
    "51. Write a Python program to prove that two string variables of same value point same memory\n",
    "location."
   ]
  },
  {
   "cell_type": "code",
   "execution_count": null,
   "metadata": {},
   "outputs": [],
   "source": [
    "x1 = input(\"input ist string\")\n",
    "x2 = input(\"input 2nd string\")\n",
    "if x1==x2:\n",
    "    print(\"the two objects exactly the same\")\n",
    "    if x1 is x2:\n",
    "        print(\"the two objects have the same reference\")\n",
    "    else:\n",
    "        print(\"the two objects are not the same value or referene\")"
   ]
  },
  {
   "cell_type": "markdown",
   "metadata": {},
   "source": [
    "52. Write a Python function that takes a positive integer and returns the sum of the cube of all\n",
    "the positive integers smaller than the specified number."
   ]
  },
  {
   "cell_type": "code",
   "execution_count": 38,
   "metadata": {},
   "outputs": [
    {
     "name": "stdout",
     "output_type": "stream",
     "text": [
      "9\n"
     ]
    }
   ],
   "source": [
    "def sum_of_cubes(n):\n",
    "    n-=1\n",
    "    total = 0\n",
    "    while n >0:\n",
    "        total += n**3\n",
    "        n-= 1\n",
    "    return total\n",
    "print(sum_of_cubes(3))"
   ]
  },
  {
   "cell_type": "markdown",
   "metadata": {},
   "source": [
    "53. Write a Python program to add two positive integers without using the ’+’ operator.\n",
    "Note: Use bit wise operations to add two numbers"
   ]
  },
  {
   "cell_type": "code",
   "execution_count": 26,
   "metadata": {},
   "outputs": [
    {
     "name": "stdout",
     "output_type": "stream",
     "text": [
      "input 1st positive num4\n",
      "input 2st positive num4\n",
      "8\n"
     ]
    }
   ],
   "source": [
    "a = int(input(\"input 1st positive num\"))\n",
    "b = int(input(\"input 2st positive num\"))\n",
    "while b!=0:\n",
    "    data = a & b\n",
    "    a = a ^ b\n",
    "    b = data<<1\n",
    "   \n",
    "print(a)   "
   ]
  },
  {
   "cell_type": "markdown",
   "metadata": {},
   "source": [
    "54. Write a Python program to get all strobogrammatic numbers that are of length n.\n",
    "A strobogrammatic number is a number whose numeral is rotationally symmetric, so that it\n",
    "appears the same when rotated 180 degrees. In other words, the numeral looks the same rightside\n",
    "up and upside down (e.g., 69, 96, 1001).\n",
    "For example,\n",
    "Given n = 2, return [”11”, ”69”, ”88”, ”96”]. Given n = 3, return [’818’, ’111’, ’916’, ’619’,\n",
    "’808’, ’101’, ’906’, ’609’, ’888’, ’181’, ’986’, ’689’]"
   ]
  },
  {
   "cell_type": "markdown",
   "metadata": {},
   "source": [
    "### "
   ]
  },
  {
   "cell_type": "markdown",
   "metadata": {},
   "source": [
    "55. Write a Python program to find the median among n given numbers."
   ]
  },
  {
   "cell_type": "code",
   "execution_count": 25,
   "metadata": {},
   "outputs": [
    {
     "name": "stdout",
     "output_type": "stream",
     "text": [
      "30\n"
     ]
    }
   ],
   "source": [
    "n_num = [10,20,30,40,50]\n",
    "n = len(n_num)\n",
    "n_num.sort()\n",
    "if n %2==0:\n",
    "    med1 = n_num[n//2]\n",
    "    med2 = n_num[n//2 - 1]\n",
    "    median = (med1+med2)/2\n",
    "else:\n",
    "    median = n_num[n//2]\n",
    "    print(str(median))"
   ]
  },
  {
   "cell_type": "markdown",
   "metadata": {},
   "source": [
    "56. Write a Python program to find all the divisors of a given number."
   ]
  },
  {
   "cell_type": "code",
   "execution_count": 24,
   "metadata": {},
   "outputs": [
    {
     "name": "stdout",
     "output_type": "stream",
     "text": [
      "input any number5\n",
      "1\n",
      "5\n"
     ]
    }
   ],
   "source": [
    "n = int(input('input any number'))\n",
    "i = 1\n",
    "while i <=n :\n",
    "    if (n%i==0):\n",
    "        print(i)\n",
    "    i = i+1    "
   ]
  },
  {
   "cell_type": "markdown",
   "metadata": {},
   "source": [
    "57. Write a Python program to find the number of divisors of a given integer is even or odd."
   ]
  },
  {
   "cell_type": "code",
   "execution_count": 37,
   "metadata": {},
   "outputs": [
    {
     "name": "stdout",
     "output_type": "stream",
     "text": [
      "even\n",
      "even\n",
      "even\n",
      "even\n",
      "even\n",
      "even\n",
      "even\n"
     ]
    }
   ],
   "source": [
    "n = 8\n",
    "count = 0\n",
    "for i in range(1,n):\n",
    "    if (n %i == 0 ):\n",
    "        if(n//i==i):\n",
    "            count = count+1\n",
    "        else:\n",
    "             count = count+2\n",
    "    if (count %2 ==0):\n",
    "        print('even')\n",
    "        \n",
    "    else:\n",
    "        print('odd')\n"
   ]
  },
  {
   "cell_type": "markdown",
   "metadata": {},
   "source": [
    "58. Write a Python program to create a sequence where the first four members of the sequence are\n",
    "equal to one, and each successive term of the sequence is equal to the sum of the four previous\n",
    "ones. Find the Nth member of the sequence."
   ]
  },
  {
   "cell_type": "code",
   "execution_count": null,
   "metadata": {},
   "outputs": [],
   "source": [
    "###"
   ]
  },
  {
   "cell_type": "markdown",
   "metadata": {},
   "source": [
    "59. Write a Python program that accept a positive number and subtract from this number the sum\n",
    "of its digits and so on. Continues this operation until the number is positive"
   ]
  },
  {
   "cell_type": "code",
   "execution_count": null,
   "metadata": {},
   "outputs": [],
   "source": [
    "#####"
   ]
  },
  {
   "cell_type": "markdown",
   "metadata": {},
   "source": [
    "60. Write a Python program to find the digits which are absent in a given mobile number."
   ]
  },
  {
   "cell_type": "code",
   "execution_count": 16,
   "metadata": {},
   "outputs": [
    {
     "name": "stdout",
     "output_type": "stream",
     "text": [
      "[0, 2, 5, 8]\n"
     ]
    }
   ],
   "source": [
    "def no_digits(n):\n",
    "     all_nums = set([0,1,2,3,4,5,6,7,8,9])\n",
    "     n = set([int(i) for i in n])\n",
    "     n = n.symmetric_difference(all_nums)\n",
    "     n = sorted(n)\n",
    "     return n\n",
    "print(no_digits([1,3,6,4,7,9]))\n",
    "\n"
   ]
  },
  {
   "cell_type": "markdown",
   "metadata": {},
   "source": [
    "61. Write a Python program to check whether three given lengths (integers) of three sides form a\n",
    "right triangle. Print ”Yes” if the given sides form a right triangle otherwise print ”No”.\n",
    "Input: Integers separated by a single space.\n",
    "1 = length of the side = 1,000\n",
    "Input three integers(sides of a triangle)\n",
    "8 6 7\n",
    "No"
   ]
  },
  {
   "cell_type": "code",
   "execution_count": 2,
   "metadata": {},
   "outputs": [
    {
     "name": "stdout",
     "output_type": "stream",
     "text": [
      "input three integers1,2,3\n"
     ]
    },
    {
     "ename": "TypeError",
     "evalue": "unsupported operand type(s) for ** or pow(): 'str' and 'int'",
     "output_type": "error",
     "traceback": [
      "\u001b[1;31m---------------------------------------------------------------------------\u001b[0m",
      "\u001b[1;31mTypeError\u001b[0m                                 Traceback (most recent call last)",
      "\u001b[1;32m<ipython-input-2-30e84e92ad84>\u001b[0m in \u001b[0;36m<module>\u001b[1;34m\u001b[0m\n\u001b[0;32m      2\u001b[0m \u001b[0mnum\u001b[0m \u001b[1;33m=\u001b[0m \u001b[0mnum\u001b[0m\u001b[1;33m.\u001b[0m\u001b[0msplit\u001b[0m\u001b[1;33m(\u001b[0m\u001b[1;34m','\u001b[0m\u001b[1;33m)\u001b[0m\u001b[1;33m\u001b[0m\u001b[1;33m\u001b[0m\u001b[0m\n\u001b[0;32m      3\u001b[0m \u001b[0mx\u001b[0m\u001b[1;33m,\u001b[0m\u001b[0my\u001b[0m\u001b[1;33m,\u001b[0m\u001b[0mz\u001b[0m \u001b[1;33m=\u001b[0m \u001b[0msorted\u001b[0m\u001b[1;33m(\u001b[0m\u001b[0mnum\u001b[0m\u001b[1;33m)\u001b[0m\u001b[1;33m\u001b[0m\u001b[1;33m\u001b[0m\u001b[0m\n\u001b[1;32m----> 4\u001b[1;33m \u001b[1;32mif\u001b[0m \u001b[1;33m(\u001b[0m\u001b[0mx\u001b[0m\u001b[1;33m)\u001b[0m\u001b[1;33m**\u001b[0m\u001b[1;36m2\u001b[0m\u001b[1;33m+\u001b[0m\u001b[1;33m(\u001b[0m\u001b[0my\u001b[0m\u001b[1;33m)\u001b[0m\u001b[1;33m**\u001b[0m\u001b[1;36m2\u001b[0m\u001b[1;33m==\u001b[0m\u001b[1;33m(\u001b[0m\u001b[0mz\u001b[0m\u001b[1;33m)\u001b[0m\u001b[1;33m**\u001b[0m\u001b[1;36m2\u001b[0m\u001b[1;33m:\u001b[0m\u001b[1;33m\u001b[0m\u001b[1;33m\u001b[0m\u001b[0m\n\u001b[0m\u001b[0;32m      5\u001b[0m     \u001b[0mprint\u001b[0m\u001b[1;33m(\u001b[0m\u001b[1;34m'yse'\u001b[0m\u001b[1;33m)\u001b[0m\u001b[1;33m\u001b[0m\u001b[1;33m\u001b[0m\u001b[0m\n\u001b[0;32m      6\u001b[0m \u001b[1;32melse\u001b[0m\u001b[1;33m:\u001b[0m\u001b[1;33m\u001b[0m\u001b[1;33m\u001b[0m\u001b[0m\n",
      "\u001b[1;31mTypeError\u001b[0m: unsupported operand type(s) for ** or pow(): 'str' and 'int'"
     ]
    }
   ],
   "source": [
    "num = input('input three integers')\n",
    "num = num.split(',')\n",
    "x,y,z = sorted(num)\n",
    "if (x)**2+(y)**2==(z)**2:\n",
    "    print('yse')\n",
    "else:\n",
    "    print('no')"
   ]
  },
  {
   "cell_type": "markdown",
   "metadata": {},
   "source": [
    "62. Write a python program to find heights of the top three building in descending order from eight\n",
    "given buildings.\n",
    "Input: 0 = height of building (integer) = 10,000\n",
    "Input the heights of eight buildings:\n",
    "25 35 15 16 30 45 37 39\n",
    "Heights of the top three buildings:\n",
    "45 39 37"
   ]
  },
  {
   "cell_type": "code",
   "execution_count": null,
   "metadata": {},
   "outputs": [
    {
     "name": "stdout",
     "output_type": "stream",
     "text": [
      "input the height of 8 buildings\n"
     ]
    }
   ],
   "source": [
    "print(\"input the height of 8 buildings\")\n",
    "heights = [int(input()) for i in range(8)]\n",
    "print(\"heights of the top three buildings:\")\n",
    "heights = sorted(heights)\n",
    "#print(*heights[:4:-1], sep='\\n')\n",
    "print(heights[5:], sep='\\in')"
   ]
  }
 ],
 "metadata": {
  "kernelspec": {
   "display_name": "Python 3",
   "language": "python",
   "name": "python3"
  },
  "language_info": {
   "codemirror_mode": {
    "name": "ipython",
    "version": 3
   },
   "file_extension": ".py",
   "mimetype": "text/x-python",
   "name": "python",
   "nbconvert_exporter": "python",
   "pygments_lexer": "ipython3",
   "version": "3.7.3"
  }
 },
 "nbformat": 4,
 "nbformat_minor": 2
}
