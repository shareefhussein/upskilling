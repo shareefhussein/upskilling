{
 "cells": [
  {
   "cell_type": "markdown",
   "metadata": {},
   "source": [
    "1. Reverse a given number loops and equations and return true if it is the same as the original\n",
    "number."
   ]
  },
  {
   "cell_type": "code",
   "execution_count": 1,
   "metadata": {},
   "outputs": [
    {
     "name": "stdout",
     "output_type": "stream",
     "text": [
      "input a number123\n",
      "it is not the same number: 321\n"
     ]
    }
   ],
   "source": [
    "x = int(input(\"input a number\"))\n",
    "j = 0\n",
    "while x>0 :\n",
    "    rem = x % 10\n",
    "    j = (j*10) + rem\n",
    "    x=x//10\n",
    "if j==x:\n",
    "    print( 'it is the same original num:', x)\n",
    "else:\n",
    "    print(\"it is not the same number:\", j)\n"
   ]
  },
  {
   "cell_type": "markdown",
   "metadata": {},
   "source": [
    "2. Write a Python program to remove the nth index character from a nonempty string."
   ]
  },
  {
   "cell_type": "code",
   "execution_count": 8,
   "metadata": {},
   "outputs": [
    {
     "name": "stdout",
     "output_type": "stream",
     "text": [
      "input a string:452asdcvbgt\n",
      "452asdcvbt\n"
     ]
    }
   ],
   "source": [
    "string = input(\"input a string:\")\n",
    "index = 9\n",
    "if len(string)>index :\n",
    "    new_string = string[0:index]+string[index+1 : ]\n",
    "    print(new_string) \n"
   ]
  },
  {
   "cell_type": "markdown",
   "metadata": {},
   "source": [
    "3. Write a Python program to calculate the length of a string."
   ]
  },
  {
   "cell_type": "code",
   "execution_count": 1,
   "metadata": {},
   "outputs": [
    {
     "name": "stdout",
     "output_type": "stream",
     "text": [
      "input any string:123555\n",
      "6\n"
     ]
    }
   ],
   "source": [
    "string = input(\"input any string:\")\n",
    "print(len(string))"
   ]
  },
  {
   "cell_type": "markdown",
   "metadata": {},
   "source": [
    "4. loop over a string and each time delete the last two character until no characters left."
   ]
  },
  {
   "cell_type": "code",
   "execution_count": 8,
   "metadata": {},
   "outputs": [
    {
     "name": "stdout",
     "output_type": "stream",
     "text": [
      "SHAREEFHUSSE\n",
      "SHAREEFHUS\n",
      "SHAREEFH\n",
      "SHAREE\n",
      "SHAR\n",
      "SH\n",
      "\n",
      "\n",
      "\n",
      "\n",
      "\n",
      "\n",
      "\n",
      "\n"
     ]
    }
   ],
   "source": [
    "s= 'SHAREEFHUSSEIN'\n",
    "for i in range(len(s)):\n",
    "    s = s[:-2]\n",
    "    print(s)"
   ]
  },
  {
   "cell_type": "markdown",
   "metadata": {},
   "source": [
    "5. Write a Python program to create a string contains the unique characters in a string."
   ]
  },
  {
   "cell_type": "code",
   "execution_count": 18,
   "metadata": {},
   "outputs": [
    {
     "name": "stdout",
     "output_type": "stream",
     "text": [
      "input a string: wqeqrsdcvcvnhludsfasrewt\n",
      "hduelqrvfctawns\n"
     ]
    }
   ],
   "source": [
    "x = input(\"input a string: \")\n",
    "x = set(x)\n",
    "print(''.join(x))"
   ]
  },
  {
   "cell_type": "markdown",
   "metadata": {},
   "source": [
    "6. Write a Python program to count the number of occurrences of characters (character frequency)\n",
    "in a string."
   ]
  },
  {
   "cell_type": "code",
   "execution_count": 36,
   "metadata": {},
   "outputs": [
    {
     "name": "stdout",
     "output_type": "stream",
     "text": [
      "input any string:dfdfsdg\n",
      "input the char that you want to count its occurances: g\n",
      "1\n"
     ]
    }
   ],
   "source": [
    "string = input(\"input any string:\")\n",
    "n = input(\"input the char that you want to count its occurances: \")\n",
    "print(string.count(n))"
   ]
  },
  {
   "cell_type": "markdown",
   "metadata": {},
   "source": [
    "7. Write a Python program to get a string made of the first 2 and the last 2 chars from a given a\n",
    "string. If the string length is less than 2, return instead of the empty string."
   ]
  },
  {
   "cell_type": "code",
   "execution_count": 31,
   "metadata": {},
   "outputs": [
    {
     "name": "stdout",
     "output_type": "stream",
     "text": [
      "input a string: DARKMANTIS\n",
      "DAIS\n"
     ]
    }
   ],
   "source": [
    "string1 = input('input a string: ')\n",
    "for new_string in range(len(string1)):\n",
    "    if len(string1)<2:\n",
    "        print(new_string[''])\n",
    "    else:    \n",
    "        new_string = string1[0]+string1[1]+string1[-2]+string1[-1] \n",
    "print(new_string)\n"
   ]
  },
  {
   "cell_type": "markdown",
   "metadata": {},
   "source": [
    "8. Write a Python program to get a string from a given string where all occurrences of its first\n",
    "char have been changed to ’$’, except the first char itself.\n"
   ]
  },
  {
   "cell_type": "code",
   "execution_count": 4,
   "metadata": {},
   "outputs": [
    {
     "name": "stdout",
     "output_type": "stream",
     "text": [
      "$hareefhu$$ein\n"
     ]
    }
   ],
   "source": [
    "string1= 'shareefhussein'\n",
    "string2 = string1.replace('s','$')\n",
    "print(string2)"
   ]
  },
  {
   "cell_type": "markdown",
   "metadata": {},
   "source": [
    "9. Write a Python program that takes a string split it into list of words and returns the length of\n",
    "each one."
   ]
  },
  {
   "cell_type": "code",
   "execution_count": 5,
   "metadata": {},
   "outputs": [
    {
     "name": "stdout",
     "output_type": "stream",
     "text": [
      "input a string: dasdasd drg865\n",
      "['dasdasd', 'drg865']\n",
      "7\n",
      "6\n"
     ]
    }
   ],
   "source": [
    "s1 =input('input a string: ')\n",
    "s1 = s1.split(sep=' ')\n",
    "print(s1)\n",
    "for i in range(len(s1)):\n",
    "    print(len(s1[i]))"
   ]
  },
  {
   "cell_type": "markdown",
   "metadata": {},
   "source": [
    "10. Write a Python program to check whether a string starts with specified characters."
   ]
  },
  {
   "cell_type": "code",
   "execution_count": 43,
   "metadata": {},
   "outputs": [
    {
     "name": "stdout",
     "output_type": "stream",
     "text": [
      "input a string: #dfd\n",
      "starts with a special character #\n"
     ]
    }
   ],
   "source": [
    "x = input('input a string: ')\n",
    "\n",
    "for i in str(x):\n",
    "    if (i.islower()) or (i.isupper()) or (i.isdigit()):\n",
    "         pass\n",
    "    else:\n",
    "        print('starts with a special character', i)    "
   ]
  },
  {
   "cell_type": "markdown",
   "metadata": {},
   "source": [
    "11. Write a Python program to get the last part of a string before a specified character.\n",
    "https://www.w3resource.com/python-exercises\n",
    "https://www.w3resource.com/python"
   ]
  },
  {
   "cell_type": "code",
   "execution_count": 21,
   "metadata": {},
   "outputs": [
    {
     "name": "stdout",
     "output_type": "stream",
     "text": [
      "//www.w3resource.com/python-exercises \n",
      "exercises \n"
     ]
    }
   ],
   "source": [
    "x = ' https://www.w3resource.com/python-exercises '\n",
    "print(x.rsplit(':',1)[1])\n",
    "print(x.rsplit('-',1)[1])     "
   ]
  },
  {
   "cell_type": "markdown",
   "metadata": {},
   "source": [
    "12. Write a Python program to print the following integers with zeros on the left of specified width."
   ]
  },
  {
   "cell_type": "code",
   "execution_count": 58,
   "metadata": {},
   "outputs": [
    {
     "name": "stdout",
     "output_type": "stream",
     "text": [
      "input a number: 20\n",
      "00000020\n"
     ]
    }
   ],
   "source": [
    "x = int(input(\"input a number: \"))\n",
    "print(\"{:0>8d}\".format(x))"
   ]
  },
  {
   "cell_type": "markdown",
   "metadata": {},
   "source": [
    "13. Write a Python program to print the following floating numbers with no decimal places."
   ]
  },
  {
   "cell_type": "code",
   "execution_count": 70,
   "metadata": {},
   "outputs": [
    {
     "name": "stdout",
     "output_type": "stream",
     "text": [
      "30\n"
     ]
    }
   ],
   "source": [
    "x = 30.485\n",
    "print(\"{:.0f}\".format(x))"
   ]
  },
  {
   "cell_type": "markdown",
   "metadata": {},
   "source": [
    "14. Write a Python program to display a number with a comma separator."
   ]
  },
  {
   "cell_type": "code",
   "execution_count": 76,
   "metadata": {},
   "outputs": [
    {
     "name": "stdout",
     "output_type": "stream",
     "text": [
      "1,000,000\n"
     ]
    }
   ],
   "source": [
    "x = 1000000\n",
    "print(\"{:,}\".format(x))"
   ]
  },
  {
   "cell_type": "markdown",
   "metadata": {},
   "source": [
    "15. Write a Python program to strip a set of characters from a string."
   ]
  },
  {
   "cell_type": "code",
   "execution_count": 7,
   "metadata": {},
   "outputs": [
    {
     "name": "stdout",
     "output_type": "stream",
     "text": [
      "input a string of characters: shareef\n",
      "sha \n"
     ]
    }
   ],
   "source": [
    "x1 = input(\"input a string of characters: \")\n",
    "\n",
    "for i in range(len(x1)):\n",
    "    y = x1.replace(x1[3:],' ')\n",
    "print(y)"
   ]
  },
  {
   "cell_type": "markdown",
   "metadata": {},
   "source": [
    "16. Write a Python program to swap comma and dot in a string.\n",
    "Sample string: ”32.054,23”\n",
    "Expected Output: ”32,054.23”"
   ]
  },
  {
   "cell_type": "code",
   "execution_count": 26,
   "metadata": {},
   "outputs": [
    {
     "name": "stdout",
     "output_type": "stream",
     "text": [
      "32,054.23\n"
     ]
    }
   ],
   "source": [
    "amount = \"32.054,23\"\n",
    "maketrans = amount.maketrans\n",
    "amount = amount.translate(maketrans(',.', '.,'))\n",
    "print(amount)"
   ]
  },
  {
   "cell_type": "markdown",
   "metadata": {},
   "source": [
    "18. Write a Python program to capitalize first and last letters of each word of a given string."
   ]
  },
  {
   "cell_type": "code",
   "execution_count": 6,
   "metadata": {
    "scrolled": true
   },
   "outputs": [
    {
     "name": "stdout",
     "output_type": "stream",
     "text": [
      "input a string: hhhhhh\n",
      " HhhhhH \n"
     ]
    }
   ],
   "source": [
    "s = input(\"input a string: \")\n",
    "s = s.title()\n",
    "new = \" \"\n",
    "for word in s.split():\n",
    "    new = new + word[:-1]+ word[-1].upper()+\" \"\n",
    "print(new)"
   ]
  },
  {
   "cell_type": "markdown",
   "metadata": {},
   "source": [
    "19. Write a Python program that takes a string split it into list of words and returns the length of\n",
    "the longest one."
   ]
  },
  {
   "cell_type": "code",
   "execution_count": 42,
   "metadata": {
    "scrolled": true
   },
   "outputs": [
    {
     "name": "stdout",
     "output_type": "stream",
     "text": [
      "input a string: ff jtjtu\n",
      "['f', 'f']\n",
      "['j', 't', 'j', 't', 'u']\n"
     ]
    }
   ],
   "source": [
    "s1 =input('input a string: ')\n",
    "max = 0\n",
    "s1 = s1.split(sep=' ')\n",
    "for i in range(len(s1)):\n",
    "    max = list(s1[i])\n",
    "    print(max)\n"
   ]
  },
  {
   "cell_type": "markdown",
   "metadata": {},
   "source": [
    "20. on the previous exercise add all the list strings into one string adding the letters ’Y!’ before\n",
    "each."
   ]
  },
  {
   "cell_type": "code",
   "execution_count": 41,
   "metadata": {
    "scrolled": true
   },
   "outputs": [
    {
     "name": "stdout",
     "output_type": "stream",
     "text": [
      "thisY!stringY!willY!be\n"
     ]
    }
   ],
   "source": [
    "s = ' this string will be'\n",
    "\n",
    "s = s.split()\n",
    "for word in s:\n",
    "    pass\n",
    "     \n",
    "print('Y!'.join(s))\n"
   ]
  },
  {
   "cell_type": "markdown",
   "metadata": {},
   "source": [
    "21. Write a Python program to remove a newline in the beginning and ending of a string."
   ]
  },
  {
   "cell_type": "code",
   "execution_count": 8,
   "metadata": {},
   "outputs": [
    {
     "name": "stdout",
     "output_type": "stream",
     "text": [
      "school exams\n",
      "\n",
      "school exams\n"
     ]
    }
   ],
   "source": [
    "str1='school exams\\n'\n",
    "print(str1)\n",
    "print(str1.rstrip())"
   ]
  },
  {
   "cell_type": "markdown",
   "metadata": {},
   "source": [
    "22. Write a Python program to sort a string lexicographically."
   ]
  },
  {
   "cell_type": "code",
   "execution_count": 29,
   "metadata": {},
   "outputs": [
    {
     "name": "stdout",
     "output_type": "stream",
     "text": [
      "input a string with spaces : q a d\n",
      "['a']\n",
      "['d']\n",
      "['q']\n"
     ]
    }
   ],
   "source": [
    "string =input(\"input a string with spaces : \")\n",
    "lexi_string = string.split()\n",
    "i = lexi_string.sort()\n",
    "for i in lexi_string:\n",
    "    print(list(i))"
   ]
  },
  {
   "cell_type": "markdown",
   "metadata": {},
   "source": [
    "23. Write a Python program to convert a given string to all uppercase if it contains at least 2\n",
    "uppercase characters in the first 4 characters else convert it to lower case."
   ]
  },
  {
   "cell_type": "code",
   "execution_count": 11,
   "metadata": {},
   "outputs": [
    {
     "name": "stdout",
     "output_type": "stream",
     "text": [
      "PYTHON\n",
      "PYTHON\n",
      "python\n"
     ]
    }
   ],
   "source": [
    "s = 'PYthon'\n",
    "num = 0\n",
    "for letter in s[:4] :\n",
    "    if letter.upper() == letter:\n",
    "        num += 1\n",
    "        print(s.upper())\n",
    "else:\n",
    "    print(s.lower())"
   ]
  },
  {
   "cell_type": "markdown",
   "metadata": {},
   "source": [
    "24. Write a Python program to get a string made of 4 copies of the last two characters of a specified\n",
    "string (length must be at least 2).\n",
    "Sample function and result :\n",
    "insert_end(’Python’) : onononon\n",
    "insert_end(’Exercises’) : eseseses"
   ]
  },
  {
   "cell_type": "code",
   "execution_count": 22,
   "metadata": {},
   "outputs": [
    {
     "name": "stdout",
     "output_type": "stream",
     "text": [
      "result: onononon\n"
     ]
    }
   ],
   "source": [
    "x = 'python'\n",
    "for i in range(len(x)):\n",
    "    if len(x)<2:\n",
    "        print(\" enter a string with length at least 2 \")\n",
    "    else:    \n",
    "        pass\n",
    "print('result:',end=\" \")\n",
    "print((x[-2:])*4)    "
   ]
  },
  {
   "cell_type": "markdown",
   "metadata": {},
   "source": [
    "25. Write a Python program to create a Caesar cipher."
   ]
  },
  {
   "cell_type": "code",
   "execution_count": 5,
   "metadata": {},
   "outputs": [
    {
     "name": "stdout",
     "output_type": "stream",
     "text": [
      "plain text:ceaser cipher\n",
      "shift pattern :3\n",
      "cipher: f\n"
     ]
    }
   ],
   "source": [
    "def ceaser(text,s):\n",
    "    result = ' '\n",
    "    for i in range(len(text)):\n",
    "        char = text[i]\n",
    "        if (char.isupper()):\n",
    "            resule += chr((ord(char) + s-65) %26 +65)\n",
    "        else:\n",
    "            result += chr((ord(char) + s-97)% 26+97)\n",
    "            return result\n",
    "text = 'ceaser cipher'\n",
    "s = 3\n",
    "print(\"plain text:\" + text)\n",
    "print(\"shift pattern :\" + str(s))\n",
    "print(\"cipher:\" + ceaser(text,s))"
   ]
  },
  {
   "cell_type": "markdown",
   "metadata": {},
   "source": [
    "26. Write a Python program to check if a string contains only letters of the English alphabet."
   ]
  },
  {
   "cell_type": "code",
   "execution_count": 47,
   "metadata": {},
   "outputs": [
    {
     "name": "stdout",
     "output_type": "stream",
     "text": [
      "input a stringabcdefghijklmnopqrstuvwxyz\n",
      "True\n"
     ]
    }
   ],
   "source": [
    "import string\n",
    "alphabet = set(string.ascii_lowercase)\n",
    "input_string = input(\"input a string\")\n",
    "print(set(input_string.lower()) >= alphabet)"
   ]
  },
  {
   "cell_type": "markdown",
   "metadata": {},
   "source": [
    "27. Write a Python program to check if a string contains all letters of the alphabet."
   ]
  },
  {
   "cell_type": "code",
   "execution_count": 26,
   "metadata": {},
   "outputs": [
    {
     "name": "stdout",
     "output_type": "stream",
     "text": [
      "True\n"
     ]
    }
   ],
   "source": [
    "import string\n",
    "alp = set(string.ascii_lowercase)\n",
    "input_string = 'abcdefghijklmnopqrstuvwxyz'\n",
    "print(set(input_string.lower()) >= alp)"
   ]
  },
  {
   "cell_type": "markdown",
   "metadata": {},
   "source": [
    "28. Write a Python program converting even indexed characters to upper and odd index characters\n",
    "to lower."
   ]
  },
  {
   "cell_type": "code",
   "execution_count": 15,
   "metadata": {},
   "outputs": [
    {
     "name": "stdout",
     "output_type": "stream",
     "text": [
      "input any string: SHAREEF\n",
      "S h A r E e F "
     ]
    }
   ],
   "source": [
    "string = input(\"input any string: \")\n",
    "for i in range(len(string)):\n",
    "    if i %2 == 0:\n",
    "        print(string[i].upper(),end=\" \")\n",
    "    else:\n",
    "        print(string[i].lower(),end=\" \")\n"
   ]
  },
  {
   "cell_type": "markdown",
   "metadata": {},
   "source": [
    "29. Write a Python program to create a string from two given strings concatenating uncommon\n",
    "characters of the two strings."
   ]
  },
  {
   "cell_type": "code",
   "execution_count": 3,
   "metadata": {},
   "outputs": [
    {
     "name": "stdout",
     "output_type": "stream",
     "text": [
      "input 1st sreing: abc\n",
      "input 1st sreing: cdf\n",
      "badf\n"
     ]
    }
   ],
   "source": [
    "s1 = set(input(\"input 1st sreing: \"))\n",
    "s2 = set(input(\"input 1st sreing: \"))\n",
    "common = list(s1&s2)\n",
    "new = [ch for ch in s1 if ch not in common] + [ ch for ch in s2 if ch not in common ]\n",
    "print (''.join(new))"
   ]
  },
  {
   "cell_type": "markdown",
   "metadata": {
    "scrolled": false
   },
   "source": [
    "30. Write a Python program to chick if a string is Palindrome ."
   ]
  },
  {
   "cell_type": "code",
   "execution_count": 29,
   "metadata": {},
   "outputs": [
    {
     "name": "stdout",
     "output_type": "stream",
     "text": [
      "yes\n"
     ]
    }
   ],
   "source": [
    "def reverse(s):\n",
    "    return s[::-1]\n",
    "def ispal(s):\n",
    "    rev = reverse(s)\n",
    "    if (s==rev):\n",
    "        return True\n",
    "    return False\n",
    "\n",
    "s = 'salammalas'\n",
    "x = ispal(s)\n",
    "if x ==1:\n",
    "    print('yes')\n",
    "else:\n",
    "    ptint('no')"
   ]
  },
  {
   "cell_type": "markdown",
   "metadata": {},
   "source": [
    "31. Write a Python program to display a floating number in specified numbers (specified number\n",
    "of digits after the ’.’)."
   ]
  },
  {
   "cell_type": "code",
   "execution_count": 1,
   "metadata": {},
   "outputs": [
    {
     "name": "stdout",
     "output_type": "stream",
     "text": [
      "input a float number: 20.5554646\n",
      "input number of digits after the \".\" 3\n",
      "20.555\n"
     ]
    }
   ],
   "source": [
    "x= float(input('input a float number: '))\n",
    "y= int(input('input number of digits after the \".\" '))\n",
    "print(round(x,y))"
   ]
  },
  {
   "cell_type": "markdown",
   "metadata": {},
   "source": [
    "32. Write a Python program to format a specified string to limit the number of characters to 6\n",
    "always"
   ]
  },
  {
   "cell_type": "code",
   "execution_count": 41,
   "metadata": {},
   "outputs": [
    {
     "name": "stdout",
     "output_type": "stream",
     "text": [
      "\n",
      "123456\n",
      "\n"
     ]
    }
   ],
   "source": [
    "str_num = '123456789'\n",
    "print()\n",
    "print( '%.6s' % str_num)\n",
    "print()"
   ]
  },
  {
   "cell_type": "markdown",
   "metadata": {},
   "source": [
    "33. Write a Python program to split a variable length string into variables."
   ]
  },
  {
   "cell_type": "code",
   "execution_count": 56,
   "metadata": {},
   "outputs": [
    {
     "name": "stdout",
     "output_type": "stream",
     "text": [
      "[100, 20]\n"
     ]
    }
   ],
   "source": [
    "var_list = [100,20]\n",
    "x,y = (var_list + [None] *2)[:2]\n",
    "print(var_list)"
   ]
  },
  {
   "cell_type": "markdown",
   "metadata": {},
   "source": [
    "34. Write a Python program to create all possible strings by using ’a’, ’e’, ’i’, ’o’, ’u’. Use the\n",
    "characters exactly once."
   ]
  },
  {
   "cell_type": "code",
   "execution_count": 8,
   "metadata": {},
   "outputs": [
    {
     "name": "stdout",
     "output_type": "stream",
     "text": [
      "aoiue\n"
     ]
    }
   ],
   "source": [
    "import random\n",
    "char_list = ['o','a','u','i','e']\n",
    "random.shuffle(char_list)\n",
    "print(''.join(char_list))"
   ]
  },
  {
   "cell_type": "markdown",
   "metadata": {},
   "source": [
    "35. Write a Python program to print a long text, convert the string to a list and print all the words\n",
    "and their frequencies."
   ]
  },
  {
   "cell_type": "code",
   "execution_count": 19,
   "metadata": {},
   "outputs": [
    {
     "name": "stdout",
     "output_type": "stream",
     "text": [
      "input a long string: dsf fgfg kkj nmny tyu\n",
      "dsf\n",
      "fgfg\n",
      "kkj\n",
      "nmny\n",
      "tyu\n"
     ]
    }
   ],
   "source": [
    "x = input(\"input a long string: \")\n",
    "x = x.split(\" \")\n",
    "for i in x:\n",
    "    print(i)"
   ]
  },
  {
   "cell_type": "markdown",
   "metadata": {},
   "source": [
    "36. Write a Python program to replace each character of a given text with the appropriate number\n",
    "between 0 and 25."
   ]
  },
  {
   "cell_type": "code",
   "execution_count": 49,
   "metadata": {},
   "outputs": [
    {
     "name": "stdout",
     "output_type": "stream",
     "text": [
      "012345\n"
     ]
    }
   ],
   "source": [
    "x = 'python'\n",
    "count = 0  \n",
    "for i in range(len(x)):\n",
    "        x = x.replace(x[i],str(count))\n",
    "        count+=1\n",
    "print(x)\n"
   ]
  },
  {
   "cell_type": "markdown",
   "metadata": {},
   "source": [
    "37. Write a Python program to find the number of digits at the result of factorizing a given positive\n",
    "numbers n.\n",
    "Range of the number(n): (n = 5; 1*2*3*4*5 = 120; result = 3)."
   ]
  },
  {
   "cell_type": "code",
   "execution_count": 16,
   "metadata": {},
   "outputs": [],
   "source": [
    "#####################################"
   ]
  },
  {
   "cell_type": "markdown",
   "metadata": {},
   "source": [
    "38. Write a Python program to find the value of n where n degrees of number 2 are written\n",
    "sequentially in a line without spaces."
   ]
  },
  {
   "cell_type": "code",
   "execution_count": 5,
   "metadata": {},
   "outputs": [
    {
     "name": "stdout",
     "output_type": "stream",
     "text": [
      "3\n"
     ]
    }
   ],
   "source": [
    "def ndegree(num):\n",
    "    ans = True\n",
    "    n,temp,i = 2,2,2,\n",
    "    while ans:\n",
    "        if str(temp) in num:\n",
    "            i\n",
    "            i+=1\n",
    "            temp = pow(n,i)\n",
    "        else:\n",
    "            ans = False\n",
    "    return i-1\n",
    "   \n",
    "print(ndegree(\"8945433632\"))"
   ]
  },
  {
   "cell_type": "markdown",
   "metadata": {},
   "source": [
    "39. Write a Python program to find the number of notes (Sample of notes: 10, 20, 50, 100, 200\n",
    "and 500 ) against an given amount."
   ]
  },
  {
   "cell_type": "code",
   "execution_count": 6,
   "metadata": {},
   "outputs": [
    {
     "name": "stdout",
     "output_type": "stream",
     "text": [
      "6\n"
     ]
    }
   ],
   "source": [
    "def no_note (a) :\n",
    "    Q = [500,200,100,50,20,10]\n",
    "    x = 0\n",
    "    for i in range(6):\n",
    "        q = Q[i]\n",
    "        x+=int(a/q)\n",
    "        a = int(a %q )\n",
    "    if a>0:\n",
    "        x = -1\n",
    "    return x\n",
    "\n",
    "\n",
    "print(no_note(880))"
   ]
  },
  {
   "cell_type": "markdown",
   "metadata": {},
   "source": [
    "40. Write a Python program to find the type of the progression (arithmetic progression/geometric\n",
    "progression) and the next successive member of a given three successive members of a sequence.\n",
    "Sample Input: 2, 6, 18\n",
    "Sample Output:\n",
    "ratio: 3.\n",
    "next number: 54"
   ]
  },
  {
   "cell_type": "code",
   "execution_count": 59,
   "metadata": {},
   "outputs": [
    {
     "name": "stdout",
     "output_type": "stream",
     "text": [
      "12\n"
     ]
    }
   ],
   "source": [
    "x = [2,4,6,8,10]\n",
    "for i in range(len(x)):\n",
    "    n = 2*x[i]-x[i-1]\n",
    "print(n)    #################################"
   ]
  },
  {
   "cell_type": "markdown",
   "metadata": {},
   "source": [
    "41. Write a Python program to find all common divisors between two numbers in a given pair."
   ]
  },
  {
   "cell_type": "code",
   "execution_count": 10,
   "metadata": {},
   "outputs": [
    {
     "name": "stdout",
     "output_type": "stream",
     "text": [
      "4\n"
     ]
    }
   ],
   "source": [
    "def ngcd(x,y):\n",
    "    i = 1\n",
    "    while (i<=x and i<=y):\n",
    "        if (x%i==0 and y%i == 0):\n",
    "            gcd = i\n",
    "        i+=1\n",
    "    return gcd\n",
    "\n",
    "def num_comm_div(x,y):\n",
    "        n = ngcd(x,y)\n",
    "        result = 0\n",
    "        z = int(n**0.5)\n",
    "        i = 1\n",
    "        while(i<=z):\n",
    "            if(n%i ==0):\n",
    "                result +=2\n",
    "                if(i==n/i):\n",
    "                    result -=1\n",
    "            i+=1\n",
    "        return result\n",
    "        \n",
    "print(num_comm_div(60,15))         "
   ]
  },
  {
   "cell_type": "markdown",
   "metadata": {},
   "source": [
    "42. Write a Python program to count the number of carry operations for each of a set of addition\n",
    "problems.\n",
    "According to Wikipedia ” In elementary arithmetic, a carry is a digit that is transferred from\n",
    "one column of digits to another column of more significant digits. It is part of the standard\n",
    "algorithm to add numbers together by starting with the rightmost digits and working to the\n",
    "left. For example, when 6 and 7 are added to make 13, the ”3” is written to the same column\n",
    "and the ”1” is carried to the left”."
   ]
  },
  {
   "cell_type": "code",
   "execution_count": 13,
   "metadata": {},
   "outputs": [
    {
     "name": "stdout",
     "output_type": "stream",
     "text": [
      "1\n"
     ]
    }
   ],
   "source": [
    "def num_carry(x,y):\n",
    "    ctr = 0\n",
    "    if (x ==0 and y==0):\n",
    "        return 0\n",
    "    z=0\n",
    "    for i in reversed(range(10)):\n",
    "        z = x%10 + y%10+ z\n",
    "        if z>9:\n",
    "            z = 1\n",
    "        else:\n",
    "            z = 0\n",
    "        ctr +=z\n",
    "        x//=10\n",
    "        y//=10\n",
    "    if ctr == 0:\n",
    "         return \"no carry\"\n",
    "    elif ctr==1:\n",
    "        return ctr\n",
    "    else:\n",
    "        return ctr\n",
    "    \n",
    "print(num_carry(19,11))      "
   ]
  },
  {
   "cell_type": "markdown",
   "metadata": {},
   "source": [
    "43. Write a Python program to compute the sum the count of digit number of two given integers;\n",
    "Input two integers(a b): 5 7\n",
    "Sum of two integers a and b: 2"
   ]
  },
  {
   "cell_type": "code",
   "execution_count": 8,
   "metadata": {},
   "outputs": [
    {
     "name": "stdout",
     "output_type": "stream",
     "text": [
      "Input two integers(x z): \n",
      "5 6\n",
      "Number of digit of x and z:\n",
      "2\n"
     ]
    }
   ],
   "source": [
    "print(\"Input two integers(x z): \")\n",
    "x,z = map(int,input().split(\" \"))\n",
    "print(\"Number of digit of x and z:\")\n",
    "print(len(str(x+z)))"
   ]
  },
  {
   "cell_type": "markdown",
   "metadata": {},
   "source": [
    "44. . Write a Python program to compute the amount of the debt in n months. The borrowing\n",
    "amount is $100,000 and the loan adds 5% interest of the debt and rounds it to the nearest\n",
    "1,000 above month by month. Go to the editor; Input: An integer n (0 < n < 100)\n",
    "Input number of months: 7 Amount of debt: $144000"
   ]
  },
  {
   "cell_type": "code",
   "execution_count": 6,
   "metadata": {},
   "outputs": [
    {
     "name": "stdout",
     "output_type": "stream",
     "text": [
      "5\n",
      "130000\n"
     ]
    }
   ],
   "source": [
    "def round_n(n):\n",
    "    if n%1000:\n",
    "        return (1+n//1000)*1000\n",
    "    else:\n",
    "        return n\n",
    "def debt(n):\n",
    "    if n==0:\n",
    "        return 100000\n",
    "    return int(round_n(debt(n-1)*1.05))\n",
    "\n",
    "result = debt(int(input()))\n",
    "print(str(result).strip())"
   ]
  },
  {
   "cell_type": "markdown",
   "metadata": {},
   "source": [
    "45. Write a Python program which reads a text (only alphabetical characters and spaces.) and\n",
    "prints two words. The first one is the word which is arise most frequently in the text. The\n",
    "second one is the word which has the maximum number of letters."
   ]
  },
  {
   "cell_type": "code",
   "execution_count": null,
   "metadata": {},
   "outputs": [
    {
     "name": "stdout",
     "output_type": "stream",
     "text": [
      "Input a text in a line.\n"
     ]
    }
   ],
   "source": [
    "import collections\n",
    "print(\"Input a text in a line.\")\n",
    "text_list = list(map(str, input().split()))\n",
    "sc = collections.Counter(text_list)\n",
    "common_word = sc.most_common()[0][0]\n",
    "max_char = \"\"\n",
    "for s in text_list:\n",
    "    if len(max_char) < len(s):\n",
    "        max_char = s\n",
    "print(\"\\nMost frequent text and the word which has the maximum number of letters.\")\n",
    "print(common_word, max_char)"
   ]
  },
  {
   "cell_type": "markdown",
   "metadata": {},
   "source": [
    "46. Write a Python program which reads the two adjoined sides and the diagonal of a parallelogram\n",
    "and check whether the parallelogram is a rectangle or a rhombus.\n",
    "According to Wikipediaparallelograms:\n",
    "In Euclidean geometry, a parallelogram is a simple (non-self-intersecting)\n",
    "quadrilateral with two pairs of parallel sides. The opposite or facing sides of a parallelogram\n",
    "are of equal length and the opposite angles of a parallelogram are of equal measure.\n",
    "rectangles: In Euclidean plane geometry, a rectangle is a quadrilateral with four right angles.\n",
    "It can also be defined as an equiangular quadrilateral, since equiangular means that all of its\n",
    "angles are equal (360°/4 = 90°). It can also be defined as a parallelogram containing a right\n",
    "angle.\n",
    "rhombus: In plane Euclidean geometry, a rhombus (plural rhombi or rhombuses) is a simple\n",
    "(non-self-intersecting) quadrilateral whose four sides all have the same length. Another name\n",
    "is equilateral quadrilateral, since equilateral means that all of its sides are equal in length. The\n",
    "rhombus is often called a diamond, after the diamonds suit in playing cards which resembles\n",
    "the projection of an octahedral diamond, or a lozenge, though the former sometimes refers\n",
    "specifically to a rhombus with a 60° angle, and the latter sometimes refers specifically to a\n",
    "rhombus with a 45° angle.\n",
    "Inputs are: 1 < ai, bi, ci < 1000; ai + bi > ci\n",
    "Sample: 3,4,5\n",
    "Output: This is a rectangle."
   ]
  },
  {
   "cell_type": "code",
   "execution_count": 5,
   "metadata": {},
   "outputs": [
    {
     "name": "stdout",
     "output_type": "stream",
     "text": [
      "input 2 sides of a diagonal and the diagonal of a parallelgram separated by comma: \n",
      "3,4,5\n",
      "this is a rectangle\n"
     ]
    }
   ],
   "source": [
    "print(\"input 2 sides of a diagonal and the diagonal of a parallelgram separated by comma: \")\n",
    "a,b,c = map(int,input().split(','))\n",
    "if c**2 ==a**2 + b**2:\n",
    "    print(\"this is a rectangle\")\n",
    "if a==b:\n",
    "    print(\"this is a rhombus\")"
   ]
  },
  {
   "cell_type": "markdown",
   "metadata": {},
   "source": [
    "47. Write a Python program to replace a string ”Python” with ”Java” and ”Java” with ”Python”\n",
    "in a given string at the same time.\n",
    "Python is popular than Java\n",
    "Java is popular than Python"
   ]
  },
  {
   "cell_type": "code",
   "execution_count": null,
   "metadata": {},
   "outputs": [
    {
     "name": "stdout",
     "output_type": "stream",
     "text": [
      "Input a text with two words 'Python' and 'Java'\n"
     ]
    }
   ],
   "source": [
    "print(\"Input a text with two words 'Python' and 'Java'\")\n",
    "text = input().split()\n",
    "for i in range(len(text)):\n",
    "    if \"Python\" in text[i]:n = text[i].index(\"Python\");text[i] = text[i][:n] + \"Java\" + text[i][n + 6:]\n",
    "    elif \"Java\" in text[i]:n = text[i].index(\"Java\");text[i] = text[i][:n] + \"Python\" + text[i][n + 4:]\n",
    "print(*text)"
   ]
  },
  {
   "cell_type": "markdown",
   "metadata": {},
   "source": [
    "48. Write a Python program that accept a even number (>=4, Goldbach number) from the user\n",
    "and create a combinations that express the given number as a sum of two prime numbers. Print\n",
    "the number of combinations.\n",
    "Goldbach number: A Goldbach number is a positive even integer that can be expressed as the\n",
    "sum of two odd primes.[4] Since four is the only even number greater than two that requires the\n",
    "even prime 2 in order to be written as the sum of two primes, another form of the statement\n",
    "of Goldbach’s conjecture is that all even integers greater than 4 are Goldbach numbers.\n",
    "The expression of a given even number as a sum of two primes is called a Goldbach partition\n",
    "of that number. The following are examples of Goldbach partitions for some even numbers:\n",
    "6 = 3 + 3\n",
    "4"
   ]
  },
  {
   "cell_type": "code",
   "execution_count": null,
   "metadata": {},
   "outputs": [],
   "source": [
    "  ##########################################################"
   ]
  },
  {
   "cell_type": "markdown",
   "metadata": {},
   "source": [
    "49. There are 10 vertical and horizontal squares on a plane. Each square is painted blue and green.\n",
    "Blue represents the sea, and green represents the land. When two green squares are in contact\n",
    "with the top and bottom, or right and left, they are said to be ground. The area created by\n",
    "only one green square is called ”island”. For example, there are five islands in the figure below.\n",
    "Write a Python program to read the mass data and find the number of islands. Inputs are\n",
    "10 rows of 10 numbers representing green squares (island) as 1 and blue squares (sea) as zeros\n",
    "1100000111\n",
    "1000000111\n",
    "0000000111\n",
    "0010001000\n",
    "0000011100\n",
    "0000111110\n",
    "0001111111\n",
    "1000111110\n",
    "1100011100\n",
    "1110001000\n",
    "Number of islands: 5"
   ]
  },
  {
   "cell_type": "code",
   "execution_count": null,
   "metadata": {},
   "outputs": [],
   "source": [
    "##########################################################"
   ]
  },
  {
   "cell_type": "markdown",
   "metadata": {},
   "source": [
    "50. Internet search engine giant, such as Google accepts web pages around the world and classify\n",
    "them, creating a huge database. The search engines also analyze the search keywords entered\n",
    "by the user and create inquiries for database search. In both cases, complicated processing\n",
    "is carried out in order to realize efficient retrieval, but basics are all cutting out words from\n",
    "sentences.\n",
    "Write a Python program to cut out words of 3 to 6 characters length from a given sentence not\n",
    "more than 1024 characters.\n",
    "Input is an English sentences consisting of delimiters and alphanumeric characters are given on\n",
    "one line.\n",
    "Input a sentence (1024 characters. max.): The quick brown fox\n",
    "The 3 to 6 characters length of words: The quick brown fox"
   ]
  },
  {
   "cell_type": "code",
   "execution_count": null,
   "metadata": {
    "scrolled": true
   },
   "outputs": [
    {
     "name": "stdout",
     "output_type": "stream",
     "text": [
      "input a sentence of 1024 char. max\n"
     ]
    }
   ],
   "source": [
    "print(\"input a sentence of 1024 char. max\")\n",
    "yy = input()\n",
    "yy= yy.replace(',',' ')\n",
    "yy = yy.replace('.',' ')\n",
    "print(\"3 to 6 characters length of words:\")\n",
    "print(*[y for y in yy.split() if 3 <= len(y) <= 6])"
   ]
  },
  {
   "cell_type": "markdown",
   "metadata": {},
   "source": [
    "51. Write a Python program to find the first appearance of the substring ’not’ and ’poor’ from a\n",
    "given string, if ’not’ follows the ’poor’, replace the whole ’not’...’poor’ substring with ’good’.\n",
    "Return the resulting string.\n",
    "Sample String : ’The lyrics is not that poor!’\n",
    "Expected Result : ’The lyrics is good!’"
   ]
  },
  {
   "cell_type": "code",
   "execution_count": 91,
   "metadata": {},
   "outputs": [
    {
     "name": "stdout",
     "output_type": "stream",
     "text": [
      "the lyrics is poor that not!\n"
     ]
    }
   ],
   "source": [
    "st = 'the lyrics is not that poor!'\n",
    "s_not = st.find('not')\n",
    "s_poor = st.find('poor')\n",
    "\n",
    "if s_poor > s_not and s_not>0 and s_poor>0:\n",
    "    st = st.replace(st[s_not:(s_poor+4)],'good')\n",
    "    print(st)\n",
    "else:\n",
    "    print(st)"
   ]
  },
  {
   "cell_type": "markdown",
   "metadata": {},
   "source": [
    "52. Write a Python program to remove leading zeros from an IP address.\n",
    "Input:\n",
    "”255.024.01.01”\n",
    "”127.0.0.01 ”\n",
    "Output:\n",
    "255.24.1.1\n",
    "127.0.0.1"
   ]
  },
  {
   "cell_type": "code",
   "execution_count": 7,
   "metadata": {},
   "outputs": [
    {
     "name": "stdout",
     "output_type": "stream",
     "text": [
      "['255', '024', '01', '0']\n",
      "['255', '24', '1', '0']\n"
     ]
    }
   ],
   "source": [
    "ip ='255.024.01.0'\n",
    "i_new = ip.split('.')\n",
    "print(i_new)\n",
    "new_list = []\n",
    "for i in range(len(i_new)):\n",
    "    if i_new[i][0] != '0' or len(i_new[i]) == 1:\n",
    "        new_list.insert(i,i_new[i])\n",
    "    elif i_new[i][0] == '0' :\n",
    "        new_list.insert(i,i_new[i][1:])\n",
    "print(new_list)\n"
   ]
  }
 ],
 "metadata": {
  "kernelspec": {
   "display_name": "Python 3",
   "language": "python",
   "name": "python3"
  },
  "language_info": {
   "codemirror_mode": {
    "name": "ipython",
    "version": 3
   },
   "file_extension": ".py",
   "mimetype": "text/x-python",
   "name": "python",
   "nbconvert_exporter": "python",
   "pygments_lexer": "ipython3",
   "version": "3.7.3"
  }
 },
 "nbformat": 4,
 "nbformat_minor": 2
}
