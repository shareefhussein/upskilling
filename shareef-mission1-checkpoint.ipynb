{
 "cells": [
  {
   "cell_type": "markdown",
   "metadata": {},
   "source": [
    "1. Write a Python program to parse a string to Float or Integer. and print the type of them\n"
   ]
  },
  {
   "cell_type": "code",
   "execution_count": 1,
   "metadata": {},
   "outputs": [
    {
     "name": "stdout",
     "output_type": "stream",
     "text": [
      "5.0\n",
      "<class 'float'>\n"
     ]
    }
   ],
   "source": [
    "print(float('5'))\n",
    "print(type(float('5')))"
   ]
  },
  {
   "cell_type": "markdown",
   "metadata": {},
   "source": [
    "2. Write a Python program to print two values without newline or space.\n"
   ]
  },
  {
   "cell_type": "code",
   "execution_count": 2,
   "metadata": {},
   "outputs": [
    {
     "name": "stdout",
     "output_type": "stream",
     "text": [
      "5 7\n"
     ]
    }
   ],
   "source": [
    "x = 5\n",
    "y = 7\n",
    "print(5,7)"
   ]
  },
  {
   "cell_type": "markdown",
   "metadata": {},
   "source": [
    "3. Write a program that takes an input from the user and checks if it’s divisible by 3 or not.\n"
   ]
  },
  {
   "cell_type": "code",
   "execution_count": 3,
   "metadata": {},
   "outputs": [
    {
     "name": "stdout",
     "output_type": "stream",
     "text": [
      "input a number3\n",
      "divisible by 3\n"
     ]
    }
   ],
   "source": [
    "x = input(\"input a number\")\n",
    "if int(x) % 3 == 0 :\n",
    "    print(\"divisible by 3\")\n",
    "else:\n",
    "    print(\"not divisible by 3\")\n",
    "        "
   ]
  },
  {
   "cell_type": "markdown",
   "metadata": {},
   "source": [
    "4. Write a program that reads three integers (a, b, and c), computes the following formulas and stores the results in the variables x1, x2 and prints the results of the program."
   ]
  },
  {
   "cell_type": "code",
   "execution_count": 4,
   "metadata": {},
   "outputs": [
    {
     "name": "stdout",
     "output_type": "stream",
     "text": [
      "input the value of a2\n",
      "input the value of b2\n",
      "input the value of c2\n",
      "-7.0\n",
      "-50.0\n"
     ]
    }
   ],
   "source": [
    "a = int(input(\"input the value of a\"))\n",
    "b = int(input(\"input the value of b\"))\n",
    "c = int(input(\"input the value of c\"))\n",
    "x1 = (-b+(c**4)/(2*a))-((3*(a+b**2))/c)\n",
    "x2 = ((a+(b**3))**2)/(c-a**2)       \n",
    "print(x1)\n",
    "print(x2)\n"
   ]
  },
  {
   "cell_type": "markdown",
   "metadata": {},
   "source": [
    "5. Write a program that reads two numbers a and b. Print the maximum value of the two numbers.\n"
   ]
  },
  {
   "cell_type": "code",
   "execution_count": 7,
   "metadata": {},
   "outputs": [
    {
     "name": "stdout",
     "output_type": "stream",
     "text": [
      "input 1st num5 \n",
      "input 2nd num5\n",
      "5 \n"
     ]
    }
   ],
   "source": [
    "a = input(\"input 1st num\")\n",
    "b = input(\"input 2nd num\")\n",
    "print(max(a,b))"
   ]
  },
  {
   "cell_type": "markdown",
   "metadata": {},
   "source": [
    "6.Write a program that reads three input values. Output the maximum value of the three.\n"
   ]
  },
  {
   "cell_type": "code",
   "execution_count": null,
   "metadata": {},
   "outputs": [],
   "source": [
    "a = input(\"input 1st num\")\n",
    "b = input(\"input 2nd num\")\n",
    "c = input(\"input 3rd num\")\n",
    "print(max(a,b,c))"
   ]
  },
  {
   "cell_type": "markdown",
   "metadata": {},
   "source": [
    "7. Write a program that reads two values a and b. If b is 0, output ”b is 0”. Otherwise output the result of the division of a by b (a/b).\n"
   ]
  },
  {
   "cell_type": "code",
   "execution_count": 4,
   "metadata": {},
   "outputs": [
    {
     "name": "stdout",
     "output_type": "stream",
     "text": [
      "input 1st number: 10\n",
      "input 2nd number: 15\n",
      "1.5\n"
     ]
    }
   ],
   "source": [
    "b = int(input(\"input 1st number: \"))\n",
    "a = int(input(\"input 2nd number: \"))\n",
    "if b==0: \n",
    "    print('b is 0')\n",
    "else:\n",
    "    x = a/b \n",
    "print(x)"
   ]
  },
  {
   "cell_type": "markdown",
   "metadata": {},
   "source": [
    "8. Write a program to convert days into years, weeks and days.\n"
   ]
  },
  {
   "cell_type": "code",
   "execution_count": 3,
   "metadata": {},
   "outputs": [
    {
     "name": "stdout",
     "output_type": "stream",
     "text": [
      "1.0\n",
      "52.142857142857146\n"
     ]
    }
   ],
   "source": [
    "days_in_year = 365\n",
    "days_in_week = 7\n",
    "days_to_years = int(days_in_year)/int(days_in_year)\n",
    "print(days_to_years)\n",
    "days_to_weeks = int(days_in_year)/int(days_in_week)\n",
    "print(days_to_weeks)"
   ]
  },
  {
   "cell_type": "markdown",
   "metadata": {},
   "source": [
    "9. Write a program to read temperature in Celsius and convert it into Fahrenheit.\n"
   ]
  },
  {
   "cell_type": "code",
   "execution_count": 4,
   "metadata": {},
   "outputs": [
    {
     "name": "stdout",
     "output_type": "stream",
     "text": [
      "input c temp5\n",
      "41\n"
     ]
    }
   ],
   "source": [
    "c = int(input(\"input c temp\"))\n",
    "f = int( (9*c+(32*5))/5)\n",
    "print(f)\n"
   ]
  },
  {
   "cell_type": "markdown",
   "metadata": {},
   "source": [
    "10. Write a program that reads two oat number and stores their values in variable x and y. the\n",
    "program then computes the value (x2 −y2) = (x−y) , stores the result in stores the result in a\n",
    "float named z and print the value of z. if the computation division by zero, the program must\n",
    "avoid that by printing an error message and exiting before computing the formula."
   ]
  },
  {
   "cell_type": "code",
   "execution_count": null,
   "metadata": {},
   "outputs": [],
   "source": [
    "###########################################################"
   ]
  },
  {
   "cell_type": "markdown",
   "metadata": {},
   "source": [
    "11. As you know Python has no switch statements so, Write a complete Python application that\n",
    "asks the user to enter an integer Q-Range (”deviation IQ”) and output the IQ Classification\n",
    "according to the following table:\n",
    "Q Range (”deviation IQ”) -> IQ Classification\n",
    "130 and above -> Very Superior\n",
    "120 - 129 -> Superior\n",
    "110 - 119 -> High Average\n",
    "90 - 109 -> Average\n",
    "80 - 89 -> Low Average\n",
    "70 - 79 -> Borderline\n",
    "69 and below -> Extremely Low"
   ]
  },
  {
   "cell_type": "code",
   "execution_count": 13,
   "metadata": {},
   "outputs": [
    {
     "name": "stdout",
     "output_type": "stream",
     "text": [
      "Q Range (”deviation IQ”) -> IQ Classification\n",
      "input a number: 110\n",
      "High Average\n"
     ]
    }
   ],
   "source": [
    "print(\"Q Range (”deviation IQ”) -> IQ Classification\")\n",
    "x= int(input(\"input a number: \"))\n",
    "if  130<x:\n",
    "    print(\"Very Superior\")\n",
    "elif 120<=x<=129:\n",
    "    print(\"Superior\")\n",
    "elif 110<=x<=119:\n",
    "    print(\"High Average\")\n",
    "elif 90<=x<=109:\n",
    "    print(\"Average\")\n",
    "elif 80<=x<=89:\n",
    "    print(\"Low Average\")\n",
    "elif 70<=x<=79:\n",
    "    print(\"Borderline\")\n",
    "else:\n",
    "    print('Extremely Low')\n"
   ]
  },
  {
   "cell_type": "markdown",
   "metadata": {},
   "source": [
    "12. Write a program that classifies a student marks as follows:\n",
    "[90 − 100] : A\n",
    "[80 − 90] : B\n",
    "[70 − 80] : C\n",
    "[60 − 70] : D\n",
    "[50 − 60] : E\n",
    "[0 − 50] : F"
   ]
  },
  {
   "cell_type": "code",
   "execution_count": 2,
   "metadata": {},
   "outputs": [
    {
     "name": "stdout",
     "output_type": "stream",
     "text": [
      "input a number54\n",
      "E\n"
     ]
    }
   ],
   "source": [
    "x = int(input(\"input a number\"))\n",
    "if  90<x<100:\n",
    "    print(\"A\")\n",
    "elif 80<x<90:\n",
    "    print(\"B\")\n",
    "elif 70<x<80:\n",
    "    print(\"C\")\n",
    "elif 60<x<70:\n",
    "    print(\"D\")\n",
    "elif 50<x<60:\n",
    "    print(\"E\")\n",
    "else:\n",
    "    print(\"F\")"
   ]
  },
  {
   "cell_type": "markdown",
   "metadata": {},
   "source": [
    "13. Write a program that tests whether the formula a2 + b2 = c2 is true for three integers entered as input\n"
   ]
  },
  {
   "cell_type": "code",
   "execution_count": 4,
   "metadata": {},
   "outputs": [
    {
     "name": "stdout",
     "output_type": "stream",
     "text": [
      "input the 1st int5\n",
      "input the 2nd int5\n",
      "input the 3rd int5\n",
      " the 3 inputs are equal\n"
     ]
    }
   ],
   "source": [
    "a =input('input the 1st int')\n",
    "b =input('input the 2nd int')\n",
    "c =input('input the 3rd int')\n",
    "if a==b and a==c and b==c:\n",
    "    print(\" the 3 inputs are equal\")\n",
    "else:\n",
    "        print(\"thers is a different number !\")\n",
    "    "
   ]
  },
  {
   "cell_type": "markdown",
   "metadata": {},
   "source": [
    "14. Write a Python program to check whether an alphabet is vowel or consonant.\n"
   ]
  },
  {
   "cell_type": "code",
   "execution_count": 6,
   "metadata": {},
   "outputs": [
    {
     "name": "stdout",
     "output_type": "stream",
     "text": [
      "input an alphabetu\n",
      "vowel\n"
     ]
    }
   ],
   "source": [
    "x = input(\"input an alphabet\")\n",
    "if x == 'a' or x=='e' or x=='i' or x=='u' or x=='o':\n",
    "    print(\"vowel\")\n",
    "else: \n",
    "    \n",
    "    print(\"constant\")\n",
    "    "
   ]
  },
  {
   "cell_type": "markdown",
   "metadata": {},
   "source": [
    "15. Write a Python program to check whether a number is even or odd.\n"
   ]
  },
  {
   "cell_type": "code",
   "execution_count": 9,
   "metadata": {},
   "outputs": [
    {
     "name": "stdout",
     "output_type": "stream",
     "text": [
      "input any number11\n",
      "odd number\n"
     ]
    }
   ],
   "source": [
    "number = int(input('input any number'))\n",
    "x = int(number/2)*2\n",
    "if (x == number):\n",
    "    print('even number')\n",
    "else:\n",
    "    print('odd number')\n",
    "    "
   ]
  },
  {
   "cell_type": "markdown",
   "metadata": {},
   "source": [
    "16. Write a Python program to display the current date and time. Sample Output : Current date and time : 2019-07-05 21:25:48\n"
   ]
  },
  {
   "cell_type": "code",
   "execution_count": 5,
   "metadata": {},
   "outputs": [
    {
     "name": "stdout",
     "output_type": "stream",
     "text": [
      "today's date: 2019-10-25\n"
     ]
    }
   ],
   "source": [
    "from datetime import date\n",
    "today = date.today()\n",
    "print(\"today's date:\", today)"
   ]
  },
  {
   "cell_type": "markdown",
   "metadata": {},
   "source": [
    "17. Write a Python program which accepts the radius of a circle from the user and compute the area; Sample Output :\n",
    "r = 1.1\n",
    "Area = 3.8013271108436504"
   ]
  },
  {
   "cell_type": "code",
   "execution_count": 10,
   "metadata": {},
   "outputs": [
    {
     "name": "stdout",
     "output_type": "stream",
     "text": [
      "input the circle radius5\n",
      "78.5\n"
     ]
    }
   ],
   "source": [
    "x = int(input(\"input the circle radius\"))\n",
    "y = 2\n",
    "area = 3.14*(x**2)\n",
    "print(area)\n"
   ]
  },
  {
   "cell_type": "markdown",
   "metadata": {},
   "source": [
    "18. Write a Python program which accepts the user’s first and last name and print them in reverse order.\n"
   ]
  },
  {
   "cell_type": "code",
   "execution_count": 19,
   "metadata": {},
   "outputs": [
    {
     "name": "stdout",
     "output_type": "stream",
     "text": [
      "input your first and last nameshareef useein\n",
      "['n', 'i', 'e', 'e', 's', 'u', ' ', 'f', 'e', 'e', 'r', 'a', 'h', 's']\n"
     ]
    }
   ],
   "source": [
    "x = input('input your first and last name')\n",
    "print(list(reversed(x)))"
   ]
  },
  {
   "cell_type": "markdown",
   "metadata": {},
   "source": [
    "19. Write a Python program to read a three numbers from the user and display them as follow. Sample Input = (11, 12, 2019) Sample Output : The examination will start from :\n"
   ]
  },
  {
   "cell_type": "code",
   "execution_count": 18,
   "metadata": {},
   "outputs": [
    {
     "name": "stdout",
     "output_type": "stream",
     "text": [
      "input the 1st num5\n",
      "input the 2nd num5\n",
      "input the 3rd num2019\n",
      "the examination will start from: 5 / 5 / 2019\n"
     ]
    }
   ],
   "source": [
    "x = input('input the 1st num')\n",
    "y = input('input the 2nd num')\n",
    "z = input('input the 3rd num')\n",
    "print(\"the examination will start from:\",x,\"/\",y,\"/\",z)\n"
   ]
  },
  {
   "cell_type": "markdown",
   "metadata": {},
   "source": [
    "20. Write a Python program that accepts an integer (n) and computes the value of n + nn + nnn.\n",
    "Sample value of n is 5\n",
    "Expected Result : 615"
   ]
  },
  {
   "cell_type": "code",
   "execution_count": 23,
   "metadata": {},
   "outputs": [
    {
     "name": "stdout",
     "output_type": "stream",
     "text": [
      "input the value of n5\n",
      "155\n"
     ]
    }
   ],
   "source": [
    "n = int(input(\"input the value of n\"))\n",
    "x = n + (n*n) + (n*n*n)\n",
    "print(x)\n"
   ]
  },
  {
   "cell_type": "markdown",
   "metadata": {},
   "source": [
    "21. Write a Python program to print the documentation of a Python built-in function(s)."
   ]
  },
  {
   "cell_type": "code",
   "execution_count": 21,
   "metadata": {},
   "outputs": [
    {
     "name": "stdout",
     "output_type": "stream",
     "text": [
      "Help on built-in function sum in module builtins:\n",
      "\n",
      "sum(iterable, start=0, /)\n",
      "    Return the sum of a 'start' value (default: 0) plus an iterable of numbers\n",
      "    \n",
      "    When the iterable is empty, return the start value.\n",
      "    This function is intended specifically for use with numeric values and may\n",
      "    reject non-numeric types.\n",
      "\n"
     ]
    }
   ],
   "source": [
    "help(\"sum\")"
   ]
  },
  {
   "cell_type": "markdown",
   "metadata": {},
   "source": [
    "22. Write a Python program to print the following here document. Go to the editor; Sample string\n",
    ":\n",
    "”a string that you ”don’t” have to escape\n",
    "This\n",
    "is a ....... multi-line\n",
    "heredoc string ——–> example”"
   ]
  },
  {
   "cell_type": "code",
   "execution_count": 3,
   "metadata": {},
   "outputs": [
    {
     "name": "stdout",
     "output_type": "stream",
     "text": [
      "\n",
      "a string that you ”don’t” have to escape\n",
      "This\n",
      "is a ....... multi-line\n",
      "heredoc string ——–> example\n",
      "\n"
     ]
    }
   ],
   "source": [
    "print(\"\"\"\n",
    "a string that you ”don’t” have to escape\n",
    "This\n",
    "is a ....... multi-line\n",
    "heredoc string ——–> example\n",
    "\"\"\")"
   ]
  },
  {
   "cell_type": "markdown",
   "metadata": {},
   "source": [
    "23. Write a Python program to calculate number of days between two dates; Sample dates : (2014,\n",
    "7, 2), (2014, 7, 11)\n",
    "Expected output : 9 days"
   ]
  },
  {
   "cell_type": "code",
   "execution_count": 8,
   "metadata": {},
   "outputs": [
    {
     "name": "stdout",
     "output_type": "stream",
     "text": [
      "303 days, 0:00:00\n"
     ]
    }
   ],
   "source": [
    "from datetime import date\n",
    "date1 = date(2017,7,12)\n",
    "date2 = date(2018,5,11)\n",
    "days = date2-date1\n",
    "print(days)"
   ]
  },
  {
   "cell_type": "markdown",
   "metadata": {},
   "source": [
    "24. Write a Python program to get the volume of a sphere with a given radius."
   ]
  },
  {
   "cell_type": "code",
   "execution_count": 25,
   "metadata": {},
   "outputs": [
    {
     "name": "stdout",
     "output_type": "stream",
     "text": [
      "input the radius4\n",
      "267.94666666666666\n"
     ]
    }
   ],
   "source": [
    "r = int(input(\"input the radius\"))\n",
    "x = 3.14\n",
    "volum = ((4/3)*(x*(r**3)))\n",
    "print(volum)"
   ]
  },
  {
   "cell_type": "markdown",
   "metadata": {},
   "source": [
    "25. Write a Python program to get the difference between a given number and 17, if the number\n",
    "is greater than 17 return double the absolute difference."
   ]
  },
  {
   "cell_type": "code",
   "execution_count": 28,
   "metadata": {},
   "outputs": [
    {
     "name": "stdout",
     "output_type": "stream",
     "text": [
      "input the 1st number: 5\n",
      "input the 2nd number: 4\n",
      "2\n"
     ]
    }
   ],
   "source": [
    "x = int(input(\"input the 1st number: \"))\n",
    "y = int(input(\"input the 2nd number: \"))\n",
    "\n",
    "if x>y:\n",
    "    print((abs(x-y))*2)\n",
    "          "
   ]
  },
  {
   "cell_type": "markdown",
   "metadata": {},
   "source": [
    "26. Write a Python program to test whether a number is within (less than) 100 or 1000 or 2000\n",
    "and print the value divided by 5 and multiplied by 25."
   ]
  },
  {
   "cell_type": "code",
   "execution_count": null,
   "metadata": {},
   "outputs": [],
   "source": [
    "num = int(input(\"input a number\"))\n",
    "if num <100 or num <1000 or num< 2000:\n",
    "   print((num/5)*25)\n",
    "else:\n",
    "  print(\"the number is not less than 100 or 1000 or 2000\")"
   ]
  },
  {
   "cell_type": "markdown",
   "metadata": {},
   "source": [
    "27. Write a Python program to calculate the sum of three given numbers, if the values are equal\n",
    "then return three times of their sum."
   ]
  },
  {
   "cell_type": "code",
   "execution_count": null,
   "metadata": {},
   "outputs": [],
   "source": [
    "a = int(input(\"input the 1st number: \"))\n",
    "b = int(input(\"input the 2nd number: \"))\n",
    "c = int(input(\"input the 3rd number: \"))\n",
    "\n",
    "if a==b and a==c and b==c:\n",
    "    print((a+b+c)*3)\n",
    "else:\n",
    "    print(\"a and b and c are not equal\")"
   ]
  },
  {
   "cell_type": "markdown",
   "metadata": {},
   "source": [
    "28. Write a Python program to swap the values of two given numbers"
   ]
  },
  {
   "cell_type": "code",
   "execution_count": 1,
   "metadata": {},
   "outputs": [
    {
     "name": "stdout",
     "output_type": "stream",
     "text": [
      "input the 1st number: 5\n",
      "input the 2nd number: 6\n",
      "the value of x after swapping: 6\n",
      "the value of y after swapping 5\n"
     ]
    }
   ],
   "source": [
    "x = int(input(\"input the 1st number: \"))\n",
    "y = int(input(\"input the 2nd number: \"))\n",
    "temp = x\n",
    "x = y\n",
    "y = temp\n",
    "print(\"the value of x after swapping:\", x )\n",
    "print(\"the value of y after swapping\", y)"
   ]
  },
  {
   "cell_type": "markdown",
   "metadata": {},
   "source": [
    "29. Write a Python program to check whether a specified value is contained in a group of values\n",
    "or if a character is given in a string; Test Data :\n",
    "3 -> [1, 5, 8, 3] : True\n",
    "-1 -> [1, 5, 8, 3] : False"
   ]
  },
  {
   "cell_type": "code",
   "execution_count": 2,
   "metadata": {},
   "outputs": [
    {
     "name": "stdout",
     "output_type": "stream",
     "text": [
      "input numbers: 564 8 9\n",
      "input a number to check: 9\n",
      "true\n"
     ]
    }
   ],
   "source": [
    "x = input('input numbers: ')\n",
    "x = x.split(' ')\n",
    "\n",
    "y = input('input a number to check: ')\n",
    "\n",
    "for i in x:\n",
    "    if y == i:\n",
    "        print('true')\n",
    "  \n",
    "   "
   ]
  },
  {
   "cell_type": "markdown",
   "metadata": {},
   "source": [
    "30. Write a Python program that will accept the base and height of a triangle and compute the\n",
    "area."
   ]
  },
  {
   "cell_type": "code",
   "execution_count": null,
   "metadata": {},
   "outputs": [],
   "source": [
    "base = int(input('input the base'))\n",
    "height = int(input('input the height'))\n",
    "x = 0.5\n",
    "area = x*base*height\n",
    "print(int(area))"
   ]
  },
  {
   "cell_type": "markdown",
   "metadata": {},
   "source": [
    "31. Write a Python program to sum of three given integers. However, if two values are equal sum\n",
    "will be zero."
   ]
  },
  {
   "cell_type": "code",
   "execution_count": null,
   "metadata": {},
   "outputs": [],
   "source": [
    "a = int(input(\"input the 1st number: \"))\n",
    "b = int(input(\"input the 2nd number: \"))\n",
    "c = int(input(\"input the 3rd number: \"))\n",
    "if a==b or a==c or b==c:\n",
    "    print(\"sum = 0\")\n",
    "else:\n",
    "    print(a+b+c)"
   ]
  },
  {
   "cell_type": "markdown",
   "metadata": {},
   "source": [
    "32. Write a Python program to sum of two given integers. However, if the sum is between\n",
    "15 to 20 it will return 20. 30 to 40 it will return 50. 150 to 167 it will return 210."
   ]
  },
  {
   "cell_type": "code",
   "execution_count": null,
   "metadata": {},
   "outputs": [],
   "source": [
    "a = int(input(\"input the 1st number: \"))\n",
    "b = int(input(\"input the 2nd number: \"))\n",
    "sum = a+b\n",
    "if 15<sum<20:\n",
    "    print(\"20\")\n",
    "elif 30<sum<40:\n",
    "    print(\"50\")\n",
    "else:\n",
    "     print(\"210\")"
   ]
  },
  {
   "cell_type": "markdown",
   "metadata": {},
   "source": [
    "33. Write a Python program that will return true if the two given integer values are equal or their\n",
    "sum or difference is 5."
   ]
  },
  {
   "cell_type": "code",
   "execution_count": null,
   "metadata": {},
   "outputs": [],
   "source": [
    "a = int(input(\"input the 1st number: \"))\n",
    "b = int(input(\"input the 2nd number: \"))\n",
    "sum = a+b\n",
    "dif = abs(a - b)\n",
    "if a == b:\n",
    "    print(\"True\")\n",
    "elif sum ==5:\n",
    "    print(\"True\")\n",
    "else:\n",
    "    print(\"False\")"
   ]
  },
  {
   "cell_type": "markdown",
   "metadata": {},
   "source": [
    "34. Write a Python program to solve (x + y) ∗ (x + y), x and y are an inputs; Expected Output :\n",
    "((4 + 3)2) = 49"
   ]
  },
  {
   "cell_type": "code",
   "execution_count": null,
   "metadata": {},
   "outputs": [],
   "source": [
    "x = int(input(\"input the 1st num\"))\n",
    "y = int(input(\"input the 2nd num\"))\n",
    "result= (x+y)*(x+y)\n",
    "print(result)\n"
   ]
  },
  {
   "cell_type": "markdown",
   "metadata": {},
   "source": [
    "35. Write a Python program to compute the future value of a specified principal amount, rate of\n",
    "interest, and a number of years.\n",
    "Test Data : amt = 10000, int = 3.5, years = 7\n",
    "Expected Output : 12722.79"
   ]
  },
  {
   "cell_type": "code",
   "execution_count": 10,
   "metadata": {},
   "outputs": [
    {
     "name": "stdout",
     "output_type": "stream",
     "text": [
      "12722.792627665729 2\n"
     ]
    }
   ],
   "source": [
    "amt = 10000\n",
    "int = 3.5\n",
    "years = 7\n",
    "future_value = amt*((1+(0.01*int)))**years\n",
    "print(future_value,2)"
   ]
  },
  {
   "cell_type": "markdown",
   "metadata": {},
   "source": [
    "36. Write a Python program to compute the distance between the points (x1, y1) and (x2, y2).\n",
    "(the distance between two points calculated using Phythagoros theorem)"
   ]
  },
  {
   "cell_type": "code",
   "execution_count": 46,
   "metadata": {},
   "outputs": [
    {
     "name": "stdout",
     "output_type": "stream",
     "text": [
      "4.0\n"
     ]
    }
   ],
   "source": [
    "from math import sqrt\n",
    "x1,y1 = (4,5)\n",
    "x2,y2 = (4,9)\n",
    "x = sqrt((x2-x1)**2 +(y2-y1)**2)\n",
    "print(x)"
   ]
  },
  {
   "cell_type": "markdown",
   "metadata": {},
   "source": [
    "37. Write a program to get execution time for a Python command. (Use the Jupyter’s magic\n",
    "commands)"
   ]
  },
  {
   "cell_type": "code",
   "execution_count": 2,
   "metadata": {},
   "outputs": [
    {
     "ename": "NameError",
     "evalue": "name 'x' is not defined",
     "output_type": "error",
     "traceback": [
      "\u001b[1;31m---------------------------------------------------------------------------\u001b[0m",
      "\u001b[1;31mNameError\u001b[0m                                 Traceback (most recent call last)",
      "\u001b[1;32m<ipython-input-2-6c59126f1b8f>\u001b[0m in \u001b[0;36m<module>\u001b[1;34m\u001b[0m\n\u001b[0;32m      2\u001b[0m \u001b[0mstart\u001b[0m \u001b[1;33m=\u001b[0m \u001b[0mtime\u001b[0m\u001b[1;33m.\u001b[0m\u001b[0mtime\u001b[0m\u001b[1;33m(\u001b[0m\u001b[1;33m)\u001b[0m\u001b[1;33m\u001b[0m\u001b[1;33m\u001b[0m\u001b[0m\n\u001b[0;32m      3\u001b[0m \u001b[1;33m\u001b[0m\u001b[0m\n\u001b[1;32m----> 4\u001b[1;33m \u001b[0mz\u001b[0m \u001b[1;33m=\u001b[0m \u001b[1;33m[\u001b[0m\u001b[0mx\u001b[0m \u001b[1;32mfor\u001b[0m \u001b[0mi\u001b[0m \u001b[1;32min\u001b[0m \u001b[0mrange\u001b[0m\u001b[1;33m(\u001b[0m\u001b[1;36m7000\u001b[0m\u001b[1;33m)\u001b[0m\u001b[1;33m]\u001b[0m\u001b[1;33m\u001b[0m\u001b[1;33m\u001b[0m\u001b[0m\n\u001b[0m\u001b[0;32m      5\u001b[0m \u001b[0mprint\u001b[0m\u001b[1;33m(\u001b[0m\u001b[1;34mf'total time: { end - start: .3f} sec'\u001b[0m\u001b[1;33m)\u001b[0m\u001b[1;33m\u001b[0m\u001b[1;33m\u001b[0m\u001b[0m\n",
      "\u001b[1;32m<ipython-input-2-6c59126f1b8f>\u001b[0m in \u001b[0;36m<listcomp>\u001b[1;34m(.0)\u001b[0m\n\u001b[0;32m      2\u001b[0m \u001b[0mstart\u001b[0m \u001b[1;33m=\u001b[0m \u001b[0mtime\u001b[0m\u001b[1;33m.\u001b[0m\u001b[0mtime\u001b[0m\u001b[1;33m(\u001b[0m\u001b[1;33m)\u001b[0m\u001b[1;33m\u001b[0m\u001b[1;33m\u001b[0m\u001b[0m\n\u001b[0;32m      3\u001b[0m \u001b[1;33m\u001b[0m\u001b[0m\n\u001b[1;32m----> 4\u001b[1;33m \u001b[0mz\u001b[0m \u001b[1;33m=\u001b[0m \u001b[1;33m[\u001b[0m\u001b[0mx\u001b[0m \u001b[1;32mfor\u001b[0m \u001b[0mi\u001b[0m \u001b[1;32min\u001b[0m \u001b[0mrange\u001b[0m\u001b[1;33m(\u001b[0m\u001b[1;36m7000\u001b[0m\u001b[1;33m)\u001b[0m\u001b[1;33m]\u001b[0m\u001b[1;33m\u001b[0m\u001b[1;33m\u001b[0m\u001b[0m\n\u001b[0m\u001b[0;32m      5\u001b[0m \u001b[0mprint\u001b[0m\u001b[1;33m(\u001b[0m\u001b[1;34mf'total time: { end - start: .3f} sec'\u001b[0m\u001b[1;33m)\u001b[0m\u001b[1;33m\u001b[0m\u001b[1;33m\u001b[0m\u001b[0m\n",
      "\u001b[1;31mNameError\u001b[0m: name 'x' is not defined"
     ]
    }
   ],
   "source": [
    "import time\n",
    "start = time.time()\n",
    "end = end.time()\n",
    "\n",
    "z = [x for i in range(7000)]\n",
    "print(f'total time: { end - start: .3f} sec')\n",
    "###############################################################"
   ]
  },
  {
   "cell_type": "markdown",
   "metadata": {},
   "source": [
    "38. Write a Python program to convert height (in feet and inches) to centimeters."
   ]
  },
  {
   "cell_type": "code",
   "execution_count": 18,
   "metadata": {},
   "outputs": [
    {
     "name": "stdout",
     "output_type": "stream",
     "text": [
      "input your height:\n",
      "feet:5\n",
      "inches:5\n",
      "your height is : 159 cm.\n"
     ]
    }
   ],
   "source": [
    "print(\"input your height:\")\n",
    "h_ft = int(input(\"feet:\"))\n",
    "h_inch = int(input(\"inches:\"))\n",
    "h_inch += h_ft * 12\n",
    "h_cm = round(h_inch*2.45,1)\n",
    "print(\"your height is : %d cm.\" %h_cm)"
   ]
  },
  {
   "cell_type": "markdown",
   "metadata": {},
   "source": [
    "39. Write a Python program to calculate the hypotenuse of a right-angled triangle."
   ]
  },
  {
   "cell_type": "code",
   "execution_count": 2,
   "metadata": {},
   "outputs": [
    {
     "name": "stdout",
     "output_type": "stream",
     "text": [
      "a: 5\n",
      "b: 9\n",
      "the length of the hypotenuse is 10.295630140987\n"
     ]
    }
   ],
   "source": [
    "from math import sqrt\n",
    "a = float(input('a: '))\n",
    "b=  float(input('b: '))\n",
    "c = sqrt(a**2 + b**2)\n",
    "print('the length of the hypotenuse is',c)"
   ]
  },
  {
   "cell_type": "markdown",
   "metadata": {},
   "source": [
    "40. Write a Python program to convert the distance (in feet) to inches, yards, and miles."
   ]
  },
  {
   "cell_type": "code",
   "execution_count": 19,
   "metadata": {},
   "outputs": [
    {
     "name": "stdout",
     "output_type": "stream",
     "text": [
      "input distance in feet4\n",
      "distance in inches 48\n",
      "distance in yards 1.3333333333333333\n",
      "distance in miles 0.0007575757575757576\n"
     ]
    }
   ],
   "source": [
    "d_ft = int(input(\"input distance in feet\"))\n",
    "d_inches = d_ft*12\n",
    "d_yards = d_ft/3.0\n",
    "d_miles = d_ft / 5280.0\n",
    "print(\"distance in inches\", d_inches)\n",
    "print(\"distance in yards\", d_yards)\n",
    "print(\"distance in miles\", d_miles)"
   ]
  },
  {
   "cell_type": "markdown",
   "metadata": {},
   "source": [
    "41. Write a Python program to convert the distance (in Minuets) to days, months, and years."
   ]
  },
  {
   "cell_type": "code",
   "execution_count": 10,
   "metadata": {},
   "outputs": [
    {
     "name": "stdout",
     "output_type": "stream",
     "text": [
      "enter number of minutes: 82000\n",
      "number of days is: 56.94444444444444\n",
      "number of weeks is: 8.134920634920634\n",
      "number of months is: 2.0337301587301586\n",
      "number of years is: 0.03911019536019536\n"
     ]
    }
   ],
   "source": [
    "minutes = int(input(\"enter number of minutes: \"))\n",
    "days = minutes/(60*24)\n",
    "print('number of days is:', days)\n",
    "weeks = minutes/(60*24*7)\n",
    "print('number of weeks is:',weeks)\n",
    "months = minutes/(60*24*7*4)\n",
    "print('number of months is:',months)\n",
    "years = minutes/(60*24*7*4*52)\n",
    "print('number of years is:',years)"
   ]
  },
  {
   "cell_type": "markdown",
   "metadata": {},
   "source": [
    "42. Write a Python program to convert the distance (in Years) months, and days."
   ]
  },
  {
   "cell_type": "code",
   "execution_count": 16,
   "metadata": {},
   "outputs": [
    {
     "name": "stdout",
     "output_type": "stream",
     "text": [
      "enter number of years: 1\n",
      "number of months is: 12\n",
      "number of days is: 336\n"
     ]
    }
   ],
   "source": [
    "years = int(input(\"enter number of years: \"))\n",
    "months = years*12\n",
    "print('number of months is:',months)\n",
    "days = years*12*4*7\n",
    "print('number of days is:',days)"
   ]
  },
  {
   "cell_type": "markdown",
   "metadata": {},
   "source": [
    "43. Write a Python program to calculate body mass index for a give height and Weight."
   ]
  },
  {
   "cell_type": "code",
   "execution_count": 20,
   "metadata": {},
   "outputs": [
    {
     "name": "stdout",
     "output_type": "stream",
     "text": [
      "input your height in meters:4\n",
      "input your weight in kilo:4\n",
      "your body mass index is: 0.25\n"
     ]
    }
   ],
   "source": [
    "height = float(input(\"input your height in meters:\"))\n",
    "weight = float(input(\"input your weight in kilo:\"))\n",
    "print(\"your body mass index is:\" ,round(weight/(height*height),2))"
   ]
  },
  {
   "cell_type": "markdown",
   "metadata": {},
   "source": [
    "44. Write a Python program to sort five given integers and print them"
   ]
  },
  {
   "cell_type": "code",
   "execution_count": 22,
   "metadata": {},
   "outputs": [
    {
     "name": "stdout",
     "output_type": "stream",
     "text": [
      "input some numbers: 1 2 3 5 87 7\n",
      "['1', '2', '3', '5', '7', '87']\n"
     ]
    }
   ],
   "source": [
    "numbers = input(\"input some numbers: \")\n",
    "numbers = numbers.split(' ')\n",
    "numbers.sort()\n",
    "print(numbers)"
   ]
  },
  {
   "cell_type": "markdown",
   "metadata": {},
   "source": [
    "45. Write a Python program to get the details (documentation) of the math module."
   ]
  },
  {
   "cell_type": "code",
   "execution_count": 24,
   "metadata": {},
   "outputs": [
    {
     "name": "stdout",
     "output_type": "stream",
     "text": [
      "Help on built-in module math:\n",
      "\n",
      "NAME\n",
      "    math\n",
      "\n",
      "DESCRIPTION\n",
      "    This module is always available.  It provides access to the\n",
      "    mathematical functions defined by the C standard.\n",
      "\n",
      "FUNCTIONS\n",
      "    acos(x, /)\n",
      "        Return the arc cosine (measured in radians) of x.\n",
      "    \n",
      "    acosh(x, /)\n",
      "        Return the inverse hyperbolic cosine of x.\n",
      "    \n",
      "    asin(x, /)\n",
      "        Return the arc sine (measured in radians) of x.\n",
      "    \n",
      "    asinh(x, /)\n",
      "        Return the inverse hyperbolic sine of x.\n",
      "    \n",
      "    atan(x, /)\n",
      "        Return the arc tangent (measured in radians) of x.\n",
      "    \n",
      "    atan2(y, x, /)\n",
      "        Return the arc tangent (measured in radians) of y/x.\n",
      "        \n",
      "        Unlike atan(y/x), the signs of both x and y are considered.\n",
      "    \n",
      "    atanh(x, /)\n",
      "        Return the inverse hyperbolic tangent of x.\n",
      "    \n",
      "    ceil(x, /)\n",
      "        Return the ceiling of x as an Integral.\n",
      "        \n",
      "        This is the smallest integer >= x.\n",
      "    \n",
      "    copysign(x, y, /)\n",
      "        Return a float with the magnitude (absolute value) of x but the sign of y.\n",
      "        \n",
      "        On platforms that support signed zeros, copysign(1.0, -0.0)\n",
      "        returns -1.0.\n",
      "    \n",
      "    cos(x, /)\n",
      "        Return the cosine of x (measured in radians).\n",
      "    \n",
      "    cosh(x, /)\n",
      "        Return the hyperbolic cosine of x.\n",
      "    \n",
      "    degrees(x, /)\n",
      "        Convert angle x from radians to degrees.\n",
      "    \n",
      "    erf(x, /)\n",
      "        Error function at x.\n",
      "    \n",
      "    erfc(x, /)\n",
      "        Complementary error function at x.\n",
      "    \n",
      "    exp(x, /)\n",
      "        Return e raised to the power of x.\n",
      "    \n",
      "    expm1(x, /)\n",
      "        Return exp(x)-1.\n",
      "        \n",
      "        This function avoids the loss of precision involved in the direct evaluation of exp(x)-1 for small x.\n",
      "    \n",
      "    fabs(x, /)\n",
      "        Return the absolute value of the float x.\n",
      "    \n",
      "    factorial(x, /)\n",
      "        Find x!.\n",
      "        \n",
      "        Raise a ValueError if x is negative or non-integral.\n",
      "    \n",
      "    floor(x, /)\n",
      "        Return the floor of x as an Integral.\n",
      "        \n",
      "        This is the largest integer <= x.\n",
      "    \n",
      "    fmod(x, y, /)\n",
      "        Return fmod(x, y), according to platform C.\n",
      "        \n",
      "        x % y may differ.\n",
      "    \n",
      "    frexp(x, /)\n",
      "        Return the mantissa and exponent of x, as pair (m, e).\n",
      "        \n",
      "        m is a float and e is an int, such that x = m * 2.**e.\n",
      "        If x is 0, m and e are both 0.  Else 0.5 <= abs(m) < 1.0.\n",
      "    \n",
      "    fsum(seq, /)\n",
      "        Return an accurate floating point sum of values in the iterable seq.\n",
      "        \n",
      "        Assumes IEEE-754 floating point arithmetic.\n",
      "    \n",
      "    gamma(x, /)\n",
      "        Gamma function at x.\n",
      "    \n",
      "    gcd(x, y, /)\n",
      "        greatest common divisor of x and y\n",
      "    \n",
      "    hypot(x, y, /)\n",
      "        Return the Euclidean distance, sqrt(x*x + y*y).\n",
      "    \n",
      "    isclose(a, b, *, rel_tol=1e-09, abs_tol=0.0)\n",
      "        Determine whether two floating point numbers are close in value.\n",
      "        \n",
      "          rel_tol\n",
      "            maximum difference for being considered \"close\", relative to the\n",
      "            magnitude of the input values\n",
      "          abs_tol\n",
      "            maximum difference for being considered \"close\", regardless of the\n",
      "            magnitude of the input values\n",
      "        \n",
      "        Return True if a is close in value to b, and False otherwise.\n",
      "        \n",
      "        For the values to be considered close, the difference between them\n",
      "        must be smaller than at least one of the tolerances.\n",
      "        \n",
      "        -inf, inf and NaN behave similarly to the IEEE 754 Standard.  That\n",
      "        is, NaN is not close to anything, even itself.  inf and -inf are\n",
      "        only close to themselves.\n",
      "    \n",
      "    isfinite(x, /)\n",
      "        Return True if x is neither an infinity nor a NaN, and False otherwise.\n",
      "    \n",
      "    isinf(x, /)\n",
      "        Return True if x is a positive or negative infinity, and False otherwise.\n",
      "    \n",
      "    isnan(x, /)\n",
      "        Return True if x is a NaN (not a number), and False otherwise.\n",
      "    \n",
      "    ldexp(x, i, /)\n",
      "        Return x * (2**i).\n",
      "        \n",
      "        This is essentially the inverse of frexp().\n",
      "    \n",
      "    lgamma(x, /)\n",
      "        Natural logarithm of absolute value of Gamma function at x.\n",
      "    \n",
      "    log(...)\n",
      "        log(x, [base=math.e])\n",
      "        Return the logarithm of x to the given base.\n",
      "        \n",
      "        If the base not specified, returns the natural logarithm (base e) of x.\n",
      "    \n",
      "    log10(x, /)\n",
      "        Return the base 10 logarithm of x.\n",
      "    \n",
      "    log1p(x, /)\n",
      "        Return the natural logarithm of 1+x (base e).\n",
      "        \n",
      "        The result is computed in a way which is accurate for x near zero.\n",
      "    \n",
      "    log2(x, /)\n",
      "        Return the base 2 logarithm of x.\n",
      "    \n",
      "    modf(x, /)\n",
      "        Return the fractional and integer parts of x.\n",
      "        \n",
      "        Both results carry the sign of x and are floats.\n",
      "    \n",
      "    pow(x, y, /)\n",
      "        Return x**y (x to the power of y).\n",
      "    \n",
      "    radians(x, /)\n",
      "        Convert angle x from degrees to radians.\n",
      "    \n",
      "    remainder(x, y, /)\n",
      "        Difference between x and the closest integer multiple of y.\n",
      "        \n",
      "        Return x - n*y where n*y is the closest integer multiple of y.\n",
      "        In the case where x is exactly halfway between two multiples of\n",
      "        y, the nearest even value of n is used. The result is always exact.\n",
      "    \n",
      "    sin(x, /)\n",
      "        Return the sine of x (measured in radians).\n",
      "    \n",
      "    sinh(x, /)\n",
      "        Return the hyperbolic sine of x.\n",
      "    \n",
      "    sqrt(x, /)\n",
      "        Return the square root of x.\n",
      "    \n",
      "    tan(x, /)\n",
      "        Return the tangent of x (measured in radians).\n",
      "    \n",
      "    tanh(x, /)\n",
      "        Return the hyperbolic tangent of x.\n",
      "    \n",
      "    trunc(x, /)\n",
      "        Truncates the Real x to the nearest Integral toward 0.\n",
      "        \n",
      "        Uses the __trunc__ magic method.\n",
      "\n",
      "DATA\n",
      "    e = 2.718281828459045\n",
      "    inf = inf\n",
      "    nan = nan\n",
      "    pi = 3.141592653589793\n",
      "    tau = 6.283185307179586\n",
      "\n",
      "FILE\n",
      "    (built-in)\n",
      "\n",
      "\n"
     ]
    }
   ],
   "source": [
    "help('math')"
   ]
  },
  {
   "cell_type": "markdown",
   "metadata": {},
   "source": [
    "46. Write a Python program to get the ASCII code of a given character"
   ]
  },
  {
   "cell_type": "code",
   "execution_count": 26,
   "metadata": {},
   "outputs": [
    {
     "name": "stdout",
     "output_type": "stream",
     "text": [
      "input a character: l\n",
      "the ASCII value of lis 108\n"
     ]
    }
   ],
   "source": [
    "x = input(\"input a character: \")\n",
    "print(\"the ASCII value of \" + x + \"is\", ord(x))"
   ]
  },
  {
   "cell_type": "markdown",
   "metadata": {},
   "source": [
    "47. Write a Python program to find the available built-in modules. (built-in modules doesn’t\n",
    "require to be PIP’ed install)"
   ]
  },
  {
   "cell_type": "code",
   "execution_count": 17,
   "metadata": {},
   "outputs": [
    {
     "ename": "SyntaxError",
     "evalue": "invalid syntax (<ipython-input-17-50582aa5fdbb>, line 4)",
     "output_type": "error",
     "traceback": [
      "\u001b[1;36m  File \u001b[1;32m\"<ipython-input-17-50582aa5fdbb>\"\u001b[1;36m, line \u001b[1;32m4\u001b[0m\n\u001b[1;33m    print(textwrap.fill(module_name, width = 70))\u001b[0m\n\u001b[1;37m        ^\u001b[0m\n\u001b[1;31mSyntaxError\u001b[0m\u001b[1;31m:\u001b[0m invalid syntax\n"
     ]
    }
   ],
   "source": [
    "import sys\n",
    "import textwrap\n",
    "module_name = ','.join(sorted(sys.builtin_module_names)\n",
    "print(textwrap.fill(module_name, width = 70))\n",
    "                       ########################################################"
   ]
  },
  {
   "cell_type": "markdown",
   "metadata": {},
   "source": [
    "48. Write a Python program to get the size of an object in bytes."
   ]
  },
  {
   "cell_type": "code",
   "execution_count": 33,
   "metadata": {},
   "outputs": [
    {
     "ename": "SyntaxError",
     "evalue": "invalid syntax (<ipython-input-33-2357acdca054>, line 2)",
     "output_type": "error",
     "traceback": [
      "\u001b[1;36m  File \u001b[1;32m\"<ipython-input-33-2357acdca054>\"\u001b[1;36m, line \u001b[1;32m2\u001b[0m\n\u001b[1;33m    z = [x for in range(7000)]\u001b[0m\n\u001b[1;37m                ^\u001b[0m\n\u001b[1;31mSyntaxError\u001b[0m\u001b[1;31m:\u001b[0m invalid syntax\n"
     ]
    }
   ],
   "source": [
    "import sys\n",
    "z = [x for in range(7000)]\n",
    "print(f\"size of list = {sys.getsizeof(z)\")\n",
    "z = (x for in range(7000))\n",
    "print(f\"size of generator = {sys.getsizeof(z)})"
   ]
  },
  {
   "cell_type": "markdown",
   "metadata": {},
   "source": [
    "49. Write a Python program to concatenate 4 given strings."
   ]
  },
  {
   "cell_type": "code",
   "execution_count": 28,
   "metadata": {},
   "outputs": [
    {
     "name": "stdout",
     "output_type": "stream",
     "text": [
      "input 1st string: f\n",
      "input 2nd string: g\n",
      "input 3rd string: g\n",
      "input 4th string: j\n",
      "fggj\n"
     ]
    }
   ],
   "source": [
    "s1 = input(\"input 1st string: \")\n",
    "s2 = input(\"input 2nd string: \")\n",
    "s3 = input(\"input 3rd string: \")\n",
    "s4= input(\"input 4th string: \")\n",
    "x = s1+s2+s3+s4\n",
    "print(x)"
   ]
  },
  {
   "cell_type": "markdown",
   "metadata": {},
   "source": [
    "50. Write a Python program to check if a string is numeric (all it’s values are numeric)."
   ]
  },
  {
   "cell_type": "code",
   "execution_count": 23,
   "metadata": {},
   "outputs": [
    {
     "name": "stdout",
     "output_type": "stream",
     "text": [
      "input a string: 2\n",
      "it is a numeric string\n"
     ]
    }
   ],
   "source": [
    "string = input(\"input a string: \")\n",
    "for i in string:\n",
    "    if i.isdigit():\n",
    "        print(\"it is a numeric string\")\n",
    "    else:\n",
    "        print(\"it is a not numeric string\")"
   ]
  },
  {
   "cell_type": "markdown",
   "metadata": {},
   "source": [
    "51. Write a Python program to clear the screen or terminal."
   ]
  },
  {
   "cell_type": "code",
   "execution_count": null,
   "metadata": {},
   "outputs": [],
   "source": [
    "################################################"
   ]
  },
  {
   "cell_type": "markdown",
   "metadata": {},
   "source": [
    "52. Write a Python program to check if a number is positive, negative or zero."
   ]
  },
  {
   "cell_type": "code",
   "execution_count": 30,
   "metadata": {},
   "outputs": [
    {
     "name": "stdout",
     "output_type": "stream",
     "text": [
      "enter any number: 5\n",
      "positive\n"
     ]
    }
   ],
   "source": [
    "num = float(input(\"enter any number: \"))\n",
    "if num>0:\n",
    "    print(\"positive\")\n",
    "elif num == 0:\n",
    "    print(\"zero\")\n",
    "else:\n",
    "    print(\"negative\")"
   ]
  },
  {
   "cell_type": "markdown",
   "metadata": {},
   "source": [
    "53. Write a Python program to input a number, if it is not a number generate an error message."
   ]
  },
  {
   "cell_type": "code",
   "execution_count": 21,
   "metadata": {},
   "outputs": [
    {
     "name": "stdout",
     "output_type": "stream",
     "text": [
      "input a number: 55\n"
     ]
    }
   ],
   "source": [
    "while True:\n",
    "    x = int(input(\"input a number: \"))\n",
    "    break"
   ]
  },
  {
   "cell_type": "markdown",
   "metadata": {},
   "source": [
    "54. Write a Python program to prove that two string variables of same value point same memory\n",
    "location."
   ]
  },
  {
   "cell_type": "code",
   "execution_count": 24,
   "metadata": {},
   "outputs": [
    {
     "name": "stdout",
     "output_type": "stream",
     "text": [
      "input the 1st string: python\n",
      "input the 2nd string: python\n",
      "memory location of str1: 0x1792a69bbc8\n",
      "memory location of str2: 0x1792a69ba08\n"
     ]
    }
   ],
   "source": [
    "str1 = input(\"input the 1st string: \")\n",
    "str2 = input(\"input the 2nd string: \")\n",
    "print('memory location of str1:', hex(id(str1)) )\n",
    "print('memory location of str2:' ,hex(id(str2)) )"
   ]
  },
  {
   "cell_type": "markdown",
   "metadata": {},
   "source": [
    "55. Write a Python program to prove that two string variables are equals."
   ]
  },
  {
   "cell_type": "code",
   "execution_count": 28,
   "metadata": {},
   "outputs": [
    {
     "name": "stdout",
     "output_type": "stream",
     "text": [
      "input the 1st string: g\n",
      "input the 2nd string: g\n",
      "print the two strings are equal\n"
     ]
    }
   ],
   "source": [
    "x = input(\"input the 1st string: \")\n",
    "y = input(\"input the 2nd string: \")\n",
    "if x == y:\n",
    "    print(\"print the two strings are equal\")\n",
    "else:\n",
    "    print(\"print the two strings are not equal\")\n",
    "\n",
    "    \n"
   ]
  },
  {
   "cell_type": "markdown",
   "metadata": {},
   "source": [
    "56. Write a Python program to empty a variable without destroying it. Sample data:\n",
    "n=20\n",
    "Expected Output : None"
   ]
  },
  {
   "cell_type": "code",
   "execution_count": 32,
   "metadata": {},
   "outputs": [
    {
     "name": "stdout",
     "output_type": "stream",
     "text": [
      "0\n"
     ]
    }
   ],
   "source": [
    "n = 20\n",
    "print(type(n)())"
   ]
  },
  {
   "cell_type": "markdown",
   "metadata": {},
   "source": [
    "57. Write a Python program to check if lowercase letters exist in a string."
   ]
  },
  {
   "cell_type": "code",
   "execution_count": 2,
   "metadata": {},
   "outputs": [
    {
     "name": "stdout",
     "output_type": "stream",
     "text": [
      "input a string: DAFSDG\n",
      "False\n"
     ]
    }
   ],
   "source": [
    "string = input(\"input a string: \")\n",
    "print(string.islower())\n"
   ]
  },
  {
   "cell_type": "markdown",
   "metadata": {},
   "source": [
    "58. Write a Python program to add leading zeroes to a string."
   ]
  },
  {
   "cell_type": "code",
   "execution_count": 36,
   "metadata": {},
   "outputs": [
    {
     "name": "stdout",
     "output_type": "stream",
     "text": [
      "enter a string: b\n",
      "b0000\n"
     ]
    }
   ],
   "source": [
    "st1 = input(\"enter a string: \")\n",
    "st1 = st1.ljust(5,'0')\n",
    "print(st1)"
   ]
  },
  {
   "cell_type": "markdown",
   "metadata": {},
   "source": [
    "59. Write a Python program to calculate the time runs (difference between start and current time)\n",
    "of a program."
   ]
  },
  {
   "cell_type": "code",
   "execution_count": null,
   "metadata": {},
   "outputs": [],
   "source": [
    "##############################################"
   ]
  },
  {
   "cell_type": "markdown",
   "metadata": {},
   "source": [
    "60. Write a Python program to convert an integer to binary keep leading zeros.\n",
    "Sample data : 50\n",
    "Expected output : 00001100, 0000001100"
   ]
  },
  {
   "cell_type": "code",
   "execution_count": 8,
   "metadata": {},
   "outputs": [
    {
     "name": "stdout",
     "output_type": "stream",
     "text": [
      "00000001100\n"
     ]
    }
   ],
   "source": [
    "x = 12\n",
    "print(format(x,'011b'))\n"
   ]
  },
  {
   "cell_type": "markdown",
   "metadata": {},
   "source": [
    "61. Write a Python program to input two integers in a single line."
   ]
  },
  {
   "cell_type": "code",
   "execution_count": 14,
   "metadata": {},
   "outputs": [
    {
     "name": "stdout",
     "output_type": "stream",
     "text": [
      "input 1st integer:5\n",
      "input 2nd integer:5\n"
     ]
    }
   ],
   "source": [
    "x = input(\"input 1st integer:\");y = input(\"input 2nd integer:\")"
   ]
  },
  {
   "cell_type": "markdown",
   "metadata": {},
   "source": [
    "62. Write a python program to convert decimal to hexadecimal.\n",
    "Sample decimal number: 30, 4\n",
    "Expected output: 1e, 04"
   ]
  },
  {
   "cell_type": "code",
   "execution_count": 21,
   "metadata": {},
   "outputs": [
    {
     "name": "stdout",
     "output_type": "stream",
     "text": [
      "0xa\n"
     ]
    }
   ],
   "source": [
    "x = int(input('enter a number: '))\n",
    "x = hex(x)\n",
    "print(x)\n"
   ]
  },
  {
   "cell_type": "markdown",
   "metadata": {},
   "source": [
    "63. Write a Python function to find the maximum and minimum numbers from a sequence of\n",
    "numbers.\n",
    "Note: Do not use built-in functions."
   ]
  },
  {
   "cell_type": "code",
   "execution_count": 30,
   "metadata": {},
   "outputs": [
    {
     "name": "stdout",
     "output_type": "stream",
     "text": [
      "93 -78\n"
     ]
    }
   ],
   "source": [
    "data = [11,10,15,20,93,-78,5]\n",
    "max = 0\n",
    "min = 0\n",
    "for num in range(len(data)):\n",
    "    if data[num] > max:\n",
    "        max = data[num]\n",
    "    elif data[num] <min :\n",
    "        min = data[num]\n",
    "print(max,min)        \n",
    "        "
   ]
  }
 ],
 "metadata": {
  "kernelspec": {
   "display_name": "Python 3",
   "language": "python",
   "name": "python3"
  },
  "language_info": {
   "codemirror_mode": {
    "name": "ipython",
    "version": 3
   },
   "file_extension": ".py",
   "mimetype": "text/x-python",
   "name": "python",
   "nbconvert_exporter": "python",
   "pygments_lexer": "ipython3",
   "version": "3.7.3"
  }
 },
 "nbformat": 4,
 "nbformat_minor": 2
}
