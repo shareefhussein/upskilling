{
 "cells": [
  {
   "cell_type": "markdown",
   "metadata": {},
   "source": [
    "1. Write a Python function to check whether a number is perfect or not.\n",
    "According to Wikipedia : In number theory, a perfect number is a positive integer that is equal\n",
    "to the sum of its proper positive divisors, that is, the sum of its positive divisors excluding the\n",
    "number itself (also known as its aliquot sum). Equivalently, a perfect number is a number that\n",
    "is half the sum of all of its positive divisors (including itself).\n",
    "Example : 6, because 1, 2, and 3 are its proper positive divisors, and 1 + 2 + 3 = 6."
   ]
  },
  {
   "cell_type": "code",
   "execution_count": 22,
   "metadata": {},
   "outputs": [
    {
     "name": "stdout",
     "output_type": "stream",
     "text": [
      "input the number: 28\n",
      "this number is perfect\n"
     ]
    }
   ],
   "source": [
    "def factors(x):\n",
    "    x =int(input(\"input the number: \"))\n",
    "    sum = 0\n",
    "    for i in range(1,x):\n",
    "        if (x % i == 0):\n",
    "            sum = sum+i\n",
    "    if (sum==x):\n",
    "        print('this number is perfect')\n",
    "    else:\n",
    "        print('this number is not perfect')\n",
    "\n",
    "factors(num)"
   ]
  },
  {
   "cell_type": "markdown",
   "metadata": {},
   "source": [
    "2. Write a Python function that accepts a hyphen-separated sequence of words as input and prints\n",
    "the words in a hyphen-separated sequence after sorting them alphabetically.\n",
    "Sample Items : green-red-yellow-black-white\n",
    "Expected Result : black-green-red-white-yellow"
   ]
  },
  {
   "cell_type": "code",
   "execution_count": 1,
   "metadata": {},
   "outputs": [
    {
     "name": "stdout",
     "output_type": "stream",
     "text": [
      "input the stringviolet-green-blue-yellow-black\n",
      "black-blue-green-violet-yellow\n"
     ]
    }
   ],
   "source": [
    "def sortthestring(items):\n",
    "    items = items.split('-')\n",
    "    items.sort()\n",
    "    print('-'.join(items))\n",
    "    \n",
    "x = input(\"input the string\")   \n",
    "sortthestring(x)    "
   ]
  },
  {
   "cell_type": "markdown",
   "metadata": {},
   "source": [
    "3. Write a Python function to check whether a string is a pangram or not.\n",
    "Note : Pangrams are words or sentences containing every letter of the alphabet at least once.\n",
    "For example : ”The quick brown fox jumps over the lazy dog”"
   ]
  },
  {
   "cell_type": "code",
   "execution_count": 108,
   "metadata": {},
   "outputs": [
    {
     "name": "stdout",
     "output_type": "stream",
     "text": [
      "enter any string: abc\n",
      "False\n"
     ]
    }
   ],
   "source": [
    "import string\n",
    "def alpha(string):\n",
    "    alphabet = 'abcdefghijklmnopqrstuvwxyz'\n",
    "    for char in alphabet:\n",
    "        if char not in string.lower():\n",
    "            return False\n",
    "    return True\n",
    "x = input(\"enter any string: \")\n",
    "print(alpha(x))\n",
    "            "
   ]
  },
  {
   "cell_type": "markdown",
   "metadata": {},
   "source": [
    "4. Write a Python function that accepts a string and calculate the number of upper case letters\n",
    "and lower case letters.\n",
    "Sample String : ’The quick Brow Fox’\n",
    "Expected Output :\n",
    "No. of Upper case characters : 3\n",
    "No. of Lower case Characters : 12"
   ]
  },
  {
   "cell_type": "code",
   "execution_count": 24,
   "metadata": {},
   "outputs": [
    {
     "name": "stdout",
     "output_type": "stream",
     "text": [
      "input a string: AAAxxxAx\n",
      "number of lowercase letters:  4\n",
      "number of uppercase letters:  4\n"
     ]
    }
   ],
   "source": [
    "def count_letters(string):\n",
    "    countlower = 0\n",
    "    countupper = 0\n",
    "    for y in str(string):\n",
    "        if (y.islower()):\n",
    "            countlower=countlower+1 \n",
    "        else:\n",
    "            countupper=countupper+1\n",
    "    print('number of lowercase letters: ',countlower) \n",
    "    print('number of uppercase letters: ',countupper)\n",
    "\n",
    "\n",
    "x = input('input a string: ')\n",
    "count_letters(x)"
   ]
  },
  {
   "cell_type": "markdown",
   "metadata": {},
   "source": [
    "5. Write a Python function to get the sum of a non-negative integer. (using recursion); Test Data:\n",
    "sumDigits(345) = 12\n",
    "sumDigits(45) = 9"
   ]
  },
  {
   "cell_type": "code",
   "execution_count": 39,
   "metadata": {},
   "outputs": [
    {
     "name": "stdout",
     "output_type": "stream",
     "text": [
      "1\n",
      "9\n"
     ]
    }
   ],
   "source": [
    "def sumDigits(n):\n",
    "\n",
    "    if n==0:\n",
    "        return 0\n",
    "    else:\n",
    "        return n% 10+ sumDigits(int(n/10))\n",
    "    \n",
    "print(sumDigits(10))\n",
    "print(sumDigits(45))"
   ]
  },
  {
   "cell_type": "markdown",
   "metadata": {},
   "source": [
    "6. Write a Python function to find the greatest common divisor (gcd) of two integers. (using\n",
    "recursion)"
   ]
  },
  {
   "cell_type": "code",
   "execution_count": null,
   "metadata": {},
   "outputs": [],
   "source": [
    "def gcd(a,b):\n",
    "    if(b == 0):\n",
    "        return a\n",
    "    else:\n",
    "        return gcd(b,a%b)\n",
    "a = int(input(\"input 1st number: \"))\n",
    "b = int(input(\"input 2nd number: \"))\n",
    "GCD = gcd(a,b)\n",
    "print(\"GCD is: \" )\n",
    "print(int(GCD))"
   ]
  },
  {
   "cell_type": "markdown",
   "metadata": {},
   "source": [
    "7. Write a Python function to find the (LCM) of two integers."
   ]
  },
  {
   "cell_type": "code",
   "execution_count": 8,
   "metadata": {},
   "outputs": [
    {
     "name": "stdout",
     "output_type": "stream",
     "text": [
      "216\n"
     ]
    }
   ],
   "source": [
    "def lcm(x,y):\n",
    "    if x>y:\n",
    "        greater = x\n",
    "    else:\n",
    "        greater = y\n",
    "    while(True):\n",
    "        if((greater%x==0)) and (greater%y==0):\n",
    "            lcm = greater\n",
    "            break\n",
    "        greater += 1\n",
    "    return lcm\n",
    "num1= 54\n",
    "num2= 24\n",
    "\n",
    "print(lcm(num1,num2))"
   ]
  },
  {
   "cell_type": "markdown",
   "metadata": {},
   "source": [
    "8. Write a Python function that prints out the first n rows of Pascal’s triangle. (using recursion)"
   ]
  },
  {
   "cell_type": "code",
   "execution_count": 10,
   "metadata": {},
   "outputs": [
    {
     "name": "stdout",
     "output_type": "stream",
     "text": [
      "input rows number: 5\n",
      "[1]\n",
      "[1, 1]\n",
      "[1, 2, 1]\n",
      "[1, 3, 3, 1]\n",
      "[1, 4, 6, 4, 1]\n",
      "None\n"
     ]
    }
   ],
   "source": [
    "def pascal_tri(n):\n",
    "    row = [1]\n",
    "    y = [0]\n",
    "    for x in range(n):\n",
    "        print(row)\n",
    "        row = [y+row for y,row in zip(y+row,row+y)]\n",
    "        \n",
    "\n",
    "n = int(input(\"input rows number: \"))\n",
    "print(pascal_tri(n)) "
   ]
  },
  {
   "cell_type": "markdown",
   "metadata": {},
   "source": [
    "9. Write a Python program to get the current value of the recursion limit."
   ]
  },
  {
   "cell_type": "code",
   "execution_count": 17,
   "metadata": {},
   "outputs": [
    {
     "name": "stdout",
     "output_type": "stream",
     "text": [
      "the current value of recursion: 3000\n"
     ]
    }
   ],
   "source": [
    "import sys\n",
    "print(\"the current value of recursion:\", sys.getrecursionlimit())"
   ]
  },
  {
   "cell_type": "markdown",
   "metadata": {},
   "source": [
    "10. Write a Python program to get numbers divisible by fifteen from a list using an anonymous\n",
    "function."
   ]
  },
  {
   "cell_type": "code",
   "execution_count": 17,
   "metadata": {},
   "outputs": [
    {
     "name": "stdout",
     "output_type": "stream",
     "text": [
      "[15, 30, 630]\n"
     ]
    }
   ],
   "source": [
    "lst = [15,30,25,98,630,54,523]\n",
    "result = list(filter(lambda x:(x%15 == 0), lst))\n",
    "print(result)"
   ]
  },
  {
   "cell_type": "markdown",
   "metadata": {},
   "source": [
    "11. Write a Python function to filter the positive numbers from a list."
   ]
  },
  {
   "cell_type": "code",
   "execution_count": 2,
   "metadata": {},
   "outputs": [
    {
     "name": "stdout",
     "output_type": "stream",
     "text": [
      "the positive numbers in my_list: [20, 74, 50]\n"
     ]
    }
   ],
   "source": [
    "my_list = [-1,20,-4,-89,74,50]\n",
    "result = list(filter(lambda x: (x>0), my_list))\n",
    "print('the positive numbers in my_list:', result)"
   ]
  },
  {
   "cell_type": "markdown",
   "metadata": {},
   "source": [
    "12. Write a Python function to compute the product of a list of integers."
   ]
  },
  {
   "cell_type": "code",
   "execution_count": 11,
   "metadata": {},
   "outputs": [
    {
     "name": "stdout",
     "output_type": "stream",
     "text": [
      "the product of the list elements is: 628992\n"
     ]
    }
   ],
   "source": [
    " import functools\n",
    "lis = [1,2,56,8,78,9]\n",
    "print(\"the product of the list elements is:\" ,end=\" \")\n",
    "print(functools.reduce(lambda x,y: x*y, lis))    "
   ]
  },
  {
   "cell_type": "markdown",
   "metadata": {},
   "source": [
    "13. A palindromic number reads the same both ways. The largest palindrome made from the\n",
    "product of two 2-digit numbers is 9009 = 91 × 99.\n",
    "Write a Python function to find the largest palindrome made from the product of two 3-digit\n",
    "numbers."
   ]
  },
  {
   "cell_type": "code",
   "execution_count": 88,
   "metadata": {},
   "outputs": [
    {
     "name": "stdout",
     "output_type": "stream",
     "text": [
      "palindrome: 9009\n",
      "None\n"
     ]
    }
   ],
   "source": [
    "def palind(a,b):\n",
    "    n = a*b\n",
    "    temp = n\n",
    "    rev = 0\n",
    "    while(n>0):\n",
    "        digit = n % 10\n",
    "        rev = rev*10 +digit\n",
    "        n = n//10\n",
    "        if (temp==rev):\n",
    "            print('palindrome:', temp)           \n",
    "x1 = 99\n",
    "x2 = 91\n",
    "\n",
    "print(palind(x1,x2))"
   ]
  },
  {
   "cell_type": "markdown",
   "metadata": {},
   "source": [
    "14. The number, 197, is called a circular prime because all rotations of the digits: 197, 971, and\n",
    "719, are themselves prime.\n",
    "There are thirteen such primes below 100: 2, 3, 5, 7, 11, 13, 17, 31, 37, 71, 73, 79, and 97.\n",
    "Write a Python function to find How many circular primes are there below one million? and\n",
    "print them."
   ]
  },
  {
   "cell_type": "code",
   "execution_count": null,
   "metadata": {},
   "outputs": [],
   "source": []
  },
  {
   "cell_type": "markdown",
   "metadata": {},
   "source": [
    "15. Let d(n) be defined as the sum of proper divisors of n (numbers less than n which divide evenly\n",
    "into n).\n",
    "If d(a) = b and d(b) = a, where a ! = b, then a and b are an amicable pair and each of a and\n",
    "b are called amicable numbers.\n",
    "For example, the proper divisors of 220 are 1, 2, 4, 5, 10, 11, 20, 22, 44, 55 and 110; therefore\n",
    "d(220) = 284. The proper divisors of 284 are 1, 2, 4, 71 and 142; so d(284) = 220.\n",
    "Write a Python function to evaluate the sum of all the amicable numbers under 10000."
   ]
  },
  {
   "cell_type": "code",
   "execution_count": null,
   "metadata": {},
   "outputs": [],
   "source": []
  },
  {
   "cell_type": "markdown",
   "metadata": {},
   "source": [
    "16. In England the currency is made up of pound, £, and pence, p, and there are eight coins in\n",
    "general circulation:\n",
    "1p, 2p, 5p, 10p, 20p, 50p, £1 (100p) and £2 (200p).\n",
    "It is possible to make £2 in the following way:\n",
    "1×£1 + 1×50p + 2×20p + 1×5p + 1×2p + 3×1p\n",
    "Write a Python function to find How many different ways can £2 be made using any number\n",
    "of coins?"
   ]
  },
  {
   "cell_type": "code",
   "execution_count": null,
   "metadata": {},
   "outputs": [],
   "source": []
  },
  {
   "cell_type": "markdown",
   "metadata": {},
   "source": [
    "17. Given 3 poles (A, B, C) with N disks stacked on A, move all the disks from A to C such that a\n",
    "disk with a larger radius is always below a disk with a smaller one. Only 1 disk can be moved\n",
    "at a time."
   ]
  },
  {
   "cell_type": "code",
   "execution_count": 109,
   "metadata": {},
   "outputs": [
    {
     "name": "stdout",
     "output_type": "stream",
     "text": [
      "move disk 1 from rod A to_rod C\n",
      "move disk 2 from rod A to_rod B\n",
      "move disk 1 from rod C to_rod B\n",
      "move disk 3 from rod A to_rod C\n",
      "move disk 1 from rod B to_rod A\n",
      "move disk 2 from rod B to_rod C\n",
      "move disk 1 from rod A to_rod C\n"
     ]
    }
   ],
   "source": [
    "def T( n , from_rod , to_rod , out_rod ):\n",
    "    if n == 1:\n",
    "        print(\"move disk 1 from rod\",from_rod,'to_rod',to_rod)\n",
    "        return\n",
    "    T(n-1,from_rod,out_rod,to_rod)\n",
    "    print(\"move disk\",n,\"from rod\",from_rod,'to_rod',to_rod)\n",
    "    T( n-1 , out_rod , to_rod , from_rod )\n",
    "n = 3\n",
    "T(n,'A','C','B')\n"
   ]
  }
 ],
 "metadata": {
  "kernelspec": {
   "display_name": "Python 3",
   "language": "python",
   "name": "python3"
  },
  "language_info": {
   "codemirror_mode": {
    "name": "ipython",
    "version": 3
   },
   "file_extension": ".py",
   "mimetype": "text/x-python",
   "name": "python",
   "nbconvert_exporter": "python",
   "pygments_lexer": "ipython3",
   "version": "3.7.3"
  }
 },
 "nbformat": 4,
 "nbformat_minor": 2
}
